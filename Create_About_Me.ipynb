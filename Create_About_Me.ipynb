{
 "cells": [
  {
   "cell_type": "markdown",
   "metadata": {},
   "source": [
    "#  About Me Data Prep"
   ]
  },
  {
   "cell_type": "code",
   "execution_count": 10,
   "metadata": {},
   "outputs": [
    {
     "name": "stderr",
     "output_type": "stream",
     "text": [
      "\n",
      "UPGRADE AVAILABLE\n",
      "\n",
      "A more recent version of the Synapse Client (2.0.0) is available. Your version (1.9.4) can be upgraded by typing:\n",
      "    pip install --upgrade synapseclient\n",
      "\n",
      "Python Synapse Client version 2.0.0 release notes\n",
      "\n",
      "https://python-docs.synapse.org/build/html/news.html\n",
      "\n"
     ]
    },
    {
     "name": "stdout",
     "output_type": "stream",
     "text": [
      "Welcome, Sean Deering!\n",
      "\n"
     ]
    }
   ],
   "source": [
    "import datetime as dt\n",
    "import numpy as np\n",
    "import pandas as pd\n",
    "import matplotlib.pyplot as plt\n",
    "from IPython.core.interactiveshell import InteractiveShell\n",
    "import synapseclient\n",
    "from synapseclient import Activity, Schema, Table, as_table_columns\n",
    "\n",
    "InteractiveShell.ast_node_interactivity = 'all'\n",
    "syn = synapseclient.Synapse()\n",
    "syn.login()"
   ]
  },
  {
   "cell_type": "markdown",
   "metadata": {},
   "source": [
    "### Get Raw About Me Data"
   ]
  },
  {
   "cell_type": "code",
   "execution_count": 11,
   "metadata": {},
   "outputs": [],
   "source": [
    "aboutme_raw_id = 'syn7115681'\n",
    "aboutme = pd.read_csv(syn.get(aboutme_raw_id).path)"
   ]
  },
  {
   "cell_type": "markdown",
   "metadata": {},
   "source": [
    "### Remove duplicated data"
   ]
  },
  {
   "cell_type": "code",
   "execution_count": null,
   "metadata": {},
   "outputs": [],
   "source": [
    "#remove data points that are identical but appear more than once\n",
    "len(aboutme)\n",
    "aboutme = aboutme.drop_duplicates(keep='first')"
   ]
  },
  {
   "cell_type": "code",
   "execution_count": null,
   "metadata": {},
   "outputs": [],
   "source": [
    "len(aboutme)"
   ]
  },
  {
   "cell_type": "markdown",
   "metadata": {},
   "source": [
    "### Process About Me Data"
   ]
  },
  {
   "cell_type": "code",
   "execution_count": 13,
   "metadata": {},
   "outputs": [],
   "source": [
    "# drop uneeded columns\n",
    "aboutme = aboutme.drop(columns=['Birthdate','race2'])\n",
    "# rename columns\n",
    "aboutme = aboutme.rename(columns={'Income':'income'})\n",
    "\n",
    "#remove brackets\n",
    "def remove_brackets(col):\n",
    "    return( col.astype(str).str.replace(']', '').str.replace('[',''))\n",
    "aboutme.alcohol = remove_brackets(aboutme.alcohol)\n",
    "aboutme.basic_expenses = remove_brackets(aboutme.basic_expenses)\n",
    "aboutme.daily_activities = remove_brackets(aboutme.daily_activities)\n",
    "aboutme.daily_smoking = remove_brackets(aboutme.daily_smoking)\n",
    "aboutme.education = remove_brackets(aboutme.education)\n",
    "aboutme.flexible_work_hours = remove_brackets(aboutme.flexible_work_hours)\n",
    "aboutme.gender = remove_brackets(aboutme.gender)\n",
    "aboutme.good_life = remove_brackets(aboutme.good_life)\n",
    "aboutme.hispanic = remove_brackets(aboutme.hispanic)\n",
    "aboutme.income = remove_brackets(aboutme.income)\n",
    "aboutme.marital = remove_brackets(aboutme.marital)\n",
    "aboutme.race = remove_brackets(aboutme.race)\n",
    "aboutme.smoking_status = remove_brackets(aboutme.smoking_status)\n",
    "aboutme.menopause = remove_brackets(aboutme.menopause)\n",
    "aboutme.recent_births = remove_brackets(aboutme.recent_births)\n",
    "aboutme.current_pregnant = remove_brackets(aboutme.current_pregnant)\n",
    "aboutme.work_schedule = remove_brackets(aboutme.work_schedule)\n",
    "\n",
    "#Replace white space with NaN\n",
    "aboutme = aboutme.replace(r'^\\s*$', np.nan, regex=True)"
   ]
  },
  {
   "cell_type": "markdown",
   "metadata": {},
   "source": [
    "### Filter based on age"
   ]
  },
  {
   "cell_type": "code",
   "execution_count": 14,
   "metadata": {},
   "outputs": [],
   "source": [
    "underage_participants = pd.read_csv( syn.get('syn21905452').path, sep=\"\\t\")\n",
    "aboutme = aboutme[~aboutme.participantId.isin(underage_participants.participantId)]"
   ]
  },
  {
   "cell_type": "markdown",
   "metadata": {},
   "source": [
    "### Remove Test Accounts"
   ]
  },
  {
   "cell_type": "code",
   "execution_count": 15,
   "metadata": {},
   "outputs": [],
   "source": [
    "test_accounts = pd.read_excel(syn.get('syn21958537').path)\n",
    "\n",
    "aboutme = aboutme[~aboutme.participantId.isin(test_accounts.participantId)]"
   ]
  },
  {
   "cell_type": "markdown",
   "metadata": {},
   "source": [
    "### Clean About Me Data (We have included recommended thresholds for data cleaning, but full data is provided except where doing so could compromise privacy)."
   ]
  },
  {
   "cell_type": "markdown",
   "metadata": {},
   "source": [
    "### Clean Weight Data"
   ]
  },
  {
   "cell_type": "code",
   "execution_count": 16,
   "metadata": {},
   "outputs": [
    {
     "data": {
      "text/plain": [
       "count    8922.000000\n",
       "mean      190.796682\n",
       "std        53.847247\n",
       "min        50.000000\n",
       "25%       155.000000\n",
       "50%       183.000000\n",
       "75%       218.000000\n",
       "max       557.000000\n",
       "Name: weight, dtype: float64"
      ]
     },
     "execution_count": 16,
     "metadata": {},
     "output_type": "execute_result"
    }
   ],
   "source": [
    "aboutme.weight.describe()"
   ]
  },
  {
   "cell_type": "code",
   "execution_count": 17,
   "metadata": {},
   "outputs": [
    {
     "data": {
      "text/plain": [
       "0.010    100.210\n",
       "0.050    120.000\n",
       "0.500    183.000\n",
       "0.600    195.000\n",
       "0.800    228.000\n",
       "0.850    240.000\n",
       "0.900    260.000\n",
       "0.950    290.000\n",
       "0.970    310.000\n",
       "0.990    364.790\n",
       "0.999    499.711\n",
       "1.000    557.000\n",
       "Name: weight, dtype: float64"
      ]
     },
     "execution_count": 17,
     "metadata": {},
     "output_type": "execute_result"
    }
   ],
   "source": [
    "aboutme.weight.quantile([.01, .05, .5, .6, .8, .85, .90, .95, .97, 0.99, 0.999, 1])"
   ]
  },
  {
   "cell_type": "code",
   "execution_count": 18,
   "metadata": {},
   "outputs": [],
   "source": [
    "#Filter odd data \n",
    "## If the weight is less than 80lbs or above 350bs, exclude (chosen based on threshold established in Asthma Data Descriptor).\n",
    "aboutme.weight[ (aboutme.weight < 80) |  (aboutme.weight > 350) ] = 'CENSORED'"
   ]
  },
  {
   "cell_type": "code",
   "execution_count": 19,
   "metadata": {},
   "outputs": [
    {
     "data": {
      "text/plain": [
       "185.0    234\n",
       "170.0    211\n",
       "160.0    208\n",
       "180.0    202\n",
       "165.0    200\n",
       "200.0    195\n",
       "175.0    189\n",
       "190.0    184\n",
       "210.0    164\n",
       "195.0    162\n",
       "150.0    162\n",
       "140.0    159\n",
       "220.0    150\n",
       "155.0    144\n",
       "145.0    144\n",
       "135.0    127\n",
       "230.0    126\n",
       "215.0    123\n",
       "130.0    110\n",
       "240.0    110\n",
       "205.0    102\n",
       "225.0     92\n",
       "250.0     91\n",
       "168.0     85\n",
       "125.0     83\n",
       "203.0     80\n",
       "158.0     79\n",
       "178.0     77\n",
       "245.0     73\n",
       "162.0     72\n",
       "        ... \n",
       "399.0      2\n",
       "304.0      2\n",
       "323.0      2\n",
       "407.0      2\n",
       "301.0      2\n",
       "334.0      2\n",
       "414.0      2\n",
       "557.0      2\n",
       "322.0      2\n",
       "439.0      1\n",
       "317.0      1\n",
       "308.0      1\n",
       "87.0       1\n",
       "291.0      1\n",
       "324.0      1\n",
       "511.0      1\n",
       "99.0       1\n",
       "328.0      1\n",
       "338.0      1\n",
       "347.0      1\n",
       "381.0      1\n",
       "382.0      1\n",
       "397.0      1\n",
       "478.0      1\n",
       "470.0      1\n",
       "402.0      1\n",
       "409.0      1\n",
       "411.0      1\n",
       "417.0      1\n",
       "332.0      1\n",
       "Name: weight, Length: 302, dtype: int64"
      ]
     },
     "execution_count": 19,
     "metadata": {},
     "output_type": "execute_result"
    }
   ],
   "source": [
    "aboutme.weight.value_counts()"
   ]
  },
  {
   "cell_type": "markdown",
   "metadata": {},
   "source": [
    "### Clean caffeine data"
   ]
  },
  {
   "cell_type": "code",
   "execution_count": 20,
   "metadata": {},
   "outputs": [
    {
     "data": {
      "text/plain": [
       "count    9042.000000\n",
       "mean        3.289648\n",
       "std         4.866727\n",
       "min         0.000000\n",
       "25%         1.000000\n",
       "50%         2.000000\n",
       "75%         4.000000\n",
       "max        50.000000\n",
       "Name: caffeine, dtype: float64"
      ]
     },
     "execution_count": 20,
     "metadata": {},
     "output_type": "execute_result"
    }
   ],
   "source": [
    "aboutme.caffeine.describe()"
   ]
  },
  {
   "cell_type": "code",
   "execution_count": 21,
   "metadata": {},
   "outputs": [
    {
     "data": {
      "text/plain": [
       "0.010     0.0\n",
       "0.050     0.0\n",
       "0.500     2.0\n",
       "0.600     3.0\n",
       "0.800     4.0\n",
       "0.850     5.0\n",
       "0.900     6.0\n",
       "0.950    10.0\n",
       "0.970    16.0\n",
       "0.990    24.0\n",
       "0.999    50.0\n",
       "1.000    50.0\n",
       "Name: caffeine, dtype: float64"
      ]
     },
     "execution_count": 21,
     "metadata": {},
     "output_type": "execute_result"
    }
   ],
   "source": [
    "aboutme.caffeine.quantile([.01, .05, .5, .6, .8, .85, .90, .95, .97, 0.99, 0.999, 1])"
   ]
  },
  {
   "cell_type": "code",
   "execution_count": 22,
   "metadata": {},
   "outputs": [],
   "source": [
    "#remove caffeine intake above 99th percentile, in this case is 24.\n",
    "#aboutme.caffeine[aboutme.caffeine > 24 ] = 'LOW DATA QUALITY'"
   ]
  },
  {
   "cell_type": "code",
   "execution_count": 23,
   "metadata": {},
   "outputs": [
    {
     "data": {
      "text/plain": [
       "2.0                 2424\n",
       "1.0                 1687\n",
       "3.0                 1498\n",
       "0.0                 1114\n",
       "4.0                  854\n",
       "5.0                  475\n",
       "6.0                  311\n",
       "8.0                  174\n",
       "LOW DATA QUALITY      90\n",
       "12.0                  85\n",
       "24.0                  80\n",
       "10.0                  80\n",
       "16.0                  65\n",
       "20.0                  42\n",
       "7.0                   29\n",
       "9.0                   11\n",
       "18.0                   9\n",
       "15.0                   7\n",
       "14.0                   4\n",
       "13.0                   2\n",
       "21.0                   1\n",
       "Name: caffeine, dtype: int64"
      ]
     },
     "execution_count": 23,
     "metadata": {},
     "output_type": "execute_result"
    }
   ],
   "source": [
    "aboutme.caffeine.value_counts()"
   ]
  },
  {
   "cell_type": "markdown",
   "metadata": {},
   "source": [
    "### Create Internal & External Copies of the Data"
   ]
  },
  {
   "cell_type": "code",
   "execution_count": 24,
   "metadata": {},
   "outputs": [
    {
     "data": {
      "text/plain": [
       "(5581, 21)"
      ]
     },
     "execution_count": 24,
     "metadata": {},
     "output_type": "execute_result"
    }
   ],
   "source": [
    "#download the data \n",
    "sharing_info = pd.read_excel(syn.get('syn21958546').path)\n",
    "healthCodes_with_broadsharing = sharing_info[sharing_info.sharing == 'all_qualified_researchers']\n",
    "\n",
    "EXTERNAL_ABOUTME_DATA = aboutme[aboutme.participantId.isin(healthCodes_with_broadsharing['participant id'])]\n",
    "EXTERNAL_ABOUTME_DATA.shape"
   ]
  },
  {
   "cell_type": "markdown",
   "metadata": {},
   "source": [
    "### Total number of unique participants"
   ]
  },
  {
   "cell_type": "code",
   "execution_count": 25,
   "metadata": {},
   "outputs": [
    {
     "data": {
      "text/plain": [
       "3262"
      ]
     },
     "execution_count": 25,
     "metadata": {},
     "output_type": "execute_result"
    }
   ],
   "source": [
    "len(EXTERNAL_ABOUTME_DATA.participantId.unique())"
   ]
  },
  {
   "cell_type": "markdown",
   "metadata": {},
   "source": [
    "### Total number of observations"
   ]
  },
  {
   "cell_type": "code",
   "execution_count": 26,
   "metadata": {},
   "outputs": [
    {
     "data": {
      "text/plain": [
       "5581"
      ]
     },
     "execution_count": 26,
     "metadata": {},
     "output_type": "execute_result"
    }
   ],
   "source": [
    "len(EXTERNAL_ABOUTME_DATA)"
   ]
  },
  {
   "cell_type": "markdown",
   "metadata": {},
   "source": [
    "### External - Upload to Synapse"
   ]
  },
  {
   "cell_type": "code",
   "execution_count": 27,
   "metadata": {},
   "outputs": [
    {
     "data": {
      "text/plain": [
       "<synapseclient.table.CsvFileTable at 0x1091ec750>"
      ]
     },
     "execution_count": 27,
     "metadata": {},
     "output_type": "execute_result"
    }
   ],
   "source": [
    "SH_EXTERNAL_PROJECT = 'syn18492837'\n",
    "table_schema_external = Schema(name='About Me',\n",
    "                               columns=as_table_columns(EXTERNAL_ABOUTME_DATA),\n",
    "                               parent=SH_EXTERNAL_PROJECT)\n",
    "aboutme_synTable_external = syn.store(Table(table_schema_external,EXTERNAL_ABOUTME_DATA))\n",
    "aboutme_synTable_external"
   ]
  },
  {
   "cell_type": "markdown",
   "metadata": {},
   "source": [
    "### Internal - Upload to Synapse"
   ]
  },
  {
   "cell_type": "code",
   "execution_count": 28,
   "metadata": {},
   "outputs": [],
   "source": [
    "SH_INTERNAL_PROJECT = 'syn7066726'\n",
    "table_schema_internal = Schema(name='About Me Internal',\n",
    "                               columns=as_table_columns(aboutme), \n",
    "                               parent=SH_INTERNAL_PROJECT)\n",
    "aboutme_synTable_internal = syn.store(Table(table_schema_internal,aboutme))"
   ]
  },
  {
   "cell_type": "markdown",
   "metadata": {},
   "source": [
    "### Set Provenance"
   ]
  },
  {
   "cell_type": "code",
   "execution_count": 29,
   "metadata": {},
   "outputs": [
    {
     "data": {
      "text/plain": [
       "{u'createdBy': u'3334346',\n",
       " u'createdOn': u'2020-04-23T16:45:31.271Z',\n",
       " u'description': u'Process and convert raw data to table format',\n",
       " u'etag': u'e36cf63a-3dea-4918-a938-fcc0dec819a7',\n",
       " u'id': u'10233988',\n",
       " u'modifiedBy': u'3334346',\n",
       " u'modifiedOn': u'2020-04-23T16:45:31.271Z',\n",
       " u'name': u'About Me data curation',\n",
       " u'used': [{u'concreteType': u'org.sagebionetworks.repo.model.provenance.UsedURL',\n",
       "   u'name': u'https://github.com/apratap/SleepHealth_Data_Release/blob/master/Create_About_Me.ipynb',\n",
       "   u'url': u'https://github.com/apratap/SleepHealth_Data_Release/blob/master/Create_About_Me.ipynb',\n",
       "   u'wasExecuted': True},\n",
       "  {u'concreteType': u'org.sagebionetworks.repo.model.provenance.UsedEntity',\n",
       "   u'reference': {u'targetId': u'syn7115681', u'targetVersionNumber': 950},\n",
       "   u'wasExecuted': False}]}"
      ]
     },
     "execution_count": 29,
     "metadata": {},
     "output_type": "execute_result"
    },
    {
     "data": {
      "text/plain": [
       "{u'createdBy': u'3334346',\n",
       " u'createdOn': u'2020-04-23T16:45:37.394Z',\n",
       " u'description': u'Process and convert raw data to table format',\n",
       " u'etag': u'091b407b-e86f-4558-8125-651e5f4eb1ab',\n",
       " u'id': u'10233989',\n",
       " u'modifiedBy': u'3334346',\n",
       " u'modifiedOn': u'2020-04-23T16:45:37.394Z',\n",
       " u'name': u'About Me data curation',\n",
       " u'used': [{u'concreteType': u'org.sagebionetworks.repo.model.provenance.UsedURL',\n",
       "   u'name': u'https://github.com/apratap/SleepHealth_Data_Release/blob/master/Create_About_Me.ipynb',\n",
       "   u'url': u'https://github.com/apratap/SleepHealth_Data_Release/blob/master/Create_About_Me.ipynb',\n",
       "   u'wasExecuted': True},\n",
       "  {u'concreteType': u'org.sagebionetworks.repo.model.provenance.UsedEntity',\n",
       "   u'reference': {u'targetId': u'syn7115681', u'targetVersionNumber': 950},\n",
       "   u'wasExecuted': False}]}"
      ]
     },
     "execution_count": 29,
     "metadata": {},
     "output_type": "execute_result"
    }
   ],
   "source": [
    "activity=Activity(name= 'About Me data curation', \n",
    "                  description='Process and convert raw data to table format', \n",
    "                  used=aboutme_raw_id, \n",
    "                  executed='https://github.com/apratap/SleepHealth_Data_Release/blob/master/Create_About_Me.ipynb')\n",
    "#Internal \n",
    "syn.setProvenance(aboutme_synTable_internal, activity)\n",
    "\n",
    "#External\n",
    "syn.setProvenance(aboutme_synTable_external, activity)"
   ]
  }
 ],
 "metadata": {
  "kernelspec": {
   "display_name": "Python 2",
   "language": "python",
   "name": "python2"
  },
  "language_info": {
   "codemirror_mode": {
    "name": "ipython",
    "version": 2
   },
   "file_extension": ".py",
   "mimetype": "text/x-python",
   "name": "python",
   "nbconvert_exporter": "python",
   "pygments_lexer": "ipython2",
   "version": "2.7.17"
  }
 },
 "nbformat": 4,
 "nbformat_minor": 2
}
