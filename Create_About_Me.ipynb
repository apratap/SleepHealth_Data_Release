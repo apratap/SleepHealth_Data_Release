{
 "cells": [
  {
   "cell_type": "markdown",
   "metadata": {},
   "source": [
    "#  About Me Data Prep"
   ]
  },
  {
   "cell_type": "code",
   "execution_count": 1,
   "metadata": {},
   "outputs": [
    {
     "name": "stderr",
     "output_type": "stream",
     "text": [
      "\n",
      "UPGRADE AVAILABLE\n",
      "\n",
      "A more recent version of the Synapse Client (2.0.0) is available. Your version (1.9.4) can be upgraded by typing:\n",
      "    pip install --upgrade synapseclient\n",
      "\n",
      "Python Synapse Client version 2.0.0 release notes\n",
      "\n",
      "https://python-docs.synapse.org/build/html/news.html\n",
      "\n"
     ]
    },
    {
     "name": "stdout",
     "output_type": "stream",
     "text": [
      "Welcome, Sean Deering!\n",
      "\n"
     ]
    }
   ],
   "source": [
    "import datetime as dt\n",
    "import numpy as np\n",
    "import pandas as pd\n",
    "import matplotlib.pyplot as plt\n",
    "from IPython.core.interactiveshell import InteractiveShell\n",
    "import synapseclient\n",
    "from synapseclient import Activity, Schema, Table, as_table_columns\n",
    "\n",
    "InteractiveShell.ast_node_interactivity = 'all'\n",
    "syn = synapseclient.Synapse()\n",
    "syn.login()"
   ]
  },
  {
   "cell_type": "markdown",
   "metadata": {},
   "source": [
    "### Get Raw About Me Data"
   ]
  },
  {
   "cell_type": "code",
   "execution_count": 2,
   "metadata": {},
   "outputs": [],
   "source": [
    "aboutme_raw_id = 'syn7115681'\n",
    "aboutme = pd.read_csv(syn.get(aboutme_raw_id).path)"
   ]
  },
  {
   "cell_type": "markdown",
   "metadata": {},
   "source": [
    "### Remove duplicated data"
   ]
  },
  {
   "cell_type": "code",
   "execution_count": 3,
   "metadata": {},
   "outputs": [
    {
     "data": {
      "text/plain": [
       "9345"
      ]
     },
     "execution_count": 3,
     "metadata": {},
     "output_type": "execute_result"
    }
   ],
   "source": [
    "#remove data points that are identical but appear more than once\n",
    "len(aboutme)\n",
    "aboutme = aboutme.drop_duplicates(keep='first')"
   ]
  },
  {
   "cell_type": "code",
   "execution_count": 4,
   "metadata": {},
   "outputs": [
    {
     "data": {
      "text/plain": [
       "5762"
      ]
     },
     "execution_count": 4,
     "metadata": {},
     "output_type": "execute_result"
    }
   ],
   "source": [
    "len(aboutme)"
   ]
  },
  {
   "cell_type": "markdown",
   "metadata": {},
   "source": [
    "### Process About Me Data"
   ]
  },
  {
   "cell_type": "code",
   "execution_count": 5,
   "metadata": {},
   "outputs": [],
   "source": [
    "# drop uneeded columns\n",
    "aboutme = aboutme.drop(columns=['Birthdate','race2'])\n",
    "# rename columns\n",
    "aboutme = aboutme.rename(columns={'Income':'income'})\n",
    "\n",
    "#remove brackets\n",
    "def remove_brackets(col):\n",
    "    return( col.astype(str).str.replace(']', '').str.replace('[',''))\n",
    "aboutme.alcohol = remove_brackets(aboutme.alcohol)\n",
    "aboutme.basic_expenses = remove_brackets(aboutme.basic_expenses)\n",
    "aboutme.daily_activities = remove_brackets(aboutme.daily_activities)\n",
    "aboutme.daily_smoking = remove_brackets(aboutme.daily_smoking)\n",
    "aboutme.education = remove_brackets(aboutme.education)\n",
    "aboutme.flexible_work_hours = remove_brackets(aboutme.flexible_work_hours)\n",
    "aboutme.gender = remove_brackets(aboutme.gender)\n",
    "aboutme.good_life = remove_brackets(aboutme.good_life)\n",
    "aboutme.hispanic = remove_brackets(aboutme.hispanic)\n",
    "aboutme.income = remove_brackets(aboutme.income)\n",
    "aboutme.marital = remove_brackets(aboutme.marital)\n",
    "aboutme.race = remove_brackets(aboutme.race)\n",
    "aboutme.smoking_status = remove_brackets(aboutme.smoking_status)\n",
    "aboutme.menopause = remove_brackets(aboutme.menopause)\n",
    "aboutme.recent_births = remove_brackets(aboutme.recent_births)\n",
    "aboutme.current_pregnant = remove_brackets(aboutme.current_pregnant)\n",
    "aboutme.work_schedule = remove_brackets(aboutme.work_schedule)\n",
    "\n",
    "#Replace white space with NaN\n",
    "aboutme = aboutme.replace(r'^\\s*$', np.nan, regex=True)"
   ]
  },
  {
   "cell_type": "markdown",
   "metadata": {},
   "source": [
    "### Filter based on age"
   ]
  },
  {
   "cell_type": "code",
   "execution_count": 6,
   "metadata": {},
   "outputs": [],
   "source": [
    "underage_participants = pd.read_csv( syn.get('syn21905452').path, sep=\"\\t\")\n",
    "aboutme = aboutme[~aboutme.participantId.isin(underage_participants.participantId)]"
   ]
  },
  {
   "cell_type": "markdown",
   "metadata": {},
   "source": [
    "### Remove Test Accounts"
   ]
  },
  {
   "cell_type": "code",
   "execution_count": 7,
   "metadata": {},
   "outputs": [],
   "source": [
    "test_accounts = pd.read_excel(syn.get('syn21958537').path)\n",
    "\n",
    "aboutme = aboutme[~aboutme.participantId.isin(test_accounts.participantId)]"
   ]
  },
  {
   "cell_type": "markdown",
   "metadata": {},
   "source": [
    "### Clean About Me Data (We have included recommended thresholds for data cleaning, but full data is provided except where doing so could compromise privacy)."
   ]
  },
  {
   "cell_type": "markdown",
   "metadata": {},
   "source": [
    "### Clean Weight Data"
   ]
  },
  {
   "cell_type": "code",
   "execution_count": 8,
   "metadata": {},
   "outputs": [
    {
     "data": {
      "text/plain": [
       "count    5504.000000\n",
       "mean      190.154433\n",
       "std        54.149631\n",
       "min        50.000000\n",
       "25%       153.000000\n",
       "50%       182.000000\n",
       "75%       218.000000\n",
       "max       557.000000\n",
       "Name: weight, dtype: float64"
      ]
     },
     "execution_count": 8,
     "metadata": {},
     "output_type": "execute_result"
    }
   ],
   "source": [
    "aboutme.weight.describe()"
   ]
  },
  {
   "cell_type": "code",
   "execution_count": 9,
   "metadata": {},
   "outputs": [
    {
     "data": {
      "text/plain": [
       "0.010    100.000\n",
       "0.050    119.000\n",
       "0.500    182.000\n",
       "0.600    195.000\n",
       "0.800    229.000\n",
       "0.850    240.000\n",
       "0.900    260.000\n",
       "0.950    289.000\n",
       "0.970    309.910\n",
       "0.990    364.970\n",
       "0.999    503.473\n",
       "1.000    557.000\n",
       "Name: weight, dtype: float64"
      ]
     },
     "execution_count": 9,
     "metadata": {},
     "output_type": "execute_result"
    }
   ],
   "source": [
    "aboutme.weight.quantile([.01, .05, .5, .6, .8, .85, .90, .95, .97, 0.99, 0.999, 1])"
   ]
  },
  {
   "cell_type": "code",
   "execution_count": 10,
   "metadata": {},
   "outputs": [],
   "source": [
    "#Filter odd data \n",
    "## If the weight is less than 80lbs or above 350bs, exclude (chosen based on threshold established in Asthma Data Descriptor).\n",
    "aboutme.weight[ (aboutme.weight < 80) |  (aboutme.weight > 350) ] = 'CENSORED'"
   ]
  },
  {
   "cell_type": "code",
   "execution_count": 11,
   "metadata": {},
   "outputs": [
    {
     "data": {
      "text/plain": [
       "185.0       139\n",
       "170.0       137\n",
       "180.0       127\n",
       "160.0       127\n",
       "165.0       126\n",
       "200.0       125\n",
       "175.0       111\n",
       "190.0       109\n",
       "140.0       105\n",
       "150.0       102\n",
       "195.0       100\n",
       "210.0        99\n",
       "220.0        93\n",
       "145.0        93\n",
       "155.0        88\n",
       "CENSORED     81\n",
       "230.0        80\n",
       "135.0        80\n",
       "215.0        77\n",
       "240.0        72\n",
       "130.0        70\n",
       "205.0        64\n",
       "250.0        59\n",
       "225.0        56\n",
       "125.0        55\n",
       "168.0        50\n",
       "158.0        48\n",
       "178.0        44\n",
       "203.0        43\n",
       "115.0        43\n",
       "           ... \n",
       "331.0         2\n",
       "276.0         2\n",
       "313.0         2\n",
       "91.0          1\n",
       "92.0          1\n",
       "291.0         1\n",
       "281.0         1\n",
       "301.0         1\n",
       "87.0          1\n",
       "85.0          1\n",
       "99.0          1\n",
       "308.0         1\n",
       "81.0          1\n",
       "338.0         1\n",
       "316.0         1\n",
       "317.0         1\n",
       "319.0         1\n",
       "322.0         1\n",
       "323.0         1\n",
       "348.0         1\n",
       "324.0         1\n",
       "347.0         1\n",
       "327.0         1\n",
       "328.0         1\n",
       "332.0         1\n",
       "343.0         1\n",
       "342.0         1\n",
       "334.0         1\n",
       "341.0         1\n",
       "304.0         1\n",
       "Name: weight, Length: 257, dtype: int64"
      ]
     },
     "execution_count": 11,
     "metadata": {},
     "output_type": "execute_result"
    }
   ],
   "source": [
    "aboutme.weight.value_counts()"
   ]
  },
  {
   "cell_type": "markdown",
   "metadata": {},
   "source": [
    "### Clean caffeine data"
   ]
  },
  {
   "cell_type": "code",
   "execution_count": 12,
   "metadata": {},
   "outputs": [
    {
     "data": {
      "text/plain": [
       "count    5577.000000\n",
       "mean        3.302313\n",
       "std         4.929166\n",
       "min         0.000000\n",
       "25%         1.000000\n",
       "50%         2.000000\n",
       "75%         4.000000\n",
       "max        50.000000\n",
       "Name: caffeine, dtype: float64"
      ]
     },
     "execution_count": 12,
     "metadata": {},
     "output_type": "execute_result"
    }
   ],
   "source": [
    "aboutme.caffeine.describe()"
   ]
  },
  {
   "cell_type": "code",
   "execution_count": 13,
   "metadata": {},
   "outputs": [
    {
     "data": {
      "text/plain": [
       "0.010     0.00\n",
       "0.050     0.00\n",
       "0.500     2.00\n",
       "0.600     3.00\n",
       "0.800     4.00\n",
       "0.850     5.00\n",
       "0.900     6.00\n",
       "0.950    10.00\n",
       "0.970    16.00\n",
       "0.990    25.72\n",
       "0.999    50.00\n",
       "1.000    50.00\n",
       "Name: caffeine, dtype: float64"
      ]
     },
     "execution_count": 13,
     "metadata": {},
     "output_type": "execute_result"
    }
   ],
   "source": [
    "aboutme.caffeine.quantile([.01, .05, .5, .6, .8, .85, .90, .95, .97, 0.99, 0.999, 1])"
   ]
  },
  {
   "cell_type": "code",
   "execution_count": 14,
   "metadata": {},
   "outputs": [],
   "source": [
    "#remove caffeine intake above 99th percentile, in this case is 24.\n",
    "#aboutme.caffeine[aboutme.caffeine > 24 ] = 'LOW DATA QUALITY'"
   ]
  },
  {
   "cell_type": "code",
   "execution_count": 15,
   "metadata": {},
   "outputs": [
    {
     "data": {
      "text/plain": [
       "2.0     1508\n",
       "1.0     1035\n",
       "3.0      918\n",
       "0.0      684\n",
       "4.0      529\n",
       "5.0      290\n",
       "6.0      189\n",
       "8.0      111\n",
       "12.0      52\n",
       "10.0      50\n",
       "24.0      48\n",
       "16.0      40\n",
       "20.0      25\n",
       "7.0       20\n",
       "36.0      17\n",
       "32.0      10\n",
       "50.0      10\n",
       "9.0        7\n",
       "40.0       5\n",
       "18.0       5\n",
       "15.0       4\n",
       "28.0       3\n",
       "48.0       2\n",
       "14.0       2\n",
       "44.0       2\n",
       "30.0       2\n",
       "25.0       2\n",
       "35.0       2\n",
       "42.0       1\n",
       "13.0       1\n",
       "33.0       1\n",
       "38.0       1\n",
       "21.0       1\n",
       "Name: caffeine, dtype: int64"
      ]
     },
     "execution_count": 15,
     "metadata": {},
     "output_type": "execute_result"
    }
   ],
   "source": [
    "aboutme.caffeine.value_counts()"
   ]
  },
  {
   "cell_type": "markdown",
   "metadata": {},
   "source": [
    "### Create Internal & External Copies of the Data"
   ]
  },
  {
   "cell_type": "code",
   "execution_count": 16,
   "metadata": {},
   "outputs": [
    {
     "data": {
      "text/plain": [
       "(3448, 21)"
      ]
     },
     "execution_count": 16,
     "metadata": {},
     "output_type": "execute_result"
    }
   ],
   "source": [
    "#download the data \n",
    "sharing_info = pd.read_excel(syn.get('syn21958546').path)\n",
    "healthCodes_with_broadsharing = sharing_info[sharing_info.sharing == 'all_qualified_researchers']\n",
    "\n",
    "EXTERNAL_ABOUTME_DATA = aboutme[aboutme.participantId.isin(healthCodes_with_broadsharing['participant id'])]\n",
    "EXTERNAL_ABOUTME_DATA.shape"
   ]
  },
  {
   "cell_type": "markdown",
   "metadata": {},
   "source": [
    "### Total number of unique participants"
   ]
  },
  {
   "cell_type": "code",
   "execution_count": 17,
   "metadata": {},
   "outputs": [
    {
     "data": {
      "text/plain": [
       "3262"
      ]
     },
     "execution_count": 17,
     "metadata": {},
     "output_type": "execute_result"
    }
   ],
   "source": [
    "len(EXTERNAL_ABOUTME_DATA.participantId.unique())"
   ]
  },
  {
   "cell_type": "markdown",
   "metadata": {},
   "source": [
    "### Total number of observations"
   ]
  },
  {
   "cell_type": "code",
   "execution_count": 18,
   "metadata": {},
   "outputs": [
    {
     "data": {
      "text/plain": [
       "3448"
      ]
     },
     "execution_count": 18,
     "metadata": {},
     "output_type": "execute_result"
    }
   ],
   "source": [
    "len(EXTERNAL_ABOUTME_DATA)"
   ]
  },
  {
   "cell_type": "markdown",
   "metadata": {},
   "source": [
    "### External - Upload to Synapse"
   ]
  },
  {
   "cell_type": "code",
   "execution_count": null,
   "metadata": {},
   "outputs": [],
   "source": [
    "SH_EXTERNAL_PROJECT = 'syn18492837'\n",
    "table_schema_external = Schema(name='About Me',\n",
    "                               columns=as_table_columns(EXTERNAL_ABOUTME_DATA),\n",
    "                               parent=SH_EXTERNAL_PROJECT)\n",
    "aboutme_synTable_external = syn.store(Table(table_schema_external,EXTERNAL_ABOUTME_DATA))\n",
    "aboutme_synTable_external"
   ]
  },
  {
   "cell_type": "markdown",
   "metadata": {},
   "source": [
    "### Internal - Upload to Synapse"
   ]
  },
  {
   "cell_type": "code",
   "execution_count": null,
   "metadata": {},
   "outputs": [],
   "source": [
    "SH_INTERNAL_PROJECT = 'syn7066726'\n",
    "table_schema_internal = Schema(name='About Me Internal',\n",
    "                               columns=as_table_columns(aboutme), \n",
    "                               parent=SH_INTERNAL_PROJECT)\n",
    "aboutme_synTable_internal = syn.store(Table(table_schema_internal,aboutme))"
   ]
  },
  {
   "cell_type": "markdown",
   "metadata": {},
   "source": [
    "### Set Provenance"
   ]
  },
  {
   "cell_type": "code",
   "execution_count": null,
   "metadata": {},
   "outputs": [],
   "source": [
    "activity=Activity(name= 'About Me data curation', \n",
    "                  description='Process and convert raw data to table format', \n",
    "                  used=aboutme_raw_id, \n",
    "                  executed='https://github.com/apratap/SleepHealth_Data_Release/blob/master/Create_About_Me.ipynb')\n",
    "#Internal \n",
    "syn.setProvenance(aboutme_synTable_internal, activity)\n",
    "\n",
    "#External\n",
    "syn.setProvenance(aboutme_synTable_external, activity)"
   ]
  }
 ],
 "metadata": {
  "kernelspec": {
   "display_name": "Python 2",
   "language": "python",
   "name": "python2"
  },
  "language_info": {
   "codemirror_mode": {
    "name": "ipython",
    "version": 2
   },
   "file_extension": ".py",
   "mimetype": "text/x-python",
   "name": "python",
   "nbconvert_exporter": "python",
   "pygments_lexer": "ipython2",
   "version": "2.7.17"
  }
 },
 "nbformat": 4,
 "nbformat_minor": 2
}
