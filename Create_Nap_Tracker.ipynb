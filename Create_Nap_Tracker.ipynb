{
 "cells": [
  {
   "cell_type": "markdown",
   "metadata": {},
   "source": [
    "#  Nap Tracker Data Prep"
   ]
  },
  {
   "cell_type": "code",
   "execution_count": 1,
   "metadata": {
    "ExecuteTime": {
     "end_time": "2018-11-08T20:51:18.756789Z",
     "start_time": "2018-11-08T20:51:16.206741Z"
    }
   },
   "outputs": [
    {
     "name": "stderr",
     "output_type": "stream",
     "text": [
      "\n",
      "UPGRADE AVAILABLE\n",
      "\n",
      "A more recent version of the Synapse Client (2.0.0) is available. Your version (1.9.4) can be upgraded by typing:\n",
      "    pip install --upgrade synapseclient\n",
      "\n",
      "Python Synapse Client version 2.0.0 release notes\n",
      "\n",
      "https://python-docs.synapse.org/build/html/news.html\n",
      "\n"
     ]
    },
    {
     "name": "stdout",
     "output_type": "stream",
     "text": [
      "Welcome, Sean Deering!\n",
      "\n"
     ]
    }
   ],
   "source": [
    "import datetime as dt\n",
    "import pandas as pd\n",
    "import numpy as np\n",
    "import matplotlib.pyplot as plt\n",
    "from IPython.core.interactiveshell import InteractiveShell\n",
    "import synapseclient\n",
    "from synapseclient import Activity, Schema, Table, as_table_columns\n",
    "\n",
    "InteractiveShell.ast_node_interactivity = 'all'\n",
    "syn = synapseclient.Synapse()\n",
    "syn.login()"
   ]
  },
  {
   "cell_type": "markdown",
   "metadata": {},
   "source": [
    "### Get Raw Nap Tracker Data"
   ]
  },
  {
   "cell_type": "code",
   "execution_count": 2,
   "metadata": {
    "ExecuteTime": {
     "end_time": "2018-11-08T20:51:03.792459Z",
     "start_time": "2018-11-08T20:50:50.988008Z"
    }
   },
   "outputs": [],
   "source": [
    "nap_tracker_raw_id = 'syn7117931'\n",
    "\n",
    "nap_tracker = pd.read_csv(syn.get(nap_tracker_raw_id).path)"
   ]
  },
  {
   "cell_type": "markdown",
   "metadata": {},
   "source": [
    "### Process Nap Tracker Data"
   ]
  },
  {
   "cell_type": "code",
   "execution_count": 3,
   "metadata": {
    "ExecuteTime": {
     "end_time": "2018-11-08T20:51:04.422718Z",
     "start_time": "2018-11-08T20:51:03.852456Z"
    },
    "scrolled": false
   },
   "outputs": [],
   "source": [
    "# drop uneeded columns\n",
    "nap_tracker = nap_tracker.drop(columns=['NapTrackerNapStartTime', 'timestamp.1','NapTrackerNapComments','NapTrackerNapUniqueId'])\n",
    "\n",
    "#rename these variables so that they are easier to interpret, Nap Tracker in front seems redundant\n",
    "nap_tracker = nap_tracker.rename(columns = \n",
    "                             { 'NapTrackerNapDuration':'NapDuration',\n",
    "                               'NapTrackerNapQuality':'NapQuality',\n",
    "                               'transaction':'NapType'})\n",
    "\n",
    "#recode variable labels for Nap Tracker Nap Type into ones that are easier to interpret \n",
    "nap_tracker['NapType'].replace('NapTrackerTransactionTypeNewNap','New nap',inplace=True)\n",
    "nap_tracker['NapType'].replace('NapTrackerTransactionTypeDeleteNap','Deleted nap',inplace=True)\n",
    "nap_tracker['NapType'].replace('NapTrackerTransactionTypeChangeNap','Changed nap',inplace=True)"
   ]
  },
  {
   "cell_type": "markdown",
   "metadata": {},
   "source": [
    "### Filter based on age"
   ]
  },
  {
   "cell_type": "code",
   "execution_count": 4,
   "metadata": {},
   "outputs": [],
   "source": [
    "underage_participants = pd.read_csv( syn.get('syn21905452').path, sep=\"\\t\")\n",
    "nap_tracker = nap_tracker[~nap_tracker.participantId.isin(underage_participants.participantId)]"
   ]
  },
  {
   "cell_type": "markdown",
   "metadata": {},
   "source": [
    "### Remove test accounts"
   ]
  },
  {
   "cell_type": "code",
   "execution_count": 5,
   "metadata": {},
   "outputs": [],
   "source": [
    "test_accounts = pd.read_excel(syn.get('syn21958537').path)\n",
    "\n",
    "nap_tracker = nap_tracker[~nap_tracker.participantId.isin(test_accounts.participantId)]"
   ]
  },
  {
   "cell_type": "markdown",
   "metadata": {},
   "source": [
    "### Replace white space with NaN"
   ]
  },
  {
   "cell_type": "code",
   "execution_count": 6,
   "metadata": {},
   "outputs": [],
   "source": [
    "nap_tracker = nap_tracker.replace(r'^\\s*$', np.nan, regex=True)"
   ]
  },
  {
   "cell_type": "markdown",
   "metadata": {},
   "source": [
    "### Clean Nap Tracker Data"
   ]
  },
  {
   "cell_type": "code",
   "execution_count": 7,
   "metadata": {},
   "outputs": [
    {
     "data": {
      "text/plain": [
       "count      3731.000000\n",
       "mean       5356.555382\n",
       "std       16488.702612\n",
       "min           0.000000\n",
       "25%           0.000000\n",
       "50%        2700.000000\n",
       "75%        6034.305764\n",
       "max      539178.000000\n",
       "Name: NapDuration, dtype: float64"
      ]
     },
     "execution_count": 7,
     "metadata": {},
     "output_type": "execute_result"
    }
   ],
   "source": [
    "nap_tracker.NapDuration.describe()"
   ]
  },
  {
   "cell_type": "code",
   "execution_count": 8,
   "metadata": {},
   "outputs": [
    {
     "data": {
      "text/plain": [
       "0.010         0.00\n",
       "0.050         0.00\n",
       "0.500      2700.00\n",
       "0.600      3600.00\n",
       "0.800      7200.00\n",
       "0.850      7882.00\n",
       "0.900     10800.00\n",
       "0.950     21600.00\n",
       "0.970     26122.00\n",
       "0.990     35050.90\n",
       "0.999    245001.99\n",
       "1.000    539178.00\n",
       "Name: NapDuration, dtype: float64"
      ]
     },
     "execution_count": 8,
     "metadata": {},
     "output_type": "execute_result"
    }
   ],
   "source": [
    "nap_tracker.NapDuration.quantile([.01, .05, .5, .6, .8, .85, .90, .95, .97, 0.99, 0.999, 1])"
   ]
  },
  {
   "cell_type": "code",
   "execution_count": 9,
   "metadata": {},
   "outputs": [
    {
     "name": "stderr",
     "output_type": "stream",
     "text": [
      "[WARNING] /usr/local/lib/python2.7/site-packages/ipykernel_launcher.py:2: SettingWithCopyWarning: \n",
      "A value is trying to be set on a copy of a slice from a DataFrame\n",
      "\n",
      "See the caveats in the documentation: http://pandas.pydata.org/pandas-docs/stable/indexing.html#indexing-view-versus-copy\n",
      "  \n",
      "\n"
     ]
    }
   ],
   "source": [
    "#exclude data for naps equal to zero or longer than 35050.90 seconds which is 99th percentile\n",
    "nap_tracker.NapDuration[ nap_tracker.NapDuration == 0 ] = 'LOW DATA QUALITY'\n",
    "nap_tracker.NapDuration[ nap_tracker.NapDuration > 35050.90 ] = 'LOW DATA QUALITY'"
   ]
  },
  {
   "cell_type": "code",
   "execution_count": 10,
   "metadata": {},
   "outputs": [
    {
     "data": {
      "text/plain": [
       "LOW DATA QUALITY    1026\n",
       "3600.0               177\n",
       "1800.0               158\n",
       "7200.0               155\n",
       "5400.0               148\n",
       "2700.0               125\n",
       "7500.0               101\n",
       "3900.0               100\n",
       "900.0                 91\n",
       "1200.0                91\n",
       "2400.0                74\n",
       "4500.0                66\n",
       "6300.0                55\n",
       "10800.0               55\n",
       "1500.0                54\n",
       "2100.0                53\n",
       "600.0                 52\n",
       "3000.0                48\n",
       "9000.0                47\n",
       "300.0                 41\n",
       "5700.0                35\n",
       "8100.0                28\n",
       "3300.0                27\n",
       "11100.0               26\n",
       "5100.0                25\n",
       "4800.0                25\n",
       "14400.0               24\n",
       "4200.0                23\n",
       "6000.0                17\n",
       "6900.0                17\n",
       "                    ... \n",
       "1343.94984102          1\n",
       "1135.14196402          1\n",
       "6312.12161601          1\n",
       "30300.0                1\n",
       "2870.93177402          1\n",
       "24139.0                1\n",
       "1566.0                 1\n",
       "597.0                  1\n",
       "3674.0                 1\n",
       "971.120848             1\n",
       "604.0                  1\n",
       "28254.0                1\n",
       "31327.0                1\n",
       "851.012010038          1\n",
       "3683.0                 1\n",
       "1640.0                 1\n",
       "8329.367607            1\n",
       "5720.0                 1\n",
       "22.9141890407          1\n",
       "7381.70943201          1\n",
       "6151.0                 1\n",
       "1554.022089            1\n",
       "26235.0                1\n",
       "4733.0                 1\n",
       "2579.59399199          1\n",
       "640.0                  1\n",
       "3025.84346998          1\n",
       "20100.0                1\n",
       "2247.94556999          1\n",
       "1.0                    1\n",
       "Name: NapDuration, Length: 544, dtype: int64"
      ]
     },
     "execution_count": 10,
     "metadata": {},
     "output_type": "execute_result"
    }
   ],
   "source": [
    "nap_tracker.NapDuration.value_counts()"
   ]
  },
  {
   "cell_type": "markdown",
   "metadata": {},
   "source": [
    "### Create Internal & External Copies of the Data"
   ]
  },
  {
   "cell_type": "code",
   "execution_count": 11,
   "metadata": {},
   "outputs": [
    {
     "data": {
      "text/plain": [
       "(2270, 5)"
      ]
     },
     "execution_count": 11,
     "metadata": {},
     "output_type": "execute_result"
    }
   ],
   "source": [
    "#download the data \n",
    "sharing_info = pd.read_excel(syn.get('syn21958546').path)\n",
    "healthCodes_with_broadsharing = sharing_info[sharing_info.sharing == 'all_qualified_researchers']\n",
    "\n",
    "EXTERNAL_NAP_TRACKER_DATA = nap_tracker[nap_tracker.participantId.isin(healthCodes_with_broadsharing['participant id'])]\n",
    "EXTERNAL_NAP_TRACKER_DATA.shape"
   ]
  },
  {
   "cell_type": "markdown",
   "metadata": {},
   "source": [
    "### Number of unique participants"
   ]
  },
  {
   "cell_type": "code",
   "execution_count": 12,
   "metadata": {},
   "outputs": [
    {
     "data": {
      "text/plain": [
       "592"
      ]
     },
     "execution_count": 12,
     "metadata": {},
     "output_type": "execute_result"
    }
   ],
   "source": [
    "len(EXTERNAL_NAP_TRACKER_DATA.participantId.unique())"
   ]
  },
  {
   "cell_type": "markdown",
   "metadata": {},
   "source": [
    "### Total number of observations"
   ]
  },
  {
   "cell_type": "code",
   "execution_count": 13,
   "metadata": {},
   "outputs": [
    {
     "data": {
      "text/plain": [
       "2270"
      ]
     },
     "execution_count": 13,
     "metadata": {},
     "output_type": "execute_result"
    }
   ],
   "source": [
    "len(EXTERNAL_NAP_TRACKER_DATA)"
   ]
  },
  {
   "cell_type": "markdown",
   "metadata": {},
   "source": [
    "### External - Upload to Synapse"
   ]
  },
  {
   "cell_type": "code",
   "execution_count": null,
   "metadata": {},
   "outputs": [
    {
     "data": {
      "text/plain": [
       "592"
      ]
     },
     "execution_count": 14,
     "metadata": {},
     "output_type": "execute_result"
    }
   ],
   "source": [
    "len(EXTERNAL_NAP_TRACKER_DATA.participantId.unique())\n",
    "SH_EXTERNAL_PROJECT = 'syn18492837'\n",
    "table_schema_external = Schema(name='Nap Tracker',\n",
    "                               columns=as_table_columns(EXTERNAL_NAP_TRACKER_DATA),\n",
    "                               parent=SH_EXTERNAL_PROJECT)\n",
    "nap_tracker_synTable_external = syn.store(Table(table_schema_external,EXTERNAL_NAP_TRACKER_DATA))\n",
    "nap_tracker_synTable_external"
   ]
  },
  {
   "cell_type": "markdown",
   "metadata": {},
   "source": [
    "### Internal - Upload to Synapse"
   ]
  },
  {
   "cell_type": "code",
   "execution_count": null,
   "metadata": {},
   "outputs": [],
   "source": [
    "SH_INTERNAL_PROJECT = 'syn7066726'\n",
    "table_schema_internal = Schema(name='Nap Tracker Internal',\n",
    "                               columns=as_table_columns(nap_tracker), \n",
    "                               parent=SH_INTERNAL_PROJECT)\n",
    "nap_tracker_synTable_internal = syn.store(Table(table_schema_internal,nap_tracker))"
   ]
  },
  {
   "cell_type": "markdown",
   "metadata": {},
   "source": [
    "### Set Provenance"
   ]
  },
  {
   "cell_type": "code",
   "execution_count": null,
   "metadata": {},
   "outputs": [],
   "source": [
    "activity=Activity(name= 'Nap Tracker data curation', \n",
    "                  description='Process and convert raw data to table format', \n",
    "                  used=nap_tracker_raw_id, \n",
    "                  executed='https://github.com/apratap/SleepHealth_Data_Release/blob/master/Create_Nap_Tracker.ipynb')\n",
    "#Internal \n",
    "syn.setProvenance(nap_tracker_synTable_internal, activity)\n",
    "\n",
    "#External\n",
    "syn.setProvenance(nap_tracker_synTable_external, activity)"
   ]
  }
 ],
 "metadata": {
  "kernelspec": {
   "display_name": "Python 2",
   "language": "python",
   "name": "python2"
  },
  "language_info": {
   "codemirror_mode": {
    "name": "ipython",
    "version": 2
   },
   "file_extension": ".py",
   "mimetype": "text/x-python",
   "name": "python",
   "nbconvert_exporter": "python",
   "pygments_lexer": "ipython2",
   "version": "2.7.17"
  },
  "varInspector": {
   "cols": {
    "lenName": 16,
    "lenType": 16,
    "lenVar": 40
   },
   "kernels_config": {
    "python": {
     "delete_cmd_postfix": "",
     "delete_cmd_prefix": "del ",
     "library": "var_list.py",
     "varRefreshCmd": "print(var_dic_list())"
    },
    "r": {
     "delete_cmd_postfix": ") ",
     "delete_cmd_prefix": "rm(",
     "library": "var_list.r",
     "varRefreshCmd": "cat(var_dic_list()) "
    }
   },
   "types_to_exclude": [
    "module",
    "function",
    "builtin_function_or_method",
    "instance",
    "_Feature"
   ],
   "window_display": false
  }
 },
 "nbformat": 4,
 "nbformat_minor": 2
}
