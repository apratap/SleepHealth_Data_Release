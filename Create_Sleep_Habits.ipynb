{
 "cells": [
  {
   "cell_type": "markdown",
   "metadata": {},
   "source": [
    "# Sleep Habits Data Prep"
   ]
  },
  {
   "cell_type": "code",
   "execution_count": 4,
   "metadata": {
    "ExecuteTime": {
     "end_time": "2018-11-08T20:51:18.756789Z",
     "start_time": "2018-11-08T20:51:16.206741Z"
    }
   },
   "outputs": [
    {
     "name": "stderr",
     "output_type": "stream",
     "text": [
      "\n",
      "UPGRADE AVAILABLE\n",
      "\n",
      "A more recent version of the Synapse Client (2.0.0) is available. Your version (1.9.4) can be upgraded by typing:\n",
      "    pip install --upgrade synapseclient\n",
      "\n",
      "Python Synapse Client version 2.0.0 release notes\n",
      "\n",
      "https://python-docs.synapse.org/build/html/news.html\n",
      "\n"
     ]
    },
    {
     "name": "stdout",
     "output_type": "stream",
     "text": [
      "Welcome, Sean Deering!\n",
      "\n"
     ]
    }
   ],
   "source": [
    "import datetime as dt\n",
    "import numpy as np\n",
    "import pandas as pd\n",
    "import matplotlib.pyplot as plt\n",
    "from IPython.core.interactiveshell import InteractiveShell\n",
    "import synapseclient\n",
    "from synapseclient import Activity, Schema, Table, as_table_columns\n",
    "\n",
    "InteractiveShell.ast_node_interactivity = 'all'\n",
    "syn = synapseclient.Synapse()\n",
    "syn.login()"
   ]
  },
  {
   "cell_type": "markdown",
   "metadata": {},
   "source": [
    "### Get Raw Sleep Habits Data"
   ]
  },
  {
   "cell_type": "code",
   "execution_count": 5,
   "metadata": {
    "ExecuteTime": {
     "end_time": "2018-11-08T20:51:03.792459Z",
     "start_time": "2018-11-08T20:50:50.988008Z"
    }
   },
   "outputs": [],
   "source": [
    "sleephabits_raw_id = 'syn7117919'\n",
    "sleephabits = pd.read_csv(syn.get(sleephabits_raw_id).path)"
   ]
  },
  {
   "cell_type": "markdown",
   "metadata": {},
   "source": [
    "## Replace white space with NaN"
   ]
  },
  {
   "cell_type": "code",
   "execution_count": 6,
   "metadata": {},
   "outputs": [],
   "source": [
    "sleephabits = sleephabits.replace(r'^\\s*$', np.nan, regex=True)"
   ]
  },
  {
   "cell_type": "markdown",
   "metadata": {},
   "source": [
    "### Process Sleep Habits Data"
   ]
  },
  {
   "cell_type": "code",
   "execution_count": 7,
   "metadata": {
    "ExecuteTime": {
     "end_time": "2018-11-08T20:51:04.422718Z",
     "start_time": "2018-11-08T20:51:03.852456Z"
    },
    "scrolled": false
   },
   "outputs": [],
   "source": [
    "#convert seconds to hours   \n",
    "sleephabits.sleep_time_weekday = sleephabits.sleep_time_weekday.astype(float)/3600\n",
    "sleephabits.sleep_time_weekend = sleephabits.sleep_time_weekend.astype(float)/3600\n",
    "sleephabits.sleep_time_weekday = sleephabits.sleep_time_weekday.round(decimals=2)\n",
    "sleephabits.sleep_time_weekend = sleephabits.sleep_time_weekend.round(decimals=2)\n",
    "\n",
    "#rename sleep_time_weekday to sleep_time_workday so it's more consistent with the way the question was asked\n",
    "sleephabits = sleephabits.rename(columns={'sleep_time_weekday':'sleep_time_workday'})\n",
    "\n",
    "#convert seconds to minutes\n",
    "sleephabits.sleep_lost = sleephabits.sleep_lost.astype(float)/60\n",
    "sleephabits.sleep_lost = sleephabits.sleep_lost.round(decimals=2)\n",
    "\n",
    "#remove brackets\n",
    "def remove_brackets(col):\n",
    "    return( col.astype(str).str.replace(']', '').str.replace('[',''))\n",
    "sleephabits.alarm_dependency = remove_brackets(sleephabits.alarm_dependency)\n",
    "sleephabits.driving_sleepy = remove_brackets(sleephabits.driving_sleepy)\n",
    "sleephabits.falling_asleep = remove_brackets(sleephabits.falling_asleep)\n",
    "sleephabits.morning_person = remove_brackets(sleephabits.morning_person)\n",
    "sleephabits.nap_duration = remove_brackets(sleephabits.nap_duration)\n",
    "sleephabits.sleep_partner = remove_brackets(sleephabits.sleep_partner)\n",
    "sleephabits.wake_up_choices = remove_brackets(sleephabits.wake_up_choices)\n",
    "sleephabits.weekly_naps = remove_brackets(sleephabits.weekly_naps)\n",
    "sleephabits.what_wakes_you = remove_brackets(sleephabits.what_wakes_you)"
   ]
  },
  {
   "cell_type": "markdown",
   "metadata": {},
   "source": [
    "### Filter based on age"
   ]
  },
  {
   "cell_type": "code",
   "execution_count": 8,
   "metadata": {
    "ExecuteTime": {
     "end_time": "2018-11-08T20:52:43.095693Z",
     "start_time": "2018-11-08T20:52:43.049691Z"
    }
   },
   "outputs": [],
   "source": [
    "underage_participants = pd.read_csv( syn.get('syn21905452').path, sep=\"\\t\")\n",
    "sleephabits = sleephabits[~sleephabits.participantId.isin(underage_participants.participantId)]"
   ]
  },
  {
   "cell_type": "markdown",
   "metadata": {},
   "source": [
    "### Clean Sleep Habits data"
   ]
  },
  {
   "cell_type": "markdown",
   "metadata": {},
   "source": [
    "### Clean wake_ups"
   ]
  },
  {
   "cell_type": "code",
   "execution_count": 27,
   "metadata": {},
   "outputs": [
    {
     "data": {
      "text/plain": [
       "0.100      0.0\n",
       "0.500      2.0\n",
       "0.600      2.0\n",
       "0.800      3.0\n",
       "0.850      4.0\n",
       "0.900      4.0\n",
       "0.950      5.0\n",
       "0.970      6.0\n",
       "0.990     10.0\n",
       "0.999     25.0\n",
       "1.000    100.0\n",
       "Name: wake_ups, dtype: float64"
      ]
     },
     "execution_count": 27,
     "metadata": {},
     "output_type": "execute_result"
    },
    {
     "data": {
      "text/plain": [
       "count    5510.000000\n",
       "mean        2.193103\n",
       "std         2.848907\n",
       "min         0.000000\n",
       "25%         1.000000\n",
       "50%         2.000000\n",
       "75%         3.000000\n",
       "max       100.000000\n",
       "Name: wake_ups, dtype: float64"
      ]
     },
     "execution_count": 27,
     "metadata": {},
     "output_type": "execute_result"
    }
   ],
   "source": [
    "sleephabits.wake_ups.describe()\n",
    "sleephabits.wake_ups.quantile([.01, .05, .5, .6, .8, .85, .90, .95, .97, 0.99, 0.999, 1])"
   ]
  },
  {
   "cell_type": "code",
   "execution_count": 28,
   "metadata": {},
   "outputs": [
    {
     "name": "stderr",
     "output_type": "stream",
     "text": [
      "[WARNING] /usr/local/lib/python2.7/site-packages/ipykernel_launcher.py:2: SettingWithCopyWarning: \n",
      "A value is trying to be set on a copy of a slice from a DataFrame\n",
      "\n",
      "See the caveats in the documentation: http://pandas.pydata.org/pandas-docs/stable/indexing.html#indexing-view-versus-copy\n",
      "  \n",
      "\n"
     ]
    },
    {
     "data": {
      "text/plain": [
       "1.0                   1435\n",
       "2.0                   1406\n",
       "3.0                    918\n",
       "0.0                    894\n",
       "4.0                    328\n",
       "5.0                    294\n",
       "6.0                     81\n",
       "10.0                    44\n",
       "7.0                     43\n",
       "DATA QUALITY ISSUE      34\n",
       "8.0                     29\n",
       "9.0                      4\n",
       "Name: wake_ups, dtype: int64"
      ]
     },
     "execution_count": 28,
     "metadata": {},
     "output_type": "execute_result"
    }
   ],
   "source": [
    "## Exclude if wake ups is > .99 percentile of the sample in this case > 10\n",
    "sleephabits.wake_ups[ sleephabits.wake_ups > 10 ] = 'DATA QUALITY ISSUE'\n",
    "sleephabits.wake_ups.value_counts()"
   ]
  },
  {
   "cell_type": "markdown",
   "metadata": {},
   "source": [
    "### Clean sleep_needed"
   ]
  },
  {
   "cell_type": "code",
   "execution_count": 30,
   "metadata": {},
   "outputs": [
    {
     "data": {
      "text/plain": [
       "0.100     6.00\n",
       "0.500     8.00\n",
       "0.600     8.00\n",
       "0.800     8.00\n",
       "0.850     9.00\n",
       "0.900     9.00\n",
       "0.950    10.00\n",
       "0.970    10.00\n",
       "0.990    11.43\n",
       "0.999    14.00\n",
       "1.000    24.00\n",
       "Name: sleep_needed, dtype: float64"
      ]
     },
     "execution_count": 30,
     "metadata": {},
     "output_type": "execute_result"
    },
    {
     "data": {
      "text/plain": [
       "count    5458.000000\n",
       "mean        7.561927\n",
       "std         1.373428\n",
       "min         0.000000\n",
       "25%         7.000000\n",
       "50%         8.000000\n",
       "75%         8.000000\n",
       "max        24.000000\n",
       "Name: sleep_needed, dtype: float64"
      ]
     },
     "execution_count": 30,
     "metadata": {},
     "output_type": "execute_result"
    }
   ],
   "source": [
    "sleephabits.sleep_needed.describe()\n",
    "sleephabits.sleep_needed.quantile([.01, .05, .5, .6, .8, .85, .90, .95, .97, 0.99, 0.999, 1])"
   ]
  },
  {
   "cell_type": "code",
   "execution_count": 31,
   "metadata": {},
   "outputs": [
    {
     "name": "stderr",
     "output_type": "stream",
     "text": [
      "[WARNING] /usr/local/lib/python2.7/site-packages/ipykernel_launcher.py:2: SettingWithCopyWarning: \n",
      "A value is trying to be set on a copy of a slice from a DataFrame\n",
      "\n",
      "See the caveats in the documentation: http://pandas.pydata.org/pandas-docs/stable/indexing.html#indexing-view-versus-copy\n",
      "  \n",
      "\n"
     ]
    },
    {
     "data": {
      "text/plain": [
       "8.0                   2059\n",
       "7.0                   1517\n",
       "9.0                    644\n",
       "6.0                    622\n",
       "10.0                   239\n",
       "5.0                    197\n",
       "4.0                     73\n",
       "DATA QUALITY ISSUE      55\n",
       "11.0                    21\n",
       "3.0                     12\n",
       "2.0                      8\n",
       "1.0                      7\n",
       "0.0                      4\n",
       "Name: sleep_needed, dtype: int64"
      ]
     },
     "execution_count": 31,
     "metadata": {},
     "output_type": "execute_result"
    }
   ],
   "source": [
    "## Exclude if sleep needed is > .99 percentile of the sample in this case > 11.43\n",
    "sleephabits.sleep_needed[ sleephabits.sleep_needed > 11.43 ] = 'DATA QUALITY ISSUE'\n",
    "sleephabits.sleep_needed.value_counts()"
   ]
  },
  {
   "cell_type": "markdown",
   "metadata": {},
   "source": [
    "### Clean sleep_lost"
   ]
  },
  {
   "cell_type": "code",
   "execution_count": 33,
   "metadata": {},
   "outputs": [
    {
     "data": {
      "text/plain": [
       "0.100       1.000\n",
       "0.500       1.000\n",
       "0.600      10.000\n",
       "0.800      30.000\n",
       "0.850      60.000\n",
       "0.900      60.000\n",
       "0.950     120.000\n",
       "0.970     121.000\n",
       "0.990     181.000\n",
       "0.999     604.477\n",
       "1.000    1439.000\n",
       "Name: sleep_lost, dtype: float64"
      ]
     },
     "execution_count": 33,
     "metadata": {},
     "output_type": "execute_result"
    },
    {
     "data": {
      "text/plain": [
       "count    2964.000000\n",
       "mean       22.577598\n",
       "std        55.521852\n",
       "min         1.000000\n",
       "25%         1.000000\n",
       "50%         1.000000\n",
       "75%        20.000000\n",
       "max      1439.000000\n",
       "Name: sleep_lost, dtype: float64"
      ]
     },
     "execution_count": 33,
     "metadata": {},
     "output_type": "execute_result"
    }
   ],
   "source": [
    "sleephabits.sleep_lost.describe()\n",
    "sleephabits.sleep_lost.quantile([.01, .05, .5, .6, .8, .85, .90, .95, .97, 0.99, 0.999, 1])"
   ]
  },
  {
   "cell_type": "code",
   "execution_count": 34,
   "metadata": {},
   "outputs": [
    {
     "name": "stderr",
     "output_type": "stream",
     "text": [
      "[WARNING] /usr/local/lib/python2.7/site-packages/ipykernel_launcher.py:2: SettingWithCopyWarning: \n",
      "A value is trying to be set on a copy of a slice from a DataFrame\n",
      "\n",
      "See the caveats in the documentation: http://pandas.pydata.org/pandas-docs/stable/indexing.html#indexing-view-versus-copy\n",
      "  \n",
      "\n"
     ]
    },
    {
     "data": {
      "text/plain": [
       "1.0                   1588\n",
       "30.0                   200\n",
       "60.0                   186\n",
       "10.0                   170\n",
       "15.0                   163\n",
       "20.0                   123\n",
       "5.0                    116\n",
       "61.0                    91\n",
       "120.0                   56\n",
       "121.0                   38\n",
       "DATA QUALITY ISSUE      29\n",
       "45.0                    27\n",
       "180.0                   24\n",
       "90.0                    19\n",
       "3.0                     16\n",
       "25.0                    12\n",
       "181.0                   10\n",
       "6.0                     10\n",
       "2.0                      8\n",
       "40.0                     8\n",
       "4.0                      7\n",
       "7.0                      5\n",
       "12.0                     5\n",
       "8.0                      4\n",
       "13.0                     3\n",
       "150.0                    3\n",
       "18.0                     3\n",
       "75.0                     3\n",
       "22.0                     2\n",
       "28.0                     2\n",
       "34.0                     2\n",
       "32.0                     2\n",
       "66.0                     2\n",
       "65.0                     2\n",
       "35.0                     2\n",
       "62.0                     2\n",
       "46.0                     2\n",
       "31.0                     1\n",
       "42.0                     1\n",
       "68.0                     1\n",
       "105.0                    1\n",
       "116.0                    1\n",
       "55.0                     1\n",
       "48.0                     1\n",
       "135.0                    1\n",
       "14.0                     1\n",
       "119.0                    1\n",
       "16.0                     1\n",
       "17.0                     1\n",
       "39.0                     1\n",
       "19.0                     1\n",
       "123.0                    1\n",
       "24.0                     1\n",
       "33.0                     1\n",
       "26.0                     1\n",
       "93.0                     1\n",
       "Name: sleep_lost, dtype: int64"
      ]
     },
     "execution_count": 34,
     "metadata": {},
     "output_type": "execute_result"
    }
   ],
   "source": [
    "## Exclude if sleep lost is > .99 percentile of the sample in this case > 181\n",
    "sleephabits.sleep_lost[ sleephabits.sleep_lost > 181 ] = 'LOW DATA QUALITY'\n",
    "sleephabits.sleep_lost.value_counts()"
   ]
  },
  {
   "cell_type": "markdown",
   "metadata": {},
   "source": [
    "### Clean sleep_time_workday"
   ]
  },
  {
   "cell_type": "code",
   "execution_count": 36,
   "metadata": {},
   "outputs": [
    {
     "data": {
      "text/plain": [
       "0.100     5.00\n",
       "0.500     7.00\n",
       "0.600     7.00\n",
       "0.800     8.00\n",
       "0.850     8.00\n",
       "0.900     8.00\n",
       "0.950     8.75\n",
       "0.970     9.00\n",
       "0.990    10.00\n",
       "0.999    12.02\n",
       "1.000    17.00\n",
       "Name: sleep_time_workday, dtype: float64"
      ]
     },
     "execution_count": 36,
     "metadata": {},
     "output_type": "execute_result"
    },
    {
     "data": {
      "text/plain": [
       "count    5536.000000\n",
       "mean        6.651006\n",
       "std         1.526232\n",
       "min         0.020000\n",
       "25%         6.000000\n",
       "50%         7.000000\n",
       "75%         7.500000\n",
       "max        17.000000\n",
       "Name: sleep_time_workday, dtype: float64"
      ]
     },
     "execution_count": 36,
     "metadata": {},
     "output_type": "execute_result"
    }
   ],
   "source": [
    "sleep_time_workday.describe()\n",
    "sleep_time_workday.quantile([.01, .05, .5, .6, .8, .85, .90, .95, .97, 0.99, 0.999, 1])"
   ]
  },
  {
   "cell_type": "code",
   "execution_count": 37,
   "metadata": {},
   "outputs": [
    {
     "name": "stderr",
     "output_type": "stream",
     "text": [
      "[WARNING] /usr/local/lib/python2.7/site-packages/ipykernel_launcher.py:2: SettingWithCopyWarning: \n",
      "A value is trying to be set on a copy of a slice from a DataFrame\n",
      "\n",
      "See the caveats in the documentation: http://pandas.pydata.org/pandas-docs/stable/indexing.html#indexing-view-versus-copy\n",
      "  \n",
      "\n"
     ]
    },
    {
     "data": {
      "text/plain": [
       "7.0                   1101\n",
       "6.0                    770\n",
       "8.0                    571\n",
       "6.5                    362\n",
       "7.5                    354\n",
       "7.02                   317\n",
       "5.0                    303\n",
       "6.02                   228\n",
       "8.02                   162\n",
       "9.0                    137\n",
       "5.5                    126\n",
       "5.02                   106\n",
       "4.0                     89\n",
       "0.02                    70\n",
       "8.5                     69\n",
       "6.75                    54\n",
       "10.0                    47\n",
       "7.25                    43\n",
       "9.02                    36\n",
       "6.25                    34\n",
       "DATA QUALITY ISSUE      33\n",
       "4.5                     30\n",
       "4.02                    26\n",
       "7.33                    24\n",
       "6.67                    19\n",
       "7.75                    19\n",
       "5.75                    17\n",
       "3.0                     17\n",
       "7.17                    15\n",
       "7.67                    12\n",
       "                      ... \n",
       "6.65                     1\n",
       "6.22                     1\n",
       "7.37                     1\n",
       "4.57                     1\n",
       "6.77                     1\n",
       "9.23                     1\n",
       "6.1                      1\n",
       "3.67                     1\n",
       "6.52                     1\n",
       "6.13                     1\n",
       "8.6                      1\n",
       "7.9                      1\n",
       "5.48                     1\n",
       "7.47                     1\n",
       "7.45                     1\n",
       "7.18                     1\n",
       "7.23                     1\n",
       "4.6                      1\n",
       "9.17                     1\n",
       "8.62                     1\n",
       "0.08                     1\n",
       "8.1                      1\n",
       "7.52                     1\n",
       "5.42                     1\n",
       "3.35                     1\n",
       "7.03                     1\n",
       "6.68                     1\n",
       "6.57                     1\n",
       "3.73                     1\n",
       "5.3                      1\n",
       "Name: sleep_time_workday, Length: 185, dtype: int64"
      ]
     },
     "execution_count": 37,
     "metadata": {},
     "output_type": "execute_result"
    }
   ],
   "source": [
    "## Exclude if sleep time workday is > .99 percentile of the sample in this case > 10\n",
    "sleephabits.sleep_time_workday[ sleephabits.sleep_time_workday > 10 ] = 'DATA QUALITY ISSUE'\n",
    "sleephabits.sleep_time_workday.value_counts()"
   ]
  },
  {
   "cell_type": "markdown",
   "metadata": {},
   "source": [
    "### Clean sleep_time_weekend"
   ]
  },
  {
   "cell_type": "code",
   "execution_count": 39,
   "metadata": {},
   "outputs": [
    {
     "data": {
      "text/plain": [
       "0.100     6.00\n",
       "0.500     8.00\n",
       "0.600     8.02\n",
       "0.800     9.00\n",
       "0.850     9.02\n",
       "0.900    10.00\n",
       "0.950    10.02\n",
       "0.970    11.02\n",
       "0.990    12.02\n",
       "0.999    16.02\n",
       "1.000    20.02\n",
       "Name: sleep_time_weekend, dtype: float64"
      ]
     },
     "execution_count": 39,
     "metadata": {},
     "output_type": "execute_result"
    },
    {
     "data": {
      "text/plain": [
       "count    5538.000000\n",
       "mean        7.843790\n",
       "std         1.869131\n",
       "min         0.020000\n",
       "25%         7.000000\n",
       "50%         8.000000\n",
       "75%         9.000000\n",
       "max        20.020000\n",
       "Name: sleep_time_weekend, dtype: float64"
      ]
     },
     "execution_count": 39,
     "metadata": {},
     "output_type": "execute_result"
    }
   ],
   "source": [
    "sleephabits.sleep_time_weekend = sleephabits['sleep_time_weekend']\n",
    "\n",
    "sleephabits.sleep_time_weekend.quantile([.01, .05, .5, .6, .8, .85, .90, .95, .97, 0.99, 0.999, 1])\n",
    "sleephabis.sleep_time_weekend.describe()"
   ]
  },
  {
   "cell_type": "code",
   "execution_count": 40,
   "metadata": {},
   "outputs": [
    {
     "name": "stderr",
     "output_type": "stream",
     "text": [
      "[WARNING] /usr/local/lib/python2.7/site-packages/ipykernel_launcher.py:2: SettingWithCopyWarning: \n",
      "A value is trying to be set on a copy of a slice from a DataFrame\n",
      "\n",
      "See the caveats in the documentation: http://pandas.pydata.org/pandas-docs/stable/indexing.html#indexing-view-versus-copy\n",
      "  \n",
      "\n"
     ]
    },
    {
     "data": {
      "text/plain": [
       "8.0                   1064\n",
       "7.0                    674\n",
       "9.0                    663\n",
       "8.02                   343\n",
       "10.0                   324\n",
       "6.0                    286\n",
       "7.02                   255\n",
       "9.02                   238\n",
       "7.5                    211\n",
       "8.5                    177\n",
       "10.02                  146\n",
       "6.02                   143\n",
       "5.0                    106\n",
       "6.5                     81\n",
       "0.02                    58\n",
       "11.0                    58\n",
       "12.0                    58\n",
       "5.02                    56\n",
       "12.02                   44\n",
       "4.0                     39\n",
       "9.5                     35\n",
       "11.02                   34\n",
       "DATA QUALITY ISSUE      31\n",
       "5.5                     23\n",
       "8.25                    20\n",
       "7.75                    19\n",
       "3.0                     15\n",
       "4.02                    15\n",
       "4.5                     13\n",
       "7.25                    13\n",
       "                      ... \n",
       "0.05                     1\n",
       "0.07                     1\n",
       "9.42                     1\n",
       "8.55                     1\n",
       "7.98                     1\n",
       "5.27                     1\n",
       "7.8                      1\n",
       "7.35                     1\n",
       "6.18                     1\n",
       "8.37                     1\n",
       "7.87                     1\n",
       "9.1                      1\n",
       "8.98                     1\n",
       "8.77                     1\n",
       "7.28                     1\n",
       "8.8                      1\n",
       "1.67                     1\n",
       "7.12                     1\n",
       "5.83                     1\n",
       "9.03                     1\n",
       "6.67                     1\n",
       "7.13                     1\n",
       "4.27                     1\n",
       "5.6                      1\n",
       "7.37                     1\n",
       "8.32                     1\n",
       "8.35                     1\n",
       "6.7                      1\n",
       "7.15                     1\n",
       "6.2                      1\n",
       "Name: sleep_time_weekend, Length: 184, dtype: int64"
      ]
     },
     "execution_count": 40,
     "metadata": {},
     "output_type": "execute_result"
    }
   ],
   "source": [
    "## Exclude if sleep time weekend is > .99 percentile of the sample in this case > 12.02 \n",
    "sleephabits.sleep_time_weekend[ sleephabits.sleep_time_weekend > 12.02 ] = 'DATA QUALITY ISSUE'\n",
    "sleephabits.sleep_time_weekend.value_counts()"
   ]
  },
  {
   "cell_type": "markdown",
   "metadata": {},
   "source": [
    "### Create Internal & External Copies of the Data"
   ]
  },
  {
   "cell_type": "code",
   "execution_count": 42,
   "metadata": {},
   "outputs": [
    {
     "data": {
      "text/plain": [
       "(3311, 16)"
      ]
     },
     "execution_count": 42,
     "metadata": {},
     "output_type": "execute_result"
    }
   ],
   "source": [
    "#download the data \n",
    "sharing_info = pd.read_excel(syn.get('syn21557215').path)\n",
    "healthCodes_with_broadsharing = sharing_info[sharing_info.sharing == 'all_qualified_researchers']\n",
    "\n",
    "EXTERNAL_SLEEPHABITS_DATA = sleephabits[sleephabits.participantId.isin(healthCodes_with_broadsharing['participant id'])]\n",
    "EXTERNAL_SLEEPHABITS_DATA.shape"
   ]
  },
  {
   "cell_type": "markdown",
   "metadata": {},
   "source": [
    "### External - Upload to Synapse"
   ]
  },
  {
   "cell_type": "code",
   "execution_count": 43,
   "metadata": {},
   "outputs": [
    {
     "data": {
      "text/plain": [
       "3163"
      ]
     },
     "execution_count": 43,
     "metadata": {},
     "output_type": "execute_result"
    },
    {
     "data": {
      "text/plain": [
       "<synapseclient.table.CsvFileTable at 0x1110d3a10>"
      ]
     },
     "execution_count": 43,
     "metadata": {},
     "output_type": "execute_result"
    }
   ],
   "source": [
    "SH_EXTERNAL_PROJECT = 'syn18492837'\n",
    "table_schema_external = Schema(name='Sleep Habits',\n",
    "                               columns=as_table_columns(EXTERNAL_SLEEPHABITS_DATA),\n",
    "                               parent=SH_EXTERNAL_PROJECT)\n",
    "sleephabits_synTable_external = syn.store(Table(table_schema_external,EXTERNAL_SLEEPHABITS_DATA))\n",
    "sleephabits_synTable_external"
   ]
  },
  {
   "cell_type": "markdown",
   "metadata": {},
   "source": [
    "### Internal - Upload to Synapse"
   ]
  },
  {
   "cell_type": "code",
   "execution_count": 44,
   "metadata": {},
   "outputs": [],
   "source": [
    "SH_INTERNAL_PROJECT = 'syn7066726'\n",
    "table_schema_internal = Schema(name='Sleep Habits Internal',\n",
    "                               columns=as_table_columns(sleephabits), \n",
    "                               parent=SH_INTERNAL_PROJECT)\n",
    "sleephabits_synTable_internal = syn.store(Table(table_schema_internal,sleephabits))"
   ]
  },
  {
   "cell_type": "markdown",
   "metadata": {},
   "source": [
    "### Set Provenance"
   ]
  },
  {
   "cell_type": "code",
   "execution_count": 45,
   "metadata": {},
   "outputs": [
    {
     "data": {
      "text/plain": [
       "{u'createdBy': u'3334346',\n",
       " u'createdOn': u'2020-04-08T20:35:34.045Z',\n",
       " u'description': u'Process and convert raw data to table format',\n",
       " u'etag': u'd38a69d3-27ab-4a4d-a1ec-973ed325bf54',\n",
       " u'id': u'10232210',\n",
       " u'modifiedBy': u'3334346',\n",
       " u'modifiedOn': u'2020-04-08T20:35:34.045Z',\n",
       " u'name': u'Sleep Habits data curation',\n",
       " u'used': [{u'concreteType': u'org.sagebionetworks.repo.model.provenance.UsedURL',\n",
       "   u'name': u'https://github.com/deerings/SLEEPHEALTHv2-Data-Release/Create_Sleep_Habits.ipynb',\n",
       "   u'url': u'https://github.com/deerings/SLEEPHEALTHv2-Data-Release/Create_Sleep_Habits.ipynb',\n",
       "   u'wasExecuted': True},\n",
       "  {u'concreteType': u'org.sagebionetworks.repo.model.provenance.UsedEntity',\n",
       "   u'reference': {u'targetId': u'syn7117919', u'targetVersionNumber': 774},\n",
       "   u'wasExecuted': False}]}"
      ]
     },
     "execution_count": 45,
     "metadata": {},
     "output_type": "execute_result"
    },
    {
     "data": {
      "text/plain": [
       "{u'createdBy': u'3334346',\n",
       " u'createdOn': u'2020-04-08T20:35:37.657Z',\n",
       " u'description': u'Process and convert raw data to table format',\n",
       " u'etag': u'13734eca-1161-4031-8e85-c8ce43b37c2b',\n",
       " u'id': u'10232211',\n",
       " u'modifiedBy': u'3334346',\n",
       " u'modifiedOn': u'2020-04-08T20:35:37.657Z',\n",
       " u'name': u'Sleep Habits data curation',\n",
       " u'used': [{u'concreteType': u'org.sagebionetworks.repo.model.provenance.UsedURL',\n",
       "   u'name': u'https://github.com/deerings/SLEEPHEALTHv2-Data-Release/Create_Sleep_Habits.ipynb',\n",
       "   u'url': u'https://github.com/deerings/SLEEPHEALTHv2-Data-Release/Create_Sleep_Habits.ipynb',\n",
       "   u'wasExecuted': True},\n",
       "  {u'concreteType': u'org.sagebionetworks.repo.model.provenance.UsedEntity',\n",
       "   u'reference': {u'targetId': u'syn7117919', u'targetVersionNumber': 774},\n",
       "   u'wasExecuted': False}]}"
      ]
     },
     "execution_count": 45,
     "metadata": {},
     "output_type": "execute_result"
    }
   ],
   "source": [
    "activity=Activity(name= 'Sleep Habits data curation', \n",
    "                  description='Process and convert raw data to table format', \n",
    "                  used=sleephabits_raw_id, \n",
    "                  executed='https://github.com/apratap/SleepHealth_Data_Release/blob/master/Create_Sleep_Habits.ipynb')\n",
    "#Internal \n",
    "syn.setProvenance(sleephabits_synTable_internal, activity)\n",
    "\n",
    "#External\n",
    "syn.setProvenance(sleephabits_synTable_external, activity)"
   ]
  }
 ],
 "metadata": {
  "kernelspec": {
   "display_name": "Python 2",
   "language": "python",
   "name": "python2"
  },
  "language_info": {
   "codemirror_mode": {
    "name": "ipython",
    "version": 2
   },
   "file_extension": ".py",
   "mimetype": "text/x-python",
   "name": "python",
   "nbconvert_exporter": "python",
   "pygments_lexer": "ipython2",
   "version": "2.7.17"
  },
  "varInspector": {
   "cols": {
    "lenName": 16,
    "lenType": 16,
    "lenVar": 40
   },
   "kernels_config": {
    "python": {
     "delete_cmd_postfix": "",
     "delete_cmd_prefix": "del ",
     "library": "var_list.py",
     "varRefreshCmd": "print(var_dic_list())"
    },
    "r": {
     "delete_cmd_postfix": ") ",
     "delete_cmd_prefix": "rm(",
     "library": "var_list.r",
     "varRefreshCmd": "cat(var_dic_list()) "
    }
   },
   "types_to_exclude": [
    "module",
    "function",
    "builtin_function_or_method",
    "instance",
    "_Feature"
   ],
   "window_display": false
  }
 },
 "nbformat": 4,
 "nbformat_minor": 2
}
