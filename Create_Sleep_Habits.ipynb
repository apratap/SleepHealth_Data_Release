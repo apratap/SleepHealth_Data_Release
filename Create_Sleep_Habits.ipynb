{
 "cells": [
  {
   "cell_type": "markdown",
   "metadata": {},
   "source": [
    "# Sleep Habits Data Prep"
   ]
  },
  {
   "cell_type": "code",
   "execution_count": 25,
   "metadata": {
    "ExecuteTime": {
     "end_time": "2018-11-08T20:51:18.756789Z",
     "start_time": "2018-11-08T20:51:16.206741Z"
    }
   },
   "outputs": [
    {
     "name": "stderr",
     "output_type": "stream",
     "text": [
      "\n",
      "UPGRADE AVAILABLE\n",
      "\n",
      "A more recent version of the Synapse Client (2.0.0) is available. Your version (1.9.4) can be upgraded by typing:\n",
      "    pip install --upgrade synapseclient\n",
      "\n",
      "Python Synapse Client version 2.0.0 release notes\n",
      "\n",
      "https://python-docs.synapse.org/build/html/news.html\n",
      "\n"
     ]
    },
    {
     "name": "stdout",
     "output_type": "stream",
     "text": [
      "Welcome, Sean Deering!\n",
      "\n"
     ]
    }
   ],
   "source": [
    "import datetime as dt\n",
    "import numpy as np\n",
    "import pandas as pd\n",
    "import matplotlib.pyplot as plt\n",
    "from IPython.core.interactiveshell import InteractiveShell\n",
    "import synapseclient\n",
    "from synapseclient import Activity, Schema, Table, as_table_columns\n",
    "\n",
    "InteractiveShell.ast_node_interactivity = 'all'\n",
    "syn = synapseclient.Synapse()\n",
    "syn.login()"
   ]
  },
  {
   "cell_type": "markdown",
   "metadata": {},
   "source": [
    "### Get Raw Sleep Habits Data"
   ]
  },
  {
   "cell_type": "code",
   "execution_count": 26,
   "metadata": {
    "ExecuteTime": {
     "end_time": "2018-11-08T20:51:03.792459Z",
     "start_time": "2018-11-08T20:50:50.988008Z"
    }
   },
   "outputs": [],
   "source": [
    "sleephabits_raw_id = 'syn7117919'\n",
    "sleephabits = pd.read_csv(syn.get(sleephabits_raw_id).path)"
   ]
  },
  {
   "cell_type": "markdown",
   "metadata": {},
   "source": [
    "## Replace white space with NaN"
   ]
  },
  {
   "cell_type": "code",
   "execution_count": 27,
   "metadata": {},
   "outputs": [],
   "source": [
    "sleephabits = sleephabits.replace(r'^\\s*$', np.nan, regex=True)"
   ]
  },
  {
   "cell_type": "markdown",
   "metadata": {},
   "source": [
    "### Process Sleep Habits Data"
   ]
  },
  {
   "cell_type": "code",
   "execution_count": 28,
   "metadata": {
    "ExecuteTime": {
     "end_time": "2018-11-08T20:51:04.422718Z",
     "start_time": "2018-11-08T20:51:03.852456Z"
    },
    "scrolled": false
   },
   "outputs": [],
   "source": [
    "#convert seconds to hours   \n",
    "sleephabits.sleep_time_weekday = sleephabits.sleep_time_weekday.astype(float)/3600\n",
    "sleephabits.sleep_time_weekend = sleephabits.sleep_time_weekend.astype(float)/3600\n",
    "sleephabits.sleep_time_weekday = sleephabits.sleep_time_weekday.round(decimals=2)\n",
    "sleephabits.sleep_time_weekend = sleephabits.sleep_time_weekend.round(decimals=2)\n",
    "\n",
    "#rename sleep_time_weekday to sleep_time_workday so it's more consistent with the way the question was asked\n",
    "sleephabits = sleephabits.rename(columns={'sleep_time_weekday':'sleep_time_workday'})\n",
    "\n",
    "#convert seconds to minutes\n",
    "sleephabits.sleep_lost = sleephabits.sleep_lost.astype(float)/60\n",
    "sleephabits.sleep_lost = sleephabits.sleep_lost.round(decimals=2)\n",
    "\n",
    "#remove brackets\n",
    "def remove_brackets(col):\n",
    "    return( col.astype(str).str.replace(']', '').str.replace('[',''))\n",
    "sleephabits.alarm_dependency = remove_brackets(sleephabits.alarm_dependency)\n",
    "sleephabits.driving_sleepy = remove_brackets(sleephabits.driving_sleepy)\n",
    "sleephabits.falling_asleep = remove_brackets(sleephabits.falling_asleep)\n",
    "sleephabits.morning_person = remove_brackets(sleephabits.morning_person)\n",
    "sleephabits.nap_duration = remove_brackets(sleephabits.nap_duration)\n",
    "sleephabits.sleep_partner = remove_brackets(sleephabits.sleep_partner)\n",
    "sleephabits.wake_up_choices = remove_brackets(sleephabits.wake_up_choices)\n",
    "sleephabits.weekly_naps = remove_brackets(sleephabits.weekly_naps)\n",
    "sleephabits.what_wakes_you = remove_brackets(sleephabits.what_wakes_you)"
   ]
  },
  {
   "cell_type": "markdown",
   "metadata": {},
   "source": [
    "### Filter based on age"
   ]
  },
  {
   "cell_type": "code",
   "execution_count": 29,
   "metadata": {
    "ExecuteTime": {
     "end_time": "2018-11-08T20:52:43.095693Z",
     "start_time": "2018-11-08T20:52:43.049691Z"
    }
   },
   "outputs": [],
   "source": [
    "underage_participants = pd.read_csv( syn.get('syn21905452').path, sep=\"\\t\")\n",
    "sleephabits = sleephabits[~sleephabits.participantId.isin(underage_participants.participantId)]"
   ]
  },
  {
   "cell_type": "markdown",
   "metadata": {},
   "source": [
    "### Clean Sleep Habits data"
   ]
  },
  {
   "cell_type": "markdown",
   "metadata": {},
   "source": [
    "### Clean wake_ups"
   ]
  },
  {
   "cell_type": "code",
   "execution_count": 30,
   "metadata": {},
   "outputs": [
    {
     "data": {
      "text/plain": [
       "count    5404.000000\n",
       "mean        2.207624\n",
       "std         2.866357\n",
       "min         0.000000\n",
       "25%         1.000000\n",
       "50%         2.000000\n",
       "75%         3.000000\n",
       "max       100.000000\n",
       "Name: wake_ups, dtype: float64"
      ]
     },
     "execution_count": 30,
     "metadata": {},
     "output_type": "execute_result"
    },
    {
     "data": {
      "text/plain": [
       "0.010      0.0\n",
       "0.050      0.0\n",
       "0.500      2.0\n",
       "0.600      2.0\n",
       "0.800      3.0\n",
       "0.850      4.0\n",
       "0.900      4.0\n",
       "0.950      5.0\n",
       "0.970      6.0\n",
       "0.990     10.0\n",
       "0.999     25.0\n",
       "1.000    100.0\n",
       "Name: wake_ups, dtype: float64"
      ]
     },
     "execution_count": 30,
     "metadata": {},
     "output_type": "execute_result"
    }
   ],
   "source": [
    "sleephabits.wake_ups.describe()\n",
    "sleephabits.wake_ups.quantile([.01, .05, .5, .6, .8, .85, .90, .95, .97, 0.99, 0.999, 1])"
   ]
  },
  {
   "cell_type": "code",
   "execution_count": 31,
   "metadata": {},
   "outputs": [
    {
     "data": {
      "text/plain": [
       "1.0                 1404\n",
       "2.0                 1385\n",
       "3.0                  907\n",
       "0.0                  860\n",
       "4.0                  325\n",
       "5.0                  291\n",
       "6.0                   80\n",
       "10.0                  44\n",
       "7.0                   42\n",
       "LOW DATA QUALITY      34\n",
       "8.0                   28\n",
       "9.0                    4\n",
       "Name: wake_ups, dtype: int64"
      ]
     },
     "execution_count": 31,
     "metadata": {},
     "output_type": "execute_result"
    }
   ],
   "source": [
    "## Exclude if wake ups is > .99 percentile of the sample in this case > 10\n",
    "sleephabits.wake_ups[ sleephabits.wake_ups > 10 ] = 'LOW DATA QUALITY'\n",
    "sleephabits.wake_ups.value_counts()"
   ]
  },
  {
   "cell_type": "markdown",
   "metadata": {},
   "source": [
    "### Clean sleep_needed"
   ]
  },
  {
   "cell_type": "code",
   "execution_count": 32,
   "metadata": {},
   "outputs": [
    {
     "data": {
      "text/plain": [
       "count    5356.000000\n",
       "mean        7.553211\n",
       "std         1.362142\n",
       "min         0.000000\n",
       "25%         7.000000\n",
       "50%         8.000000\n",
       "75%         8.000000\n",
       "max        24.000000\n",
       "Name: sleep_needed, dtype: float64"
      ]
     },
     "execution_count": 32,
     "metadata": {},
     "output_type": "execute_result"
    },
    {
     "data": {
      "text/plain": [
       "0.010     4.0\n",
       "0.050     5.0\n",
       "0.500     8.0\n",
       "0.600     8.0\n",
       "0.800     8.0\n",
       "0.850     9.0\n",
       "0.900     9.0\n",
       "0.950    10.0\n",
       "0.970    10.0\n",
       "0.990    11.0\n",
       "0.999    14.0\n",
       "1.000    24.0\n",
       "Name: sleep_needed, dtype: float64"
      ]
     },
     "execution_count": 32,
     "metadata": {},
     "output_type": "execute_result"
    }
   ],
   "source": [
    "sleephabits.sleep_needed.describe()\n",
    "sleephabits.sleep_needed.quantile([.01, .05, .5, .6, .8, .85, .90, .95, .97, 0.99, 0.999, 1])"
   ]
  },
  {
   "cell_type": "code",
   "execution_count": 33,
   "metadata": {},
   "outputs": [
    {
     "data": {
      "text/plain": [
       "8.0                 2026\n",
       "7.0                 1506\n",
       "9.0                  616\n",
       "6.0                  613\n",
       "10.0                 231\n",
       "5.0                  194\n",
       "4.0                   72\n",
       "LOW DATA QUALITY      52\n",
       "11.0                  19\n",
       "3.0                    8\n",
       "2.0                    8\n",
       "1.0                    7\n",
       "0.0                    4\n",
       "Name: sleep_needed, dtype: int64"
      ]
     },
     "execution_count": 33,
     "metadata": {},
     "output_type": "execute_result"
    }
   ],
   "source": [
    "## Exclude if sleep needed is > .99 percentile of the sample in this case > 11.43\n",
    "sleephabits.sleep_needed[ sleephabits.sleep_needed > 11.43 ] = 'LOW DATA QUALITY'\n",
    "sleephabits.sleep_needed.value_counts()"
   ]
  },
  {
   "cell_type": "markdown",
   "metadata": {},
   "source": [
    "### Clean sleep_lost"
   ]
  },
  {
   "cell_type": "code",
   "execution_count": 34,
   "metadata": {},
   "outputs": [
    {
     "data": {
      "text/plain": [
       "count    2952.000000\n",
       "mean       22.651423\n",
       "std        55.621458\n",
       "min         1.000000\n",
       "25%         1.000000\n",
       "50%         1.000000\n",
       "75%        22.000000\n",
       "max      1439.000000\n",
       "Name: sleep_lost, dtype: float64"
      ]
     },
     "execution_count": 34,
     "metadata": {},
     "output_type": "execute_result"
    },
    {
     "data": {
      "text/plain": [
       "0.010       1.000\n",
       "0.050       1.000\n",
       "0.500       1.000\n",
       "0.600      10.000\n",
       "0.800      30.000\n",
       "0.850      60.000\n",
       "0.900      60.000\n",
       "0.950     120.000\n",
       "0.970     121.000\n",
       "0.990     181.000\n",
       "0.999     605.929\n",
       "1.000    1439.000\n",
       "Name: sleep_lost, dtype: float64"
      ]
     },
     "execution_count": 34,
     "metadata": {},
     "output_type": "execute_result"
    }
   ],
   "source": [
    "sleephabits.sleep_lost.describe()\n",
    "sleephabits.sleep_lost.quantile([.01, .05, .5, .6, .8, .85, .90, .95, .97, 0.99, 0.999, 1])"
   ]
  },
  {
   "cell_type": "code",
   "execution_count": 35,
   "metadata": {},
   "outputs": [
    {
     "data": {
      "text/plain": [
       "1.0                 1580\n",
       "30.0                 200\n",
       "60.0                 186\n",
       "10.0                 169\n",
       "15.0                 161\n",
       "20.0                 123\n",
       "5.0                  115\n",
       "61.0                  91\n",
       "120.0                 56\n",
       "121.0                 38\n",
       "LOW DATA QUALITY      29\n",
       "45.0                  27\n",
       "180.0                 24\n",
       "90.0                  19\n",
       "3.0                   16\n",
       "25.0                  12\n",
       "181.0                 10\n",
       "6.0                   10\n",
       "2.0                    8\n",
       "40.0                   8\n",
       "4.0                    7\n",
       "7.0                    5\n",
       "12.0                   5\n",
       "8.0                    4\n",
       "13.0                   3\n",
       "150.0                  3\n",
       "18.0                   3\n",
       "75.0                   3\n",
       "22.0                   2\n",
       "28.0                   2\n",
       "34.0                   2\n",
       "32.0                   2\n",
       "66.0                   2\n",
       "65.0                   2\n",
       "35.0                   2\n",
       "62.0                   2\n",
       "46.0                   2\n",
       "31.0                   1\n",
       "42.0                   1\n",
       "68.0                   1\n",
       "105.0                  1\n",
       "116.0                  1\n",
       "55.0                   1\n",
       "48.0                   1\n",
       "135.0                  1\n",
       "14.0                   1\n",
       "119.0                  1\n",
       "16.0                   1\n",
       "17.0                   1\n",
       "39.0                   1\n",
       "19.0                   1\n",
       "123.0                  1\n",
       "24.0                   1\n",
       "33.0                   1\n",
       "26.0                   1\n",
       "93.0                   1\n",
       "Name: sleep_lost, dtype: int64"
      ]
     },
     "execution_count": 35,
     "metadata": {},
     "output_type": "execute_result"
    }
   ],
   "source": [
    "## Exclude if sleep lost is > .99 percentile of the sample in this case > 181\n",
    "sleephabits.sleep_lost[ sleephabits.sleep_lost > 181 ] = 'LOW DATA QUALITY'\n",
    "sleephabits.sleep_lost.value_counts()"
   ]
  },
  {
   "cell_type": "markdown",
   "metadata": {},
   "source": [
    "### Clean sleep_time_workday"
   ]
  },
  {
   "cell_type": "code",
   "execution_count": 36,
   "metadata": {},
   "outputs": [
    {
     "data": {
      "text/plain": [
       "count    5431.000000\n",
       "mean        6.641291\n",
       "std         1.526127\n",
       "min         0.020000\n",
       "25%         6.000000\n",
       "50%         7.000000\n",
       "75%         7.500000\n",
       "max        17.000000\n",
       "Name: sleep_time_workday, dtype: float64"
      ]
     },
     "execution_count": 36,
     "metadata": {},
     "output_type": "execute_result"
    },
    {
     "data": {
      "text/plain": [
       "0.010     0.02\n",
       "0.050     4.33\n",
       "0.500     7.00\n",
       "0.600     7.00\n",
       "0.800     7.90\n",
       "0.850     8.00\n",
       "0.900     8.00\n",
       "0.950     8.50\n",
       "0.970     9.00\n",
       "0.990    10.00\n",
       "0.999    12.02\n",
       "1.000    17.00\n",
       "Name: sleep_time_workday, dtype: float64"
      ]
     },
     "execution_count": 36,
     "metadata": {},
     "output_type": "execute_result"
    }
   ],
   "source": [
    "sleephabits.sleep_time_workday.describe()\n",
    "sleephabits.sleep_time_workday.quantile([.01, .05, .5, .6, .8, .85, .90, .95, .97, 0.99, 0.999, 1])"
   ]
  },
  {
   "cell_type": "code",
   "execution_count": 37,
   "metadata": {},
   "outputs": [
    {
     "data": {
      "text/plain": [
       "7.0                 1089\n",
       "6.0                  761\n",
       "8.0                  554\n",
       "6.5                  355\n",
       "7.5                  346\n",
       "7.02                 310\n",
       "5.0                  299\n",
       "6.02                 227\n",
       "8.02                 158\n",
       "9.0                  128\n",
       "5.5                  125\n",
       "5.02                 105\n",
       "4.0                   86\n",
       "0.02                  70\n",
       "8.5                   67\n",
       "6.75                  54\n",
       "10.0                  45\n",
       "7.25                  43\n",
       "9.02                  35\n",
       "6.25                  33\n",
       "LOW DATA QUALITY      31\n",
       "4.5                   30\n",
       "4.02                  26\n",
       "7.33                  24\n",
       "6.67                  19\n",
       "5.75                  17\n",
       "7.75                  17\n",
       "3.0                   16\n",
       "7.17                  15\n",
       "9.5                   11\n",
       "                    ... \n",
       "7.78                   1\n",
       "3.73                   1\n",
       "5.27                   1\n",
       "6.2                    1\n",
       "6.1                    1\n",
       "6.22                   1\n",
       "4.08                   1\n",
       "9.23                   1\n",
       "8.8                    1\n",
       "7.9                    1\n",
       "7.18                   1\n",
       "6.82                   1\n",
       "8.67                   1\n",
       "6.52                   1\n",
       "7.95                   1\n",
       "7.53                   1\n",
       "7.47                   1\n",
       "9.17                   1\n",
       "5.42                   1\n",
       "7.37                   1\n",
       "4.6                    1\n",
       "5.3                    1\n",
       "8.62                   1\n",
       "0.08                   1\n",
       "8.1                    1\n",
       "7.52                   1\n",
       "8.55                   1\n",
       "7.03                   1\n",
       "6.68                   1\n",
       "6.57                   1\n",
       "Name: sleep_time_workday, Length: 183, dtype: int64"
      ]
     },
     "execution_count": 37,
     "metadata": {},
     "output_type": "execute_result"
    }
   ],
   "source": [
    "## Exclude if sleep time workday is > .99 percentile of the sample in this case > 10\n",
    "sleephabits.sleep_time_workday[ sleephabits.sleep_time_workday > 10 ] = 'LOW DATA QUALITY'\n",
    "sleephabits.sleep_time_workday.value_counts()"
   ]
  },
  {
   "cell_type": "markdown",
   "metadata": {},
   "source": [
    "### Clean sleep_time_weekend"
   ]
  },
  {
   "cell_type": "code",
   "execution_count": 39,
   "metadata": {},
   "outputs": [
    {
     "data": {
      "text/plain": [
       "0.010     0.02000\n",
       "0.050     5.00000\n",
       "0.500     8.00000\n",
       "0.600     8.02000\n",
       "0.800     9.00000\n",
       "0.850     9.02000\n",
       "0.900    10.00000\n",
       "0.950    10.02000\n",
       "0.970    11.02000\n",
       "0.990    12.02000\n",
       "0.999    16.01136\n",
       "1.000    20.02000\n",
       "Name: sleep_time_weekend, dtype: float64"
      ]
     },
     "execution_count": 39,
     "metadata": {},
     "output_type": "execute_result"
    },
    {
     "data": {
      "text/plain": [
       "count    5433.000000\n",
       "mean        7.828776\n",
       "std         1.858580\n",
       "min         0.020000\n",
       "25%         7.000000\n",
       "50%         8.000000\n",
       "75%         9.000000\n",
       "max        20.020000\n",
       "Name: sleep_time_weekend, dtype: float64"
      ]
     },
     "execution_count": 39,
     "metadata": {},
     "output_type": "execute_result"
    }
   ],
   "source": [
    "sleephabits.sleep_time_weekend = sleephabits['sleep_time_weekend']\n",
    "\n",
    "sleephabits.sleep_time_weekend.quantile([.01, .05, .5, .6, .8, .85, .90, .95, .97, 0.99, 0.999, 1])\n",
    "sleephabits.sleep_time_weekend.describe()"
   ]
  },
  {
   "cell_type": "code",
   "execution_count": 40,
   "metadata": {},
   "outputs": [
    {
     "name": "stderr",
     "output_type": "stream",
     "text": [
      "[WARNING] /usr/local/lib/python2.7/site-packages/ipykernel_launcher.py:2: SettingWithCopyWarning: \n",
      "A value is trying to be set on a copy of a slice from a DataFrame\n",
      "\n",
      "See the caveats in the documentation: http://pandas.pydata.org/pandas-docs/stable/indexing.html#indexing-view-versus-copy\n",
      "  \n",
      "\n"
     ]
    },
    {
     "data": {
      "text/plain": [
       "8.0                 1052\n",
       "7.0                  668\n",
       "9.0                  653\n",
       "8.02                 337\n",
       "10.0                 310\n",
       "6.0                  283\n",
       "7.02                 252\n",
       "9.02                 231\n",
       "7.5                  211\n",
       "8.5                  172\n",
       "6.02                 142\n",
       "10.02                138\n",
       "5.0                  105\n",
       "6.5                   81\n",
       "12.0                  57\n",
       "0.02                  57\n",
       "11.0                  56\n",
       "5.02                  56\n",
       "12.02                 43\n",
       "4.0                   36\n",
       "9.5                   32\n",
       "11.02                 32\n",
       "LOW DATA QUALITY      28\n",
       "5.5                   23\n",
       "8.25                  20\n",
       "7.75                  19\n",
       "3.0                   14\n",
       "7.25                  13\n",
       "4.02                  13\n",
       "4.5                   13\n",
       "                    ... \n",
       "0.05                   1\n",
       "8.15                   1\n",
       "8.47                   1\n",
       "8.55                   1\n",
       "6.7                    1\n",
       "8.87                   1\n",
       "7.8                    1\n",
       "0.07                   1\n",
       "7.35                   1\n",
       "8.37                   1\n",
       "7.87                   1\n",
       "9.1                    1\n",
       "8.98                   1\n",
       "6.72                   1\n",
       "7.28                   1\n",
       "8.8                    1\n",
       "1.67                   1\n",
       "6.18                   1\n",
       "5.83                   1\n",
       "10.17                  1\n",
       "7.12                   1\n",
       "7.13                   1\n",
       "4.27                   1\n",
       "9.03                   1\n",
       "5.6                    1\n",
       "6.67                   1\n",
       "7.37                   1\n",
       "8.32                   1\n",
       "8.35                   1\n",
       "9.32                   1\n",
       "Name: sleep_time_weekend, Length: 181, dtype: int64"
      ]
     },
     "execution_count": 40,
     "metadata": {},
     "output_type": "execute_result"
    }
   ],
   "source": [
    "## Exclude if sleep time weekend is > .99 percentile of the sample in this case > 12.02 \n",
    "sleephabits.sleep_time_weekend[ sleephabits.sleep_time_weekend > 12.02 ] = 'LOW DATA QUALITY'\n",
    "sleephabits.sleep_time_weekend.value_counts()"
   ]
  },
  {
   "cell_type": "markdown",
   "metadata": {},
   "source": [
    "### Create Internal & External Copies of the Data"
   ]
  },
  {
   "cell_type": "code",
   "execution_count": 41,
   "metadata": {},
   "outputs": [
    {
     "data": {
      "text/plain": [
       "(3248, 16)"
      ]
     },
     "execution_count": 41,
     "metadata": {},
     "output_type": "execute_result"
    }
   ],
   "source": [
    "#download the data \n",
    "sharing_info = pd.read_excel(syn.get('syn21557215').path)\n",
    "healthCodes_with_broadsharing = sharing_info[sharing_info.sharing == 'all_qualified_researchers']\n",
    "\n",
    "EXTERNAL_SLEEPHABITS_DATA = sleephabits[sleephabits.participantId.isin(healthCodes_with_broadsharing['participant id'])]\n",
    "EXTERNAL_SLEEPHABITS_DATA.shape"
   ]
  },
  {
   "cell_type": "markdown",
   "metadata": {},
   "source": [
    "### External - Upload to Synapse"
   ]
  },
  {
   "cell_type": "code",
   "execution_count": null,
   "metadata": {},
   "outputs": [],
   "source": [
    "SH_EXTERNAL_PROJECT = 'syn18492837'\n",
    "table_schema_external = Schema(name='Sleep Habits',\n",
    "                               columns=as_table_columns(EXTERNAL_SLEEPHABITS_DATA),\n",
    "                               parent=SH_EXTERNAL_PROJECT)\n",
    "sleephabits_synTable_external = syn.store(Table(table_schema_external,EXTERNAL_SLEEPHABITS_DATA))\n",
    "sleephabits_synTable_external"
   ]
  },
  {
   "cell_type": "markdown",
   "metadata": {},
   "source": [
    "### Internal - Upload to Synapse"
   ]
  },
  {
   "cell_type": "code",
   "execution_count": null,
   "metadata": {},
   "outputs": [],
   "source": [
    "SH_INTERNAL_PROJECT = 'syn7066726'\n",
    "table_schema_internal = Schema(name='Sleep Habits Internal',\n",
    "                               columns=as_table_columns(sleephabits), \n",
    "                               parent=SH_INTERNAL_PROJECT)\n",
    "sleephabits_synTable_internal = syn.store(Table(table_schema_internal,sleephabits))"
   ]
  },
  {
   "cell_type": "markdown",
   "metadata": {},
   "source": [
    "### Set Provenance"
   ]
  },
  {
   "cell_type": "code",
   "execution_count": null,
   "metadata": {},
   "outputs": [],
   "source": [
    "activity=Activity(name= 'Sleep Habits data curation', \n",
    "                  description='Process and convert raw data to table format', \n",
    "                  used=sleephabits_raw_id, \n",
    "                  executed='https://github.com/apratap/SleepHealth_Data_Release/blob/master/Create_Sleep_Habits.ipynb')\n",
    "#Internal \n",
    "syn.setProvenance(sleephabits_synTable_internal, activity)\n",
    "\n",
    "#External\n",
    "syn.setProvenance(sleephabits_synTable_external, activity)"
   ]
  }
 ],
 "metadata": {
  "kernelspec": {
   "display_name": "Python 2",
   "language": "python",
   "name": "python2"
  },
  "language_info": {
   "codemirror_mode": {
    "name": "ipython",
    "version": 2
   },
   "file_extension": ".py",
   "mimetype": "text/x-python",
   "name": "python",
   "nbconvert_exporter": "python",
   "pygments_lexer": "ipython2",
   "version": "2.7.17"
  },
  "varInspector": {
   "cols": {
    "lenName": 16,
    "lenType": 16,
    "lenVar": 40
   },
   "kernels_config": {
    "python": {
     "delete_cmd_postfix": "",
     "delete_cmd_prefix": "del ",
     "library": "var_list.py",
     "varRefreshCmd": "print(var_dic_list())"
    },
    "r": {
     "delete_cmd_postfix": ") ",
     "delete_cmd_prefix": "rm(",
     "library": "var_list.r",
     "varRefreshCmd": "cat(var_dic_list()) "
    }
   },
   "types_to_exclude": [
    "module",
    "function",
    "builtin_function_or_method",
    "instance",
    "_Feature"
   ],
   "window_display": false
  }
 },
 "nbformat": 4,
 "nbformat_minor": 2
}
