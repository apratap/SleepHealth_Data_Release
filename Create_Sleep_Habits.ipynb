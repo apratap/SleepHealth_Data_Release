{
 "cells": [
  {
   "cell_type": "markdown",
   "metadata": {},
   "source": [
    "# Sleep Habits Data Prep"
   ]
  },
  {
   "cell_type": "code",
   "execution_count": 1,
   "metadata": {
    "ExecuteTime": {
     "end_time": "2018-11-08T20:51:18.756789Z",
     "start_time": "2018-11-08T20:51:16.206741Z"
    }
   },
   "outputs": [
    {
     "name": "stderr",
     "output_type": "stream",
     "text": [
      "\n",
      "UPGRADE AVAILABLE\n",
      "\n",
      "A more recent version of the Synapse Client (2.0.0) is available. Your version (1.9.4) can be upgraded by typing:\n",
      "    pip install --upgrade synapseclient\n",
      "\n",
      "Python Synapse Client version 2.0.0 release notes\n",
      "\n",
      "https://python-docs.synapse.org/build/html/news.html\n",
      "\n"
     ]
    },
    {
     "name": "stdout",
     "output_type": "stream",
     "text": [
      "Welcome, Sean Deering!\n",
      "\n"
     ]
    }
   ],
   "source": [
    "import datetime as dt\n",
    "import numpy as np\n",
    "import pandas as pd\n",
    "import matplotlib.pyplot as plt\n",
    "from IPython.core.interactiveshell import InteractiveShell\n",
    "import synapseclient\n",
    "from synapseclient import Activity, Schema, Table, as_table_columns\n",
    "\n",
    "InteractiveShell.ast_node_interactivity = 'all'\n",
    "syn = synapseclient.Synapse()\n",
    "syn.login()"
   ]
  },
  {
   "cell_type": "markdown",
   "metadata": {},
   "source": [
    "### Get Raw Sleep Habits Data"
   ]
  },
  {
   "cell_type": "code",
   "execution_count": 2,
   "metadata": {
    "ExecuteTime": {
     "end_time": "2018-11-08T20:51:03.792459Z",
     "start_time": "2018-11-08T20:50:50.988008Z"
    }
   },
   "outputs": [],
   "source": [
    "sleephabits_raw_id = 'syn7117919'\n",
    "sleephabits = pd.read_csv(syn.get(sleephabits_raw_id).path)"
   ]
  },
  {
   "cell_type": "markdown",
   "metadata": {},
   "source": [
    "## Replace white space with NaN"
   ]
  },
  {
   "cell_type": "code",
   "execution_count": 3,
   "metadata": {},
   "outputs": [],
   "source": [
    "sleephabits = sleephabits.replace(r'^\\s*$', np.nan, regex=True)"
   ]
  },
  {
   "cell_type": "markdown",
   "metadata": {},
   "source": [
    "### Process Sleep Habits Data"
   ]
  },
  {
   "cell_type": "code",
   "execution_count": 4,
   "metadata": {
    "ExecuteTime": {
     "end_time": "2018-11-08T20:51:04.422718Z",
     "start_time": "2018-11-08T20:51:03.852456Z"
    },
    "scrolled": false
   },
   "outputs": [],
   "source": [
    "#convert seconds to hours   \n",
    "sleephabits.sleep_time_weekday = sleephabits.sleep_time_weekday.astype(float)/3600\n",
    "sleephabits.sleep_time_weekend = sleephabits.sleep_time_weekend.astype(float)/3600\n",
    "sleephabits.sleep_time_weekday = sleephabits.sleep_time_weekday.round(decimals=2)\n",
    "sleephabits.sleep_time_weekend = sleephabits.sleep_time_weekend.round(decimals=2)\n",
    "\n",
    "#rename sleep_time_weekday to sleep_time_workday so it's more consistent with the way the question was asked\n",
    "sleephabits = sleephabits.rename(columns={'sleep_time_weekday':'sleep_time_workday'})\n",
    "\n",
    "#convert seconds to minutes\n",
    "sleephabits.sleep_lost = sleephabits.sleep_lost.astype(float)/60\n",
    "sleephabits.sleep_lost = sleephabits.sleep_lost.round(decimals=2)\n",
    "\n",
    "#remove brackets\n",
    "def remove_brackets(col):\n",
    "    return( col.astype(str).str.replace(']', '').str.replace('[',''))\n",
    "sleephabits.alarm_dependency = remove_brackets(sleephabits.alarm_dependency)\n",
    "sleephabits.driving_sleepy = remove_brackets(sleephabits.driving_sleepy)\n",
    "sleephabits.falling_asleep = remove_brackets(sleephabits.falling_asleep)\n",
    "sleephabits.morning_person = remove_brackets(sleephabits.morning_person)\n",
    "sleephabits.nap_duration = remove_brackets(sleephabits.nap_duration)\n",
    "sleephabits.sleep_partner = remove_brackets(sleephabits.sleep_partner)\n",
    "sleephabits.wake_up_choices = remove_brackets(sleephabits.wake_up_choices)\n",
    "sleephabits.weekly_naps = remove_brackets(sleephabits.weekly_naps)\n",
    "sleephabits.what_wakes_you = remove_brackets(sleephabits.what_wakes_you)"
   ]
  },
  {
   "cell_type": "markdown",
   "metadata": {},
   "source": [
    "### Filter based on age"
   ]
  },
  {
   "cell_type": "code",
   "execution_count": 5,
   "metadata": {
    "ExecuteTime": {
     "end_time": "2018-11-08T20:52:43.095693Z",
     "start_time": "2018-11-08T20:52:43.049691Z"
    }
   },
   "outputs": [],
   "source": [
    "underage_participants = pd.read_csv( syn.get('syn21905452').path, sep=\"\\t\")\n",
    "sleephabits = sleephabits[~sleephabits.participantId.isin(underage_participants.participantId)]"
   ]
  },
  {
   "cell_type": "markdown",
   "metadata": {},
   "source": [
    "### Remove test accounts"
   ]
  },
  {
   "cell_type": "code",
   "execution_count": 6,
   "metadata": {},
   "outputs": [],
   "source": [
    "test_accounts = pd.read_excel(syn.get('syn21958537').path)\n",
    "\n",
    "sleephabits = sleephabits[~sleephabits.participantId.isin(test_accounts.participantId)]"
   ]
  },
  {
   "cell_type": "markdown",
   "metadata": {},
   "source": [
    "### Clean Sleep Habits data (We have provided full dataset, outlier cleaning code commented out)."
   ]
  },
  {
   "cell_type": "markdown",
   "metadata": {},
   "source": [
    "### Clean wake_ups"
   ]
  },
  {
   "cell_type": "code",
   "execution_count": 7,
   "metadata": {},
   "outputs": [
    {
     "data": {
      "text/plain": [
       "count    5381.000000\n",
       "mean        2.210741\n",
       "std         2.870987\n",
       "min         0.000000\n",
       "25%         1.000000\n",
       "50%         2.000000\n",
       "75%         3.000000\n",
       "max       100.000000\n",
       "Name: wake_ups, dtype: float64"
      ]
     },
     "execution_count": 7,
     "metadata": {},
     "output_type": "execute_result"
    },
    {
     "data": {
      "text/plain": [
       "0.010      0.0\n",
       "0.050      0.0\n",
       "0.500      2.0\n",
       "0.600      2.0\n",
       "0.800      3.0\n",
       "0.850      4.0\n",
       "0.900      4.0\n",
       "0.950      5.0\n",
       "0.970      6.0\n",
       "0.990     10.0\n",
       "0.999     25.0\n",
       "1.000    100.0\n",
       "Name: wake_ups, dtype: float64"
      ]
     },
     "execution_count": 7,
     "metadata": {},
     "output_type": "execute_result"
    }
   ],
   "source": [
    "sleephabits.wake_ups.describe()\n",
    "sleephabits.wake_ups.quantile([.01, .05, .5, .6, .8, .85, .90, .95, .97, 0.99, 0.999, 1])"
   ]
  },
  {
   "cell_type": "code",
   "execution_count": 8,
   "metadata": {},
   "outputs": [],
   "source": [
    "## Exclude if wake ups is > .99 percentile of the sample in this case > 10\n",
    "#sleephabits.wake_ups[ sleephabits.wake_ups > 10 ] = 'LOW DATA QUALITY'\n",
    "#sleephabits.wake_ups.value_counts()"
   ]
  },
  {
   "cell_type": "markdown",
   "metadata": {},
   "source": [
    "### Clean sleep_needed"
   ]
  },
  {
   "cell_type": "code",
   "execution_count": 9,
   "metadata": {},
   "outputs": [
    {
     "data": {
      "text/plain": [
       "count    5333.000000\n",
       "mean        7.556535\n",
       "std         1.358906\n",
       "min         0.000000\n",
       "25%         7.000000\n",
       "50%         8.000000\n",
       "75%         8.000000\n",
       "max        24.000000\n",
       "Name: sleep_needed, dtype: float64"
      ]
     },
     "execution_count": 9,
     "metadata": {},
     "output_type": "execute_result"
    },
    {
     "data": {
      "text/plain": [
       "0.010     4.0\n",
       "0.050     5.0\n",
       "0.500     8.0\n",
       "0.600     8.0\n",
       "0.800     8.0\n",
       "0.850     9.0\n",
       "0.900     9.0\n",
       "0.950    10.0\n",
       "0.970    10.0\n",
       "0.990    11.0\n",
       "0.999    14.0\n",
       "1.000    24.0\n",
       "Name: sleep_needed, dtype: float64"
      ]
     },
     "execution_count": 9,
     "metadata": {},
     "output_type": "execute_result"
    }
   ],
   "source": [
    "sleephabits.sleep_needed.describe()\n",
    "sleephabits.sleep_needed.quantile([.01, .05, .5, .6, .8, .85, .90, .95, .97, 0.99, 0.999, 1])"
   ]
  },
  {
   "cell_type": "code",
   "execution_count": 10,
   "metadata": {},
   "outputs": [],
   "source": [
    "## Exclude if sleep needed is > .99 percentile of the sample in this case > 11\n",
    "#sleephabits.sleep_needed[ sleephabits.sleep_needed > 11 ] = 'LOW DATA QUALITY'\n",
    "#sleephabits.sleep_needed.value_counts()"
   ]
  },
  {
   "cell_type": "markdown",
   "metadata": {},
   "source": [
    "### Clean sleep_lost"
   ]
  },
  {
   "cell_type": "code",
   "execution_count": 11,
   "metadata": {},
   "outputs": [
    {
     "data": {
      "text/plain": [
       "count    2934.000000\n",
       "mean       22.726653\n",
       "std        55.770488\n",
       "min         1.000000\n",
       "25%         1.000000\n",
       "50%         1.000000\n",
       "75%        23.500000\n",
       "max      1439.000000\n",
       "Name: sleep_lost, dtype: float64"
      ]
     },
     "execution_count": 11,
     "metadata": {},
     "output_type": "execute_result"
    },
    {
     "data": {
      "text/plain": [
       "0.010       1.000\n",
       "0.050       1.000\n",
       "0.500       1.000\n",
       "0.600      10.000\n",
       "0.800      30.000\n",
       "0.850      60.000\n",
       "0.900      60.000\n",
       "0.950     120.000\n",
       "0.970     121.000\n",
       "0.990     181.000\n",
       "0.999     608.107\n",
       "1.000    1439.000\n",
       "Name: sleep_lost, dtype: float64"
      ]
     },
     "execution_count": 11,
     "metadata": {},
     "output_type": "execute_result"
    }
   ],
   "source": [
    "sleephabits.sleep_lost.describe()\n",
    "sleephabits.sleep_lost.quantile([.01, .05, .5, .6, .8, .85, .90, .95, .97, 0.99, 0.999, 1])"
   ]
  },
  {
   "cell_type": "code",
   "execution_count": 12,
   "metadata": {},
   "outputs": [],
   "source": [
    "## Exclude if sleep lost is > .99 percentile of the sample in this case > 181\n",
    "#sleephabits.sleep_lost[ sleephabits.sleep_lost > 181 ] = 'LOW DATA QUALITY'\n",
    "#sleephabits.sleep_lost.value_counts()"
   ]
  },
  {
   "cell_type": "markdown",
   "metadata": {},
   "source": [
    "### Clean sleep_time_workday"
   ]
  },
  {
   "cell_type": "code",
   "execution_count": 13,
   "metadata": {},
   "outputs": [
    {
     "data": {
      "text/plain": [
       "count    5408.000000\n",
       "mean        6.644638\n",
       "std         1.521031\n",
       "min         0.020000\n",
       "25%         6.000000\n",
       "50%         7.000000\n",
       "75%         7.500000\n",
       "max        17.000000\n",
       "Name: sleep_time_workday, dtype: float64"
      ]
     },
     "execution_count": 13,
     "metadata": {},
     "output_type": "execute_result"
    },
    {
     "data": {
      "text/plain": [
       "0.010     0.020\n",
       "0.050     4.500\n",
       "0.500     7.000\n",
       "0.600     7.000\n",
       "0.800     7.912\n",
       "0.850     8.000\n",
       "0.900     8.000\n",
       "0.950     8.500\n",
       "0.970     9.000\n",
       "0.990    10.000\n",
       "0.999    12.020\n",
       "1.000    17.000\n",
       "Name: sleep_time_workday, dtype: float64"
      ]
     },
     "execution_count": 13,
     "metadata": {},
     "output_type": "execute_result"
    }
   ],
   "source": [
    "sleephabits.sleep_time_workday.describe()\n",
    "sleephabits.sleep_time_workday.quantile([.01, .05, .5, .6, .8, .85, .90, .95, .97, 0.99, 0.999, 1])"
   ]
  },
  {
   "cell_type": "code",
   "execution_count": 14,
   "metadata": {},
   "outputs": [],
   "source": [
    "## Exclude if sleep time workday is > .99 percentile of the sample in this case > 10\n",
    "#sleephabits.sleep_time_workday[ sleephabits.sleep_time_workday > 10 ] = 'LOW DATA QUALITY'\n",
    "#sleephabits.sleep_time_workday.value_counts()"
   ]
  },
  {
   "cell_type": "markdown",
   "metadata": {},
   "source": [
    "### Clean sleep_time_weekend"
   ]
  },
  {
   "cell_type": "code",
   "execution_count": 15,
   "metadata": {},
   "outputs": [
    {
     "data": {
      "text/plain": [
       "0.010     0.02090\n",
       "0.050     5.00000\n",
       "0.500     8.00000\n",
       "0.600     8.02000\n",
       "0.800     9.00000\n",
       "0.850     9.02000\n",
       "0.900    10.00000\n",
       "0.950    10.02000\n",
       "0.970    11.02000\n",
       "0.990    12.02000\n",
       "0.999    16.01182\n",
       "1.000    20.02000\n",
       "Name: sleep_time_weekend, dtype: float64"
      ]
     },
     "execution_count": 15,
     "metadata": {},
     "output_type": "execute_result"
    },
    {
     "data": {
      "text/plain": [
       "count    5410.000000\n",
       "mean        7.830980\n",
       "std         1.855141\n",
       "min         0.020000\n",
       "25%         7.000000\n",
       "50%         8.000000\n",
       "75%         9.000000\n",
       "max        20.020000\n",
       "Name: sleep_time_weekend, dtype: float64"
      ]
     },
     "execution_count": 15,
     "metadata": {},
     "output_type": "execute_result"
    }
   ],
   "source": [
    "sleephabits.sleep_time_weekend = sleephabits['sleep_time_weekend']\n",
    "\n",
    "sleephabits.sleep_time_weekend.quantile([.01, .05, .5, .6, .8, .85, .90, .95, .97, 0.99, 0.999, 1])\n",
    "sleephabits.sleep_time_weekend.describe()"
   ]
  },
  {
   "cell_type": "code",
   "execution_count": 16,
   "metadata": {},
   "outputs": [],
   "source": [
    "## Exclude if sleep time weekend is > .99 percentile of the sample in this case > 12.02 \n",
    "#sleephabits.sleep_time_weekend[ sleephabits.sleep_time_weekend > 12.02 ] = 'LOW DATA QUALITY'\n",
    "#sleephabits.sleep_time_weekend.value_counts()"
   ]
  },
  {
   "cell_type": "markdown",
   "metadata": {},
   "source": [
    "### Create Internal & External Copies of the Data"
   ]
  },
  {
   "cell_type": "code",
   "execution_count": 17,
   "metadata": {},
   "outputs": [
    {
     "data": {
      "text/plain": [
       "(3303, 16)"
      ]
     },
     "execution_count": 17,
     "metadata": {},
     "output_type": "execute_result"
    }
   ],
   "source": [
    "#download the data \n",
    "sharing_info = pd.read_excel(syn.get('syn21958546').path)\n",
    "healthCodes_with_broadsharing = sharing_info[sharing_info.sharing == 'all_qualified_researchers']\n",
    "\n",
    "EXTERNAL_SLEEPHABITS_DATA = sleephabits[sleephabits.participantId.isin(healthCodes_with_broadsharing['participant id'])]\n",
    "EXTERNAL_SLEEPHABITS_DATA.shape"
   ]
  },
  {
   "cell_type": "markdown",
   "metadata": {},
   "source": [
    "### Number of unique participants"
   ]
  },
  {
   "cell_type": "code",
   "execution_count": 18,
   "metadata": {},
   "outputs": [
    {
     "data": {
      "text/plain": [
       "3155"
      ]
     },
     "execution_count": 18,
     "metadata": {},
     "output_type": "execute_result"
    }
   ],
   "source": [
    "len(EXTERNAL_SLEEPHABITS_DATA.participantId.unique())"
   ]
  },
  {
   "cell_type": "markdown",
   "metadata": {},
   "source": [
    "### Total number of observations"
   ]
  },
  {
   "cell_type": "code",
   "execution_count": 19,
   "metadata": {},
   "outputs": [
    {
     "data": {
      "text/plain": [
       "3303"
      ]
     },
     "execution_count": 19,
     "metadata": {},
     "output_type": "execute_result"
    }
   ],
   "source": [
    "len(EXTERNAL_SLEEPHABITS_DATA)"
   ]
  },
  {
   "cell_type": "markdown",
   "metadata": {},
   "source": [
    "### External - Upload to Synapse"
   ]
  },
  {
   "cell_type": "code",
   "execution_count": 20,
   "metadata": {},
   "outputs": [
    {
     "data": {
      "text/plain": [
       "<synapseclient.table.CsvFileTable at 0x110044e50>"
      ]
     },
     "execution_count": 20,
     "metadata": {},
     "output_type": "execute_result"
    }
   ],
   "source": [
    "SH_EXTERNAL_PROJECT = 'syn18492837'\n",
    "table_schema_external = Schema(name='Sleep Habits',\n",
    "                               columns=as_table_columns(EXTERNAL_SLEEPHABITS_DATA),\n",
    "                               parent=SH_EXTERNAL_PROJECT)\n",
    "sleephabits_synTable_external = syn.store(Table(table_schema_external,EXTERNAL_SLEEPHABITS_DATA))\n",
    "sleephabits_synTable_external"
   ]
  },
  {
   "cell_type": "markdown",
   "metadata": {},
   "source": [
    "### Internal - Upload to Synapse"
   ]
  },
  {
   "cell_type": "code",
   "execution_count": 21,
   "metadata": {},
   "outputs": [],
   "source": [
    "SH_INTERNAL_PROJECT = 'syn7066726'\n",
    "table_schema_internal = Schema(name='Sleep Habits Internal',\n",
    "                               columns=as_table_columns(sleephabits), \n",
    "                               parent=SH_INTERNAL_PROJECT)\n",
    "sleephabits_synTable_internal = syn.store(Table(table_schema_internal,sleephabits))"
   ]
  },
  {
   "cell_type": "markdown",
   "metadata": {},
   "source": [
    "### Set Provenance"
   ]
  },
  {
   "cell_type": "code",
   "execution_count": 22,
   "metadata": {},
   "outputs": [
    {
     "data": {
      "text/plain": [
       "{u'createdBy': u'3334346',\n",
       " u'createdOn': u'2020-07-20T18:08:14.318Z',\n",
       " u'description': u'Process and convert raw data to table format',\n",
       " u'etag': u'5405ed43-5903-4d6f-8519-aaacd385c1e8',\n",
       " u'id': u'10282142',\n",
       " u'modifiedBy': u'3334346',\n",
       " u'modifiedOn': u'2020-07-20T18:08:14.318Z',\n",
       " u'name': u'Sleep Habits data curation',\n",
       " u'used': [{u'concreteType': u'org.sagebionetworks.repo.model.provenance.UsedEntity',\n",
       "   u'reference': {u'targetId': u'syn7117919', u'targetVersionNumber': 774},\n",
       "   u'wasExecuted': False},\n",
       "  {u'concreteType': u'org.sagebionetworks.repo.model.provenance.UsedURL',\n",
       "   u'name': u'https://github.com/apratap/SleepHealth_Data_Release/blob/master/Create_Sleep_Habits.ipynb',\n",
       "   u'url': u'https://github.com/apratap/SleepHealth_Data_Release/blob/master/Create_Sleep_Habits.ipynb',\n",
       "   u'wasExecuted': True}]}"
      ]
     },
     "execution_count": 22,
     "metadata": {},
     "output_type": "execute_result"
    },
    {
     "data": {
      "text/plain": [
       "{u'createdBy': u'3334346',\n",
       " u'createdOn': u'2020-07-20T18:08:19.942Z',\n",
       " u'description': u'Process and convert raw data to table format',\n",
       " u'etag': u'4908378d-4750-40c4-b087-5551417a4c70',\n",
       " u'id': u'10282143',\n",
       " u'modifiedBy': u'3334346',\n",
       " u'modifiedOn': u'2020-07-20T18:08:19.942Z',\n",
       " u'name': u'Sleep Habits data curation',\n",
       " u'used': [{u'concreteType': u'org.sagebionetworks.repo.model.provenance.UsedEntity',\n",
       "   u'reference': {u'targetId': u'syn7117919', u'targetVersionNumber': 774},\n",
       "   u'wasExecuted': False},\n",
       "  {u'concreteType': u'org.sagebionetworks.repo.model.provenance.UsedURL',\n",
       "   u'name': u'https://github.com/apratap/SleepHealth_Data_Release/blob/master/Create_Sleep_Habits.ipynb',\n",
       "   u'url': u'https://github.com/apratap/SleepHealth_Data_Release/blob/master/Create_Sleep_Habits.ipynb',\n",
       "   u'wasExecuted': True}]}"
      ]
     },
     "execution_count": 22,
     "metadata": {},
     "output_type": "execute_result"
    }
   ],
   "source": [
    "activity=Activity(name= 'Sleep Habits data curation', \n",
    "                  description='Process and convert raw data to table format', \n",
    "                  used=sleephabits_raw_id, \n",
    "                  executed='https://github.com/apratap/SleepHealth_Data_Release/blob/master/Create_Sleep_Habits.ipynb')\n",
    "#Internal \n",
    "syn.setProvenance(sleephabits_synTable_internal, activity)\n",
    "\n",
    "#External\n",
    "syn.setProvenance(sleephabits_synTable_external, activity)"
   ]
  }
 ],
 "metadata": {
  "kernelspec": {
   "display_name": "Python 2",
   "language": "python",
   "name": "python2"
  },
  "language_info": {
   "codemirror_mode": {
    "name": "ipython",
    "version": 2
   },
   "file_extension": ".py",
   "mimetype": "text/x-python",
   "name": "python",
   "nbconvert_exporter": "python",
   "pygments_lexer": "ipython2",
   "version": "2.7.17"
  },
  "varInspector": {
   "cols": {
    "lenName": 16,
    "lenType": 16,
    "lenVar": 40
   },
   "kernels_config": {
    "python": {
     "delete_cmd_postfix": "",
     "delete_cmd_prefix": "del ",
     "library": "var_list.py",
     "varRefreshCmd": "print(var_dic_list())"
    },
    "r": {
     "delete_cmd_postfix": ") ",
     "delete_cmd_prefix": "rm(",
     "library": "var_list.r",
     "varRefreshCmd": "cat(var_dic_list()) "
    }
   },
   "types_to_exclude": [
    "module",
    "function",
    "builtin_function_or_method",
    "instance",
    "_Feature"
   ],
   "window_display": false
  }
 },
 "nbformat": 4,
 "nbformat_minor": 2
}
