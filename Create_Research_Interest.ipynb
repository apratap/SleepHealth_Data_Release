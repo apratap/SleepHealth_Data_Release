{
 "cells": [
  {
   "cell_type": "markdown",
   "metadata": {},
   "source": [
    "# Research Interest Data Prep"
   ]
  },
  {
   "cell_type": "code",
   "execution_count": 1,
   "metadata": {
    "ExecuteTime": {
     "end_time": "2018-11-08T20:51:18.756789Z",
     "start_time": "2018-11-08T20:51:16.206741Z"
    }
   },
   "outputs": [
    {
     "name": "stderr",
     "output_type": "stream",
     "text": [
      "\n",
      "UPGRADE AVAILABLE\n",
      "\n",
      "A more recent version of the Synapse Client (2.0.0) is available. Your version (1.9.4) can be upgraded by typing:\n",
      "    pip install --upgrade synapseclient\n",
      "\n",
      "Python Synapse Client version 2.0.0 release notes\n",
      "\n",
      "https://python-docs.synapse.org/build/html/news.html\n",
      "\n"
     ]
    },
    {
     "name": "stdout",
     "output_type": "stream",
     "text": [
      "Welcome, Sean Deering!\n",
      "\n"
     ]
    }
   ],
   "source": [
    "import datetime as dt\n",
    "import numpy as np\n",
    "import pandas as pd\n",
    "\n",
    "from IPython.core.interactiveshell import InteractiveShell\n",
    "import synapseclient\n",
    "from synapseclient import Activity, Schema, Table, as_table_columns\n",
    "\n",
    "InteractiveShell.ast_node_interactivity = 'all'\n",
    "syn = synapseclient.Synapse()\n",
    "syn.login()"
   ]
  },
  {
   "cell_type": "markdown",
   "metadata": {},
   "source": [
    "### Get Raw Research Interest Data"
   ]
  },
  {
   "cell_type": "code",
   "execution_count": 2,
   "metadata": {
    "ExecuteTime": {
     "end_time": "2018-11-08T20:51:03.792459Z",
     "start_time": "2018-11-08T20:50:50.988008Z"
    }
   },
   "outputs": [],
   "source": [
    "researchinterest_raw_id = 'syn7117916'\n",
    "researchinterest = pd.read_csv(syn.get(researchinterest_raw_id).path)"
   ]
  },
  {
   "cell_type": "markdown",
   "metadata": {},
   "source": [
    "### Process Research Interest Data"
   ]
  },
  {
   "cell_type": "code",
   "execution_count": 3,
   "metadata": {
    "ExecuteTime": {
     "end_time": "2018-11-08T20:51:04.422718Z",
     "start_time": "2018-11-08T20:51:03.852456Z"
    },
    "scrolled": false
   },
   "outputs": [
    {
     "data": {
      "text/plain": [
       "Index([u'participantId', u'contact_method', u'research_experience',\n",
       "       u'two_surveys_perday', u'blood_sample', u'taking_medication',\n",
       "       u'family_survey', u'hospital_stay', u'timestamp'],\n",
       "      dtype='object')"
      ]
     },
     "execution_count": 3,
     "metadata": {},
     "output_type": "execute_result"
    }
   ],
   "source": [
    "#remove brackets\n",
    "def remove_brackets(col):\n",
    "    return( col.str.replace(']', '').str.replace('[',''))\n",
    "researchinterest = researchinterest.apply(remove_brackets, axis=0)\n",
    "\n",
    "# rename columns\n",
    "researchinterest = researchinterest.rename(columns={\n",
    "    'Contact_method':'contact_method',\n",
    "    'Research_Experience':'research_experience',\n",
    "    'Research_Interest1':'two_surveys_perday',\n",
    "    'Research_Interest2':'blood_sample',\n",
    "    'Research_Interest3':'taking_medication',\n",
    "    'Research_Interest4':'family_survey',\n",
    "    'Research_Interest5':'hospital_stay'})\n",
    "\n",
    "#drop rows where everything is blank\n",
    "researchinterest.dropna(subset = ['contact_method','research_experience','two_surveys_perday','blood_sample','taking_medication','family_survey','hospital_stay'],how='all',inplace=True)\n",
    "researchinterest.columns"
   ]
  },
  {
   "cell_type": "markdown",
   "metadata": {},
   "source": [
    "### Filter based on age"
   ]
  },
  {
   "cell_type": "code",
   "execution_count": 4,
   "metadata": {},
   "outputs": [],
   "source": [
    "underage_participants = pd.read_csv( syn.get('syn21905452').path, sep=\"\\t\")\n",
    "researchinterest = researchinterest[~researchinterest.participantId.isin(underage_participants.participantId)]"
   ]
  },
  {
   "cell_type": "markdown",
   "metadata": {},
   "source": [
    "### Create Internal & External Copies of the Data"
   ]
  },
  {
   "cell_type": "code",
   "execution_count": 5,
   "metadata": {},
   "outputs": [
    {
     "data": {
      "text/plain": [
       "(2342, 9)"
      ]
     },
     "execution_count": 5,
     "metadata": {},
     "output_type": "execute_result"
    }
   ],
   "source": [
    "#download the data \n",
    "sharing_info = pd.read_excel(syn.get('syn21557215').path)\n",
    "healthCodes_with_broadsharing = sharing_info[sharing_info.sharing == 'all_qualified_researchers']\n",
    "\n",
    "EXTERNAL_RESEARCHINTEREST_DATA = researchinterest[researchinterest.participantId.isin(healthCodes_with_broadsharing['participant id'])]\n",
    "EXTERNAL_RESEARCHINTEREST_DATA.shape"
   ]
  },
  {
   "cell_type": "markdown",
   "metadata": {},
   "source": [
    "### External - Upload to Synapse"
   ]
  },
  {
   "cell_type": "code",
   "execution_count": 6,
   "metadata": {},
   "outputs": [
    {
     "data": {
      "text/plain": [
       "2174"
      ]
     },
     "execution_count": 6,
     "metadata": {},
     "output_type": "execute_result"
    },
    {
     "data": {
      "text/plain": [
       "<synapseclient.table.CsvFileTable at 0x10eae9950>"
      ]
     },
     "execution_count": 6,
     "metadata": {},
     "output_type": "execute_result"
    }
   ],
   "source": [
    "len(EXTERNAL_RESEARCHINTEREST_DATA.participantId.unique())\n",
    "SH_EXTERNAL_PROJECT = 'syn18492837'\n",
    "table_schema_external = Schema(name='Research Interest',\n",
    "                               columns=as_table_columns(EXTERNAL_RESEARCHINTEREST_DATA),\n",
    "                               parent=SH_EXTERNAL_PROJECT)\n",
    "researchinterest_synTable_external = syn.store(Table(table_schema_external,EXTERNAL_RESEARCHINTEREST_DATA))\n",
    "researchinterest_synTable_external"
   ]
  },
  {
   "cell_type": "markdown",
   "metadata": {},
   "source": [
    "### Internal - Upload to Synapse"
   ]
  },
  {
   "cell_type": "code",
   "execution_count": 7,
   "metadata": {},
   "outputs": [],
   "source": [
    "SH_INTERNAL_PROJECT = 'syn7066726'\n",
    "table_schema_internal = Schema(name='Research Interest Internal',\n",
    "                               columns=as_table_columns(researchinterest), \n",
    "                               parent=SH_INTERNAL_PROJECT)\n",
    "researchinterest_synTable_internal = syn.store(Table(table_schema_internal,researchinterest))"
   ]
  },
  {
   "cell_type": "markdown",
   "metadata": {},
   "source": [
    "### Set Provenance"
   ]
  },
  {
   "cell_type": "code",
   "execution_count": 8,
   "metadata": {},
   "outputs": [
    {
     "data": {
      "text/plain": [
       "{u'createdBy': u'3334346',\n",
       " u'createdOn': u'2020-02-25T22:20:35.215Z',\n",
       " u'description': u'Process and convert raw data to table format',\n",
       " u'etag': u'fabf018f-7893-43f7-a807-52207a010236',\n",
       " u'id': u'10191607',\n",
       " u'modifiedBy': u'3334346',\n",
       " u'modifiedOn': u'2020-02-25T22:20:35.215Z',\n",
       " u'name': u'Research Interest data curation',\n",
       " u'used': [{u'concreteType': u'org.sagebionetworks.repo.model.provenance.UsedEntity',\n",
       "   u'reference': {u'targetId': u'syn7117916', u'targetVersionNumber': 774},\n",
       "   u'wasExecuted': False},\n",
       "  {u'concreteType': u'org.sagebionetworks.repo.model.provenance.UsedURL',\n",
       "   u'name': u'https://github.com/deerings/SLEEPHEALTHv2-Data-Release/Create_Research_Interest.ipynb',\n",
       "   u'url': u'https://github.com/deerings/SLEEPHEALTHv2-Data-Release/Create_Research_Interest.ipynb',\n",
       "   u'wasExecuted': True}]}"
      ]
     },
     "execution_count": 8,
     "metadata": {},
     "output_type": "execute_result"
    },
    {
     "data": {
      "text/plain": [
       "{u'createdBy': u'3334346',\n",
       " u'createdOn': u'2020-02-25T22:20:37.612Z',\n",
       " u'description': u'Process and convert raw data to table format',\n",
       " u'etag': u'924bb9db-367e-4cdf-beb9-913b728c389a',\n",
       " u'id': u'10191608',\n",
       " u'modifiedBy': u'3334346',\n",
       " u'modifiedOn': u'2020-02-25T22:20:37.612Z',\n",
       " u'name': u'Research Interest data curation',\n",
       " u'used': [{u'concreteType': u'org.sagebionetworks.repo.model.provenance.UsedEntity',\n",
       "   u'reference': {u'targetId': u'syn7117916', u'targetVersionNumber': 774},\n",
       "   u'wasExecuted': False},\n",
       "  {u'concreteType': u'org.sagebionetworks.repo.model.provenance.UsedURL',\n",
       "   u'name': u'https://github.com/deerings/SLEEPHEALTHv2-Data-Release/Create_Research_Interest.ipynb',\n",
       "   u'url': u'https://github.com/deerings/SLEEPHEALTHv2-Data-Release/Create_Research_Interest.ipynb',\n",
       "   u'wasExecuted': True}]}"
      ]
     },
     "execution_count": 8,
     "metadata": {},
     "output_type": "execute_result"
    }
   ],
   "source": [
    "activity=Activity(name= 'Research Interest data curation', \n",
    "                  description='Process and convert raw data to table format', \n",
    "                  used=researchinterest_raw_id, \n",
    "                  executed='https://github.com/apratap/SleepHealth_Data_Release/blob/master/Create_Research_Interest.ipynb')\n",
    "#Internal \n",
    "syn.setProvenance(researchinterest_synTable_internal, activity)\n",
    "\n",
    "#External\n",
    "syn.setProvenance(researchinterest_synTable_external, activity)"
   ]
  }
 ],
 "metadata": {
  "kernelspec": {
   "display_name": "Python 2",
   "language": "python",
   "name": "python2"
  },
  "language_info": {
   "codemirror_mode": {
    "name": "ipython",
    "version": 2
   },
   "file_extension": ".py",
   "mimetype": "text/x-python",
   "name": "python",
   "nbconvert_exporter": "python",
   "pygments_lexer": "ipython2",
   "version": "2.7.17"
  },
  "varInspector": {
   "cols": {
    "lenName": 16,
    "lenType": 16,
    "lenVar": 40
   },
   "kernels_config": {
    "python": {
     "delete_cmd_postfix": "",
     "delete_cmd_prefix": "del ",
     "library": "var_list.py",
     "varRefreshCmd": "print(var_dic_list())"
    },
    "r": {
     "delete_cmd_postfix": ") ",
     "delete_cmd_prefix": "rm(",
     "library": "var_list.r",
     "varRefreshCmd": "cat(var_dic_list()) "
    }
   },
   "types_to_exclude": [
    "module",
    "function",
    "builtin_function_or_method",
    "instance",
    "_Feature"
   ],
   "window_display": false
  }
 },
 "nbformat": 4,
 "nbformat_minor": 2
}
