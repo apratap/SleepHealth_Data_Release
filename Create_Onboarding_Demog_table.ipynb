{
 "cells": [
  {
   "cell_type": "markdown",
   "metadata": {},
   "source": [
    "# OnBoarding Demographics Data Prep"
   ]
  },
  {
   "cell_type": "code",
   "execution_count": 1,
   "metadata": {
    "ExecuteTime": {
     "end_time": "2018-11-08T20:51:18.756789Z",
     "start_time": "2018-11-08T20:51:16.206741Z"
    }
   },
   "outputs": [
    {
     "name": "stdout",
     "output_type": "stream",
     "text": [
      "Welcome, Abhishek Pratap!\n",
      "\n"
     ]
    },
    {
     "name": "stderr",
     "output_type": "stream",
     "text": [
      "\n",
      "UPGRADE AVAILABLE\n",
      "\n",
      "A more recent version of the Synapse Client (2.0.0) is available. Your version (1.9.4) can be upgraded by typing:\n",
      "    pip install --upgrade synapseclient\n",
      "\n",
      "Python Synapse Client version 2.0.0 release notes\n",
      "\n",
      "https://python-docs.synapse.org/build/html/news.html\n",
      "\n"
     ]
    }
   ],
   "source": [
    "import datetime as dt\n",
    "import numpy as np\n",
    "import pandas as pd\n",
    "import matplotlib.pyplot as plt\n",
    "from IPython.core.interactiveshell import InteractiveShell\n",
    "import synapseclient\n",
    "from synapseclient import Activity, Schema, Table, as_table_columns\n",
    "\n",
    "InteractiveShell.ast_node_interactivity = 'all'\n",
    "syn = synapseclient.Synapse()\n",
    "syn.login()"
   ]
  },
  {
   "cell_type": "markdown",
   "metadata": {},
   "source": [
    "### Get Raw Demographics Data"
   ]
  },
  {
   "cell_type": "code",
   "execution_count": 2,
   "metadata": {
    "ExecuteTime": {
     "end_time": "2018-11-08T20:51:03.792459Z",
     "start_time": "2018-11-08T20:50:50.988008Z"
    }
   },
   "outputs": [
    {
     "data": {
      "text/html": [
       "<div>\n",
       "<style scoped>\n",
       "    .dataframe tbody tr th:only-of-type {\n",
       "        vertical-align: middle;\n",
       "    }\n",
       "\n",
       "    .dataframe tbody tr th {\n",
       "        vertical-align: top;\n",
       "    }\n",
       "\n",
       "    .dataframe thead th {\n",
       "        text-align: right;\n",
       "    }\n",
       "</style>\n",
       "<table border=\"1\" class=\"dataframe\">\n",
       "  <thead>\n",
       "    <tr style=\"text-align: right;\">\n",
       "      <th></th>\n",
       "      <th>participantId</th>\n",
       "      <th>patientWeightPounds</th>\n",
       "      <th>patientBiologicalSex</th>\n",
       "      <th>patientHeightInches</th>\n",
       "      <th>patientWakeUpTime</th>\n",
       "      <th>patientCurrentAge</th>\n",
       "      <th>patientGoSleepTime</th>\n",
       "      <th>timestamp</th>\n",
       "    </tr>\n",
       "  </thead>\n",
       "  <tbody>\n",
       "    <tr>\n",
       "      <th>0</th>\n",
       "      <td>6c9018a1-6e62-477e-a5b5-36145bf4ea51</td>\n",
       "      <td>170.0</td>\n",
       "      <td>Male</td>\n",
       "      <td>71.0</td>\n",
       "      <td>NaN</td>\n",
       "      <td>40.0</td>\n",
       "      <td>NaN</td>\n",
       "      <td>2016-02-27T22:04:59-05:00</td>\n",
       "    </tr>\n",
       "    <tr>\n",
       "      <th>1</th>\n",
       "      <td>e1d8427f-924b-4bd1-a08f-421c1805a405</td>\n",
       "      <td>177.0</td>\n",
       "      <td>Male</td>\n",
       "      <td>68.0</td>\n",
       "      <td>NaN</td>\n",
       "      <td>39.0</td>\n",
       "      <td>NaN</td>\n",
       "      <td>2016-03-10T10:24:26-06:00</td>\n",
       "    </tr>\n",
       "    <tr>\n",
       "      <th>2</th>\n",
       "      <td>3d6c0442-9150-4974-8257-3a94461c8790</td>\n",
       "      <td>190.0</td>\n",
       "      <td>Male</td>\n",
       "      <td>75.0</td>\n",
       "      <td>2016-07-21T08:00:00-07:00</td>\n",
       "      <td>27.0</td>\n",
       "      <td>2016-07-21T22:30:00-07:00</td>\n",
       "      <td>2016-07-21T14:44:06-07:00</td>\n",
       "    </tr>\n",
       "    <tr>\n",
       "      <th>3</th>\n",
       "      <td>a12e2ca0-2cf4-498f-a51d-1644630511ec</td>\n",
       "      <td>177.0</td>\n",
       "      <td>Female</td>\n",
       "      <td>64.0</td>\n",
       "      <td>2016-07-21T08:00:00-04:00</td>\n",
       "      <td>19.0</td>\n",
       "      <td>2016-07-21T00:00:00-04:00</td>\n",
       "      <td>2016-07-21T20:29:50-04:00</td>\n",
       "    </tr>\n",
       "  </tbody>\n",
       "</table>\n",
       "</div>"
      ],
      "text/plain": [
       "                          participantId  patientWeightPounds  \\\n",
       "0  6c9018a1-6e62-477e-a5b5-36145bf4ea51                170.0   \n",
       "1  e1d8427f-924b-4bd1-a08f-421c1805a405                177.0   \n",
       "2  3d6c0442-9150-4974-8257-3a94461c8790                190.0   \n",
       "3  a12e2ca0-2cf4-498f-a51d-1644630511ec                177.0   \n",
       "\n",
       "  patientBiologicalSex  patientHeightInches          patientWakeUpTime  \\\n",
       "0                 Male                 71.0                        NaN   \n",
       "1                 Male                 68.0                        NaN   \n",
       "2                 Male                 75.0  2016-07-21T08:00:00-07:00   \n",
       "3               Female                 64.0  2016-07-21T08:00:00-04:00   \n",
       "\n",
       "   patientCurrentAge         patientGoSleepTime                  timestamp  \n",
       "0               40.0                        NaN  2016-02-27T22:04:59-05:00  \n",
       "1               39.0                        NaN  2016-03-10T10:24:26-06:00  \n",
       "2               27.0  2016-07-21T22:30:00-07:00  2016-07-21T14:44:06-07:00  \n",
       "3               19.0  2016-07-21T00:00:00-04:00  2016-07-21T20:29:50-04:00  "
      ]
     },
     "execution_count": 2,
     "metadata": {},
     "output_type": "execute_result"
    }
   ],
   "source": [
    "demog_raw_id = 'syn7115683'\n",
    "demog = pd.read_csv(syn.get(demog_raw_id).path)\n",
    "demog.head(n=4)\n",
    "\n",
    "\n",
    "# drop uneeded columns (missing data due to App bug)\n",
    "demog = demog.drop(columns=['patientWakeUpTime', 'patientGoSleepTime'])\n",
    "\n",
    "\n",
    "### Replace white space with NaN\n",
    "demog = demog.replace(r'^\\s*$', np.nan, regex=True)"
   ]
  },
  {
   "cell_type": "markdown",
   "metadata": {},
   "source": [
    "### Process Demographics Data"
   ]
  },
  {
   "cell_type": "code",
   "execution_count": 3,
   "metadata": {
    "ExecuteTime": {
     "end_time": "2018-11-08T20:51:04.422718Z",
     "start_time": "2018-11-08T20:51:03.852456Z"
    },
    "scrolled": false
   },
   "outputs": [],
   "source": [
    "demog = demog.rename(columns={'patientWeightPounds':'weight_pounds',\n",
    "                              'patientBiologicalSex':'gender',\n",
    "                              'patientHeightInches':'height_inches',\n",
    "                              'patientCurrentAge':'age_years'})\n",
    "\n",
    "#drop rows where everything is blank\n",
    "demog.dropna(subset = ['weight_pounds','gender','height_inches','age_years'],how='all',inplace=True)\n",
    "\n",
    "demog.height_inches = demog.height_inches.round(2)\n",
    "demog.weight_pounds = demog.weight_pounds.round(2)"
   ]
  },
  {
   "cell_type": "markdown",
   "metadata": {},
   "source": [
    "### Filter based on Age "
   ]
  },
  {
   "cell_type": "code",
   "execution_count": 4,
   "metadata": {},
   "outputs": [
    {
     "name": "stdout",
     "output_type": "stream",
     "text": [
      "\n",
      "##################################################\n",
      " Uploading file to Synapse storage \n",
      "##################################################\n",
      "\n"
     ]
    },
    {
     "data": {
      "text/plain": [
       "File(id='syn21905452', synapseStore=True, cacheDir='', concreteType='org.sagebionetworks.repo.model.FileEntity', createdOn='2020-04-09T22:44:11.245Z', modifiedBy='2166046', files=['SleepHealth_underage_participants_tobeExcluded.tsv'], modifiedOn='2020-04-09T23:18:35.069Z', name='SleepHealth_underage_participants_tobeExcluded.tsv', parentId='syn7066726', versionNumber=7, dataFileHandleId='52031715', _file_handle={'id': '52031715', 'etag': '0f41206e-a718-4ada-b44d-b717acdf326b', 'createdBy': '2166046', 'createdOn': '2020-04-09T22:44:10.000Z', 'concreteType': 'org.sagebionetworks.repo.model.file.S3FileHandle', 'contentType': 'text/tab-separated-values', 'contentMd5': '229035449a1cd9c67288f94f2e71b821', 'fileName': 'SleepHealth_underage_participants_tobeExcluded.tsv', 'storageLocationId': 1, 'contentSize': 22014, 'bucketName': 'proddata.sagebase.org', 'key': '2166046/2a419cac-3069-4af5-add6-570a5b2e6e16/SleepHealth_underage_participants_tobeExcluded.tsv', 'previewId': '52031716', 'isPreview': False, 'externalURL': None}, path='SleepHealth_underage_participants_tobeExcluded.tsv', versionLabel='7', etag='2ef868d6-256a-4c75-83c7-0408c627dcf9', createdBy='2166046')"
      ]
     },
     "execution_count": 4,
     "metadata": {},
     "output_type": "execute_result"
    }
   ],
   "source": [
    "underage_participants = demog[demog.age_years < 18]\n",
    "underage_participants.to_csv('SleepHealth_underage_participants_tobeExcluded.tsv',\n",
    "                            index=False, sep=\"\\t\")\n",
    "syn.store(synapseclient.File(\"SleepHealth_underage_participants_tobeExcluded.tsv\", parentId = 'syn7066726'),\n",
    "         executed = 'https://github.com/apratap/SleepHealth_Data_Release/blob/master/Create_Onboarding_Demog_table.ipynb',\n",
    "         used = \"syn7115683\")\n",
    "\n",
    "\n",
    "demog = demog[~demog.participantId.isin(underage_participants.participantId)]"
   ]
  },
  {
   "cell_type": "markdown",
   "metadata": {},
   "source": [
    "### Clean height_inches"
   ]
  },
  {
   "cell_type": "code",
   "execution_count": 5,
   "metadata": {},
   "outputs": [
    {
     "data": {
      "text/plain": [
       "0.010      0.0\n",
       "0.050     58.0\n",
       "0.500     69.0\n",
       "0.600     70.0\n",
       "0.800     72.0\n",
       "0.850     73.0\n",
       "0.900     73.0\n",
       "0.950     75.0\n",
       "0.970     75.0\n",
       "0.990     77.0\n",
       "0.999     83.0\n",
       "1.000    107.0\n",
       "Name: height_inches, dtype: float64"
      ]
     },
     "execution_count": 5,
     "metadata": {},
     "output_type": "execute_result"
    },
    {
     "data": {
      "text/plain": [
       "count    14085.000000\n",
       "mean        65.421021\n",
       "std         15.144391\n",
       "min          0.000000\n",
       "25%         65.000000\n",
       "50%         69.000000\n",
       "75%         71.000000\n",
       "max        107.000000\n",
       "Name: height_inches, dtype: float64"
      ]
     },
     "execution_count": 5,
     "metadata": {},
     "output_type": "execute_result"
    }
   ],
   "source": [
    "demog.height_inches.quantile([.01, .05, .5, .6, .8, .85, .90, .95, .97, 0.99, 0.999, 1])\n",
    "demog.height_inches.describe()\n",
    "## If the height is = < .01 percentile of the sample in this case, 0 exclude data (not possible to be 0 inches tall)\n",
    "demog.height_inches[ demog.height_inches == 0 ] = 'LOW DATA QUALITY'"
   ]
  },
  {
   "cell_type": "markdown",
   "metadata": {},
   "source": [
    "### Clean weight_pounds"
   ]
  },
  {
   "cell_type": "code",
   "execution_count": 6,
   "metadata": {},
   "outputs": [
    {
     "data": {
      "text/plain": [
       "0.010    0.000000e+00\n",
       "0.050    0.000000e+00\n",
       "0.500    1.800000e+02\n",
       "0.600    1.930000e+02\n",
       "0.800    2.260000e+02\n",
       "0.850    2.400000e+02\n",
       "0.900    2.580000e+02\n",
       "0.950    2.850000e+02\n",
       "0.970    3.080000e+02\n",
       "0.990    3.540000e+02\n",
       "0.999    5.100000e+02\n",
       "1.000    1.877018e+12\n",
       "Name: weight_pounds, dtype: float64"
      ]
     },
     "execution_count": 6,
     "metadata": {},
     "output_type": "execute_result"
    },
    {
     "data": {
      "text/plain": [
       "count    1.408500e+04\n",
       "mean     1.332639e+08\n",
       "std      1.581576e+10\n",
       "min      0.000000e+00\n",
       "25%      1.500000e+02\n",
       "50%      1.800000e+02\n",
       "75%      2.150000e+02\n",
       "max      1.877018e+12\n",
       "Name: weight_pounds, dtype: float64"
      ]
     },
     "execution_count": 6,
     "metadata": {},
     "output_type": "execute_result"
    }
   ],
   "source": [
    "demog.weight_pounds.quantile([.01, .05,  .5, .6, .8, .85, .90, .95, .97, 0.99, 0.999, 1])\n",
    "demog.weight_pounds.describe()\n",
    "#Filter odd data \n",
    "## If the weight is > .99 percentile, < .01 percentile of the sample \n",
    "demog.weight_pounds[ (demog.weight_pounds <= 0) |  (demog.weight_pounds > 510) ] = 'LOW DATA QUALITY'"
   ]
  },
  {
   "cell_type": "markdown",
   "metadata": {},
   "source": [
    "### Create Internal & External Copies of the Data"
   ]
  },
  {
   "cell_type": "code",
   "execution_count": 10,
   "metadata": {},
   "outputs": [
    {
     "data": {
      "text/plain": [
       "(7942, 6)"
      ]
     },
     "execution_count": 10,
     "metadata": {},
     "output_type": "execute_result"
    }
   ],
   "source": [
    "#download the data \n",
    "sharing_info = pd.read_excel(syn.get('syn21557215').path)\n",
    "healthCodes_with_broadsharing = sharing_info[sharing_info.sharing == 'all_qualified_researchers']\n",
    "EXTERNAL_DEMO_DATA = demog[demog.participantId.isin(healthCodes_with_broadsharing['participant id'])]\n",
    "EXTERNAL_DEMO_DATA.shape"
   ]
  },
  {
   "cell_type": "markdown",
   "metadata": {},
   "source": [
    "### External - Upload to Synapse"
   ]
  },
  {
   "cell_type": "code",
   "execution_count": 11,
   "metadata": {},
   "outputs": [
    {
     "data": {
      "text/plain": [
       "<synapseclient.table.CsvFileTable at 0x11af1a3d0>"
      ]
     },
     "execution_count": 11,
     "metadata": {},
     "output_type": "execute_result"
    }
   ],
   "source": [
    "SH_EXTERNAL_PROJECT = 'syn18492837'\n",
    "table_schema_external = Schema(name='Onboarding Demographics',\n",
    "                               columns=as_table_columns(EXTERNAL_DEMO_DATA),\n",
    "                               parent=SH_EXTERNAL_PROJECT)\n",
    "demo_synTable_external = syn.store(Table(table_schema_external,EXTERNAL_DEMO_DATA))\n",
    "demo_synTable_external"
   ]
  },
  {
   "cell_type": "markdown",
   "metadata": {},
   "source": [
    "### Internal - Upload to Synapse"
   ]
  },
  {
   "cell_type": "code",
   "execution_count": 13,
   "metadata": {},
   "outputs": [],
   "source": [
    "SH_INTERNAL_PROJECT = 'syn7066726'\n",
    "table_schema_internal = Schema(name='Participant Demographics Internal',\n",
    "                               columns=as_table_columns(demog), \n",
    "                               parent=SH_INTERNAL_PROJECT)\n",
    "demo_synTable_internal = syn.store(Table(table_schema_internal,demog))"
   ]
  },
  {
   "cell_type": "markdown",
   "metadata": {},
   "source": [
    "### Set Provenance"
   ]
  },
  {
   "cell_type": "code",
   "execution_count": 14,
   "metadata": {},
   "outputs": [
    {
     "data": {
      "text/plain": [
       "{'id': '10232287',\n",
       " 'name': 'Onboarding Demographics data curation',\n",
       " 'description': 'Process and convert raw data to table format',\n",
       " 'etag': '5d68b2ea-f046-46e5-85ec-d0baa7b40264',\n",
       " 'createdOn': '2020-04-09T23:22:01.168Z',\n",
       " 'modifiedOn': '2020-04-09T23:22:01.168Z',\n",
       " 'createdBy': '2166046',\n",
       " 'modifiedBy': '2166046',\n",
       " 'used': [{'wasExecuted': True,\n",
       "   'concreteType': 'org.sagebionetworks.repo.model.provenance.UsedURL',\n",
       "   'name': 'https://github.com/apratap/SleepHealth_Data_Release/blob/master/Create_Onboarding_Demog_table.ipynb',\n",
       "   'url': 'https://github.com/apratap/SleepHealth_Data_Release/blob/master/Create_Onboarding_Demog_table.ipynb'},\n",
       "  {'wasExecuted': False,\n",
       "   'concreteType': 'org.sagebionetworks.repo.model.provenance.UsedEntity',\n",
       "   'reference': {'targetId': 'syn7115683', 'targetVersionNumber': 913}}]}"
      ]
     },
     "execution_count": 14,
     "metadata": {},
     "output_type": "execute_result"
    },
    {
     "data": {
      "text/plain": [
       "{'id': '10232288',\n",
       " 'name': 'Onboarding Demographics data curation',\n",
       " 'description': 'Process and convert raw data to table format',\n",
       " 'etag': 'dfad85d7-2c8b-41bb-ba38-23d0d6aa5071',\n",
       " 'createdOn': '2020-04-09T23:22:10.849Z',\n",
       " 'modifiedOn': '2020-04-09T23:22:10.849Z',\n",
       " 'createdBy': '2166046',\n",
       " 'modifiedBy': '2166046',\n",
       " 'used': [{'wasExecuted': True,\n",
       "   'concreteType': 'org.sagebionetworks.repo.model.provenance.UsedURL',\n",
       "   'name': 'https://github.com/apratap/SleepHealth_Data_Release/blob/master/Create_Onboarding_Demog_table.ipynb',\n",
       "   'url': 'https://github.com/apratap/SleepHealth_Data_Release/blob/master/Create_Onboarding_Demog_table.ipynb'},\n",
       "  {'wasExecuted': False,\n",
       "   'concreteType': 'org.sagebionetworks.repo.model.provenance.UsedEntity',\n",
       "   'reference': {'targetId': 'syn7115683', 'targetVersionNumber': 913}}]}"
      ]
     },
     "execution_count": 14,
     "metadata": {},
     "output_type": "execute_result"
    }
   ],
   "source": [
    "activity=Activity(name= 'Onboarding Demographics data curation', \n",
    "                  description='Process and convert raw data to table format', \n",
    "                  used=demog_raw_id, \n",
    "                  executed='https://github.com/apratap/SleepHealth_Data_Release/blob/master/Create_Onboarding_Demog_table.ipynb')\n",
    "#Internal \n",
    "syn.setProvenance(demo_synTable_internal, activity)\n",
    "\n",
    "#External\n",
    "syn.setProvenance(demo_synTable_external, activity)"
   ]
  },
  {
   "cell_type": "code",
   "execution_count": null,
   "metadata": {},
   "outputs": [],
   "source": []
  }
 ],
 "metadata": {
  "kernelspec": {
   "display_name": "Python 2",
   "language": "python",
   "name": "python2"
  },
  "language_info": {
   "codemirror_mode": {
    "name": "ipython",
    "version": 2
   },
   "file_extension": ".py",
   "mimetype": "text/x-python",
   "name": "python",
   "nbconvert_exporter": "python",
   "pygments_lexer": "ipython2",
   "version": "2.7.17"
  },
  "varInspector": {
   "cols": {
    "lenName": 16,
    "lenType": 16,
    "lenVar": 40
   },
   "kernels_config": {
    "python": {
     "delete_cmd_postfix": "",
     "delete_cmd_prefix": "del ",
     "library": "var_list.py",
     "varRefreshCmd": "print(var_dic_list())"
    },
    "r": {
     "delete_cmd_postfix": ") ",
     "delete_cmd_prefix": "rm(",
     "library": "var_list.r",
     "varRefreshCmd": "cat(var_dic_list()) "
    }
   },
   "types_to_exclude": [
    "module",
    "function",
    "builtin_function_or_method",
    "instance",
    "_Feature"
   ],
   "window_display": false
  }
 },
 "nbformat": 4,
 "nbformat_minor": 2
}
