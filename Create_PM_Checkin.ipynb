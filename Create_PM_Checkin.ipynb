{
 "cells": [
  {
   "cell_type": "markdown",
   "metadata": {},
   "source": [
    "## PM Check-in Data Prep"
   ]
  },
  {
   "cell_type": "code",
   "execution_count": 8,
   "metadata": {},
   "outputs": [
    {
     "name": "stderr",
     "output_type": "stream",
     "text": [
      "\n",
      "UPGRADE AVAILABLE\n",
      "\n",
      "A more recent version of the Synapse Client (2.0.0) is available. Your version (1.9.4) can be upgraded by typing:\n",
      "    pip install --upgrade synapseclient\n",
      "\n",
      "Python Synapse Client version 2.0.0 release notes\n",
      "\n",
      "https://python-docs.synapse.org/build/html/news.html\n",
      "\n"
     ]
    },
    {
     "name": "stdout",
     "output_type": "stream",
     "text": [
      "Welcome, Sean Deering!\n",
      "\n"
     ]
    }
   ],
   "source": [
    "import datetime as dt\n",
    "import numpy as np\n",
    "import pandas as pd\n",
    "import matplotlib.pyplot as plt\n",
    "from IPython.core.interactiveshell import InteractiveShell\n",
    "import synapseclient\n",
    "from synapseclient import Activity, Schema, Table, as_table_columns\n",
    "import numpy as np\n",
    "\n",
    "InteractiveShell.ast_node_interactivity = 'all'\n",
    "syn = synapseclient.Synapse()\n",
    "syn.login()"
   ]
  },
  {
   "cell_type": "markdown",
   "metadata": {},
   "source": [
    "### Get Raw PM-Checkin Data"
   ]
  },
  {
   "cell_type": "code",
   "execution_count": 9,
   "metadata": {},
   "outputs": [
    {
     "name": "stderr",
     "output_type": "stream",
     "text": [
      "Skipping line 18432: expected 18 fields, saw 22\n",
      "\n"
     ]
    }
   ],
   "source": [
    "pmcheckin_raw_id = 'syn7117927'\n",
    "pmcheckin = pd.read_csv(syn.get(pmcheckin_raw_id).path,sep='\\t',error_bad_lines=False)"
   ]
  },
  {
   "cell_type": "markdown",
   "metadata": {},
   "source": [
    "### Replace white space with NaN"
   ]
  },
  {
   "cell_type": "code",
   "execution_count": 10,
   "metadata": {},
   "outputs": [],
   "source": [
    "pmcheckin = pmcheckin.replace(r'^\\s*$', np.nan, regex=True)"
   ]
  },
  {
   "cell_type": "markdown",
   "metadata": {},
   "source": [
    "### Process Raw PM-Checkin data"
   ]
  },
  {
   "cell_type": "code",
   "execution_count": 11,
   "metadata": {},
   "outputs": [],
   "source": [
    "#rename these variables for consistency\n",
    "pmcheckin = pmcheckin.rename(columns = \n",
    "                             { 'PMCH-1':'PMCH1',\n",
    "                              'PMCH-2a':'PMCH2A',\n",
    "                              'PMCH-3':'PMCH3'})"
   ]
  },
  {
   "cell_type": "code",
   "execution_count": 12,
   "metadata": {},
   "outputs": [],
   "source": [
    "#remove brackets\n",
    "def remove_brackets(col):\n",
    "    return( col.astype(str).str.replace(']', '').str.replace('[',''))\n",
    "pmcheckin.NapCount=remove_brackets(pmcheckin.NapCount)\n",
    "pmcheckin.PMCH1=remove_brackets(pmcheckin.PMCH1)\n",
    "pmcheckin.PMCH3=remove_brackets(pmcheckin.PMCH3)\n",
    "\n",
    "#recode variables for PMCH-1 into what they were supposed to be\n",
    "pmcheckin['PMCH1'].replace('Very poor',1,inplace=True)\n",
    "pmcheckin['PMCH1'].replace('Poor',2,inplace=True)\n",
    "pmcheckin['PMCH1'].replace('Fair',3,inplace=True)"
   ]
  },
  {
   "cell_type": "markdown",
   "metadata": {},
   "source": [
    "### Filter based on age"
   ]
  },
  {
   "cell_type": "code",
   "execution_count": 13,
   "metadata": {},
   "outputs": [],
   "source": [
    "underage_participants = pd.read_csv( syn.get('syn21905452').path, sep=\"\\t\")\n",
    "pmcheckin = pmcheckin[~pmcheckin.participantId.isin(underage_participants.participantId)]"
   ]
  },
  {
   "cell_type": "markdown",
   "metadata": {},
   "source": [
    "### Fix Alcohol Related Columns"
   ]
  },
  {
   "cell_type": "code",
   "execution_count": 14,
   "metadata": {},
   "outputs": [
    {
     "data": {
      "text/plain": [
       "0.100     0.000\n",
       "0.500     0.000\n",
       "0.600     0.000\n",
       "0.800     0.000\n",
       "0.850     1.000\n",
       "0.900     2.000\n",
       "0.950     3.000\n",
       "0.970     4.000\n",
       "0.990     7.000\n",
       "0.999    24.663\n",
       "dtype: float64"
      ]
     },
     "execution_count": 14,
     "metadata": {},
     "output_type": "execute_result"
    },
    {
     "data": {
      "text/plain": [
       "count    4.333800e+04\n",
       "mean     2.848701e+05\n",
       "std      5.930353e+07\n",
       "min      0.000000e+00\n",
       "25%      0.000000e+00\n",
       "50%      0.000000e+00\n",
       "75%      0.000000e+00\n",
       "max      1.234568e+10\n",
       "dtype: float64"
      ]
     },
     "execution_count": 14,
     "metadata": {},
     "output_type": "execute_result"
    },
    {
     "data": {
      "text/plain": [
       "0                   35623\n",
       "1                    3008\n",
       "2                    2159\n",
       "3                    1150\n",
       "4                     487\n",
       "LOW DATA QUALITY      395\n",
       "5                     311\n",
       "6                     163\n",
       "7                      42\n",
       "dtype: int64"
      ]
     },
     "execution_count": 14,
     "metadata": {},
     "output_type": "execute_result"
    }
   ],
   "source": [
    "alcohol_related_cols = ['alcohol_only', 'alcohol&medication_alcohol', 'caffeine&alcohol_alcohol', 'caffeine&alcohol&medication_alcohol']\n",
    "alcohol = pmcheckin[alcohol_related_cols]\n",
    "alcohol = alcohol.sum(axis=1, skipna=True).astype(int)\n",
    "alcohol.quantile([.1, .5, .6, .8, .85, .90, .95, .97, 0.99, 0.999])\n",
    "alcohol.describe()\n",
    "\n",
    "## If the #alcohol drinks is > .99 percentile of the sample in this case > 7 , we list that value is as \n",
    "alcohol[ alcohol > 7 ] = 'LOW DATA QUALITY'\n",
    "alcohol.value_counts()\n",
    "\n",
    "pmcheckin['alcohol'] = alcohol"
   ]
  },
  {
   "cell_type": "markdown",
   "metadata": {},
   "source": [
    "### Fix Caffeine Related Columns"
   ]
  },
  {
   "cell_type": "code",
   "execution_count": 16,
   "metadata": {
    "scrolled": false
   },
   "outputs": [
    {
     "data": {
      "text/plain": [
       "0.100    0.000000e+00\n",
       "0.500    2.000000e+00\n",
       "0.600    2.000000e+00\n",
       "0.800    4.000000e+00\n",
       "0.850    6.000000e+00\n",
       "0.900    1.000000e+01\n",
       "0.950    1.600000e+01\n",
       "0.970    2.400000e+01\n",
       "0.990    3.200000e+01\n",
       "0.999    6.400000e+01\n",
       "1.000    3.001827e+10\n",
       "dtype: float64"
      ]
     },
     "execution_count": 16,
     "metadata": {},
     "output_type": "execute_result"
    },
    {
     "data": {
      "text/plain": [
       "count    4.333800e+04\n",
       "mean     6.926586e+05\n",
       "std      1.441953e+08\n",
       "min      0.000000e+00\n",
       "25%      0.000000e+00\n",
       "50%      2.000000e+00\n",
       "75%      4.000000e+00\n",
       "max      3.001827e+10\n",
       "dtype: float64"
      ]
     },
     "execution_count": 16,
     "metadata": {},
     "output_type": "execute_result"
    },
    {
     "data": {
      "text/plain": [
       "0                   12321\n",
       "2                    8221\n",
       "1                    5957\n",
       "3                    5102\n",
       "4                    3470\n",
       "12                   1405\n",
       "6                    1289\n",
       "5                    1171\n",
       "8                    1171\n",
       "24                    677\n",
       "16                    656\n",
       "20                    440\n",
       "LOW DATA QUALITY      425\n",
       "10                    252\n",
       "32                    160\n",
       "7                     154\n",
       "18                    106\n",
       "30                     55\n",
       "28                     54\n",
       "14                     48\n",
       "9                      39\n",
       "25                     36\n",
       "26                     36\n",
       "15                     34\n",
       "22                     23\n",
       "11                     11\n",
       "21                      8\n",
       "13                      7\n",
       "19                      4\n",
       "17                      3\n",
       "27                      2\n",
       "23                      1\n",
       "dtype: int64"
      ]
     },
     "execution_count": 16,
     "metadata": {},
     "output_type": "execute_result"
    }
   ],
   "source": [
    "caffeine_related_cols = ['caffeine_only','caffeine&medication_caffeine','caffeine&alcohol_caffeine','caffeine&alcohol&medication_caffeine' ]\n",
    "caffeine = pmcheckin[caffeine_related_cols]\n",
    "\n",
    "caffeine = caffeine.sum(axis=1, skipna=True).astype(int)\n",
    "caffeine.quantile([.1, .5, .6, .8, .85, .90, .95, .97, 0.99, 0.999, 1])\n",
    "caffeine.describe()\n",
    "\n",
    "## If the #caffeine drinks is > .99 percentile of the sample in this case > 32 , we list that value is as \n",
    "caffeine[ caffeine > 32 ] = 'LOW DATA QUALITY'\n",
    "caffeine.value_counts()\n",
    "\n",
    "pmcheckin['caffeine'] = caffeine"
   ]
  },
  {
   "cell_type": "markdown",
   "metadata": {},
   "source": [
    "### Drop Older Alcohol and Caffeine related cols "
   ]
  },
  {
   "cell_type": "code",
   "execution_count": 17,
   "metadata": {},
   "outputs": [],
   "source": [
    "alcohol_related_cols.extend(caffeine_related_cols)\n",
    "removeCols = list(set(alcohol_related_cols))\n",
    "pmcheckin = pmcheckin.drop(removeCols, axis=1)"
   ]
  },
  {
   "cell_type": "markdown",
   "metadata": {},
   "source": [
    "### Clean PMCH2A (Nap Lengths)"
   ]
  },
  {
   "cell_type": "code",
   "execution_count": 18,
   "metadata": {},
   "outputs": [
    {
     "data": {
      "text/plain": [
       "0.010         1.0\n",
       "0.050         2.0\n",
       "0.500        30.0\n",
       "0.600        45.0\n",
       "0.800        90.0\n",
       "0.850       120.0\n",
       "0.900       120.0\n",
       "0.950       180.0\n",
       "0.970       218.0\n",
       "0.990       300.0\n",
       "0.999       600.0\n",
       "1.000    207888.0\n",
       "Name: PMCH2A, dtype: float64"
      ]
     },
     "execution_count": 18,
     "metadata": {},
     "output_type": "execute_result"
    },
    {
     "data": {
      "text/plain": [
       "count     11625.00000\n",
       "mean         72.54271\n",
       "std        1929.00042\n",
       "min           0.00000\n",
       "25%          15.00000\n",
       "50%          30.00000\n",
       "75%          65.00000\n",
       "max      207888.00000\n",
       "Name: PMCH2A, dtype: float64"
      ]
     },
     "execution_count": 18,
     "metadata": {},
     "output_type": "execute_result"
    }
   ],
   "source": [
    "pmcheckin.PMCH2A.quantile([.01, .05, .5, .6, .8, .85, .90, .95, .97, 0.99, 0.999, 1])\n",
    "pmcheckin.PMCH2A.describe()"
   ]
  },
  {
   "cell_type": "code",
   "execution_count": 19,
   "metadata": {},
   "outputs": [
    {
     "name": "stderr",
     "output_type": "stream",
     "text": [
      "[WARNING] /usr/local/lib/python2.7/site-packages/ipykernel_launcher.py:2: SettingWithCopyWarning: \n",
      "A value is trying to be set on a copy of a slice from a DataFrame\n",
      "\n",
      "See the caveats in the documentation: http://pandas.pydata.org/pandas-docs/stable/indexing.html#indexing-view-versus-copy\n",
      "  \n",
      "\n"
     ]
    },
    {
     "data": {
      "text/plain": [
       "30.0                1208\n",
       "60.0                1204\n",
       "20.0                 967\n",
       "15.0                 858\n",
       "10.0                 840\n",
       "120.0                761\n",
       "5.0                  729\n",
       "45.0                 653\n",
       "90.0                 587\n",
       "1.0                  336\n",
       "2.0                  332\n",
       "180.0                301\n",
       "25.0                 219\n",
       "35.0                 207\n",
       "40.0                 203\n",
       "3.0                  197\n",
       "75.0                 161\n",
       "240.0                154\n",
       "150.0                123\n",
       "50.0                 121\n",
       "0.0                  107\n",
       "LOW DATA QUALITY     101\n",
       "70.0                  73\n",
       "80.0                  67\n",
       "300.0                 60\n",
       "65.0                  59\n",
       "100.0                 58\n",
       "4.0                   57\n",
       "55.0                  38\n",
       "12.0                  37\n",
       "                    ... \n",
       "56.0                   2\n",
       "156.0                  1\n",
       "168.0                  1\n",
       "257.0                  1\n",
       "143.0                  1\n",
       "172.0                  1\n",
       "139.0                  1\n",
       "174.0                  1\n",
       "133.0                  1\n",
       "278.0                  1\n",
       "129.0                  1\n",
       "152.0                  1\n",
       "205.0                  1\n",
       "123.0                  1\n",
       "191.0                  1\n",
       "71.0                   1\n",
       "181.0                  1\n",
       "74.0                   1\n",
       "78.0                   1\n",
       "84.0                   1\n",
       "88.0                   1\n",
       "92.0                   1\n",
       "119.0                  1\n",
       "101.0                  1\n",
       "106.0                  1\n",
       "108.0                  1\n",
       "112.0                  1\n",
       "113.0                  1\n",
       "114.0                  1\n",
       "182.0                  1\n",
       "Name: PMCH2A, Length: 166, dtype: int64"
      ]
     },
     "execution_count": 19,
     "metadata": {},
     "output_type": "execute_result"
    }
   ],
   "source": [
    "## If the nap duration is > .99 percentile of the sample in this case > 300 , we list that value is as \n",
    "pmcheckin.PMCH2A[ pmcheckin.PMCH2A > 300 ] = 'LOW DATA QUALITY'\n",
    "pmcheckin.PMCH2A.value_counts()"
   ]
  },
  {
   "cell_type": "markdown",
   "metadata": {},
   "source": [
    "## Create External Copy of the data"
   ]
  },
  {
   "cell_type": "code",
   "execution_count": 20,
   "metadata": {},
   "outputs": [
    {
     "data": {
      "text/plain": [
       "(27163, 12)"
      ]
     },
     "execution_count": 20,
     "metadata": {},
     "output_type": "execute_result"
    },
    {
     "data": {
      "text/plain": [
       "(27163, 8)"
      ]
     },
     "execution_count": 20,
     "metadata": {},
     "output_type": "execute_result"
    }
   ],
   "source": [
    "#download the data \n",
    "sharing_info = pd.read_excel(syn.get('syn21557215').path)\n",
    "healthCodes_with_broadsharing = sharing_info[sharing_info.sharing == 'all_qualified_researchers']\n",
    "\n",
    "EXTERNAL_PMCHECKIN_DATA = pmcheckin[pmcheckin.participantId.isin(healthCodes_with_broadsharing['participant id'])]\n",
    "EXTERNAL_PMCHECKIN_DATA.shape\n",
    "\n",
    "#drop columns with free text fields\n",
    "EXTERNAL_PMCHECKIN_DATA = EXTERNAL_PMCHECKIN_DATA.drop(columns=['medication_only','caffeine&medication_medication',\n",
    "                                                                'alcohol&medication_medication',\n",
    "                                                                'caffeine&alcohol&medication_medication'], axis=1)\n",
    "EXTERNAL_PMCHECKIN_DATA.shape"
   ]
  },
  {
   "cell_type": "markdown",
   "metadata": {},
   "source": [
    "### External - Upload to Synapse"
   ]
  },
  {
   "cell_type": "code",
   "execution_count": null,
   "metadata": {},
   "outputs": [],
   "source": [
    "SH_EXTERNAL_PROJECT = 'syn18492837'\n",
    "table_schema_external = Schema(name='PM Check-in',\n",
    "                               columns=as_table_columns(EXTERNAL_PMCHECKIN_DATA),\n",
    "                               parent=SH_EXTERNAL_PROJECT)\n",
    "pmCheckin_synTable_external = syn.store(Table(table_schema_external,EXTERNAL_PMCHECKIN_DATA))"
   ]
  },
  {
   "cell_type": "markdown",
   "metadata": {},
   "source": [
    "### Internal - Upload to Synapse"
   ]
  },
  {
   "cell_type": "code",
   "execution_count": null,
   "metadata": {},
   "outputs": [],
   "source": [
    "SH_INTERNAL_PROJECT = 'syn7066726'\n",
    "table_schema_internal = Schema(name='PM Check-in Internal',\n",
    "                               columns=as_table_columns(pmcheckin),\n",
    "                               parent=SH_INTERNAL_PROJECT)\n",
    "pmCheckin_synTable_internal = syn.store(Table(table_schema_internal,pmcheckin))"
   ]
  },
  {
   "cell_type": "code",
   "execution_count": null,
   "metadata": {},
   "outputs": [],
   "source": [
    "activity=Activity(name= 'PM Check-in', \n",
    "                  description='Process and convert raw data to table format', \n",
    "                  used=pmcheckin_raw_id, \n",
    "                  executed='https://github.com/apratap/SleepHealth_Data_Release/blob/master/Create_PM_Checkin.ipynb')\n",
    "#Internal \n",
    "syn.setProvenance(pmCheckin_synTable_internal, activity)\n",
    "\n",
    "#External\n",
    "syn.setProvenance(pmCheckin_synTable_external, activity)"
   ]
  }
 ],
 "metadata": {
  "kernelspec": {
   "display_name": "Python 2",
   "language": "python",
   "name": "python2"
  },
  "language_info": {
   "codemirror_mode": {
    "name": "ipython",
    "version": 2
   },
   "file_extension": ".py",
   "mimetype": "text/x-python",
   "name": "python",
   "nbconvert_exporter": "python",
   "pygments_lexer": "ipython2",
   "version": "2.7.17"
  }
 },
 "nbformat": 4,
 "nbformat_minor": 2
}
