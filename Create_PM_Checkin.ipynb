{
 "cells": [
  {
   "cell_type": "markdown",
   "metadata": {},
   "source": [
    "## PM Check-in Data Prep"
   ]
  },
  {
   "cell_type": "code",
   "execution_count": 1,
   "metadata": {},
   "outputs": [
    {
     "name": "stderr",
     "output_type": "stream",
     "text": [
      "\n",
      "UPGRADE AVAILABLE\n",
      "\n",
      "A more recent version of the Synapse Client (2.0.0) is available. Your version (1.9.4) can be upgraded by typing:\n",
      "    pip install --upgrade synapseclient\n",
      "\n",
      "Python Synapse Client version 2.0.0 release notes\n",
      "\n",
      "https://python-docs.synapse.org/build/html/news.html\n",
      "\n"
     ]
    },
    {
     "name": "stdout",
     "output_type": "stream",
     "text": [
      "Welcome, Sean Deering!\n",
      "\n"
     ]
    }
   ],
   "source": [
    "import datetime as dt\n",
    "import numpy as np\n",
    "import pandas as pd\n",
    "import matplotlib.pyplot as plt\n",
    "from IPython.core.interactiveshell import InteractiveShell\n",
    "import synapseclient\n",
    "from synapseclient import Activity, Schema, Table, as_table_columns\n",
    "import numpy as np\n",
    "\n",
    "InteractiveShell.ast_node_interactivity = 'all'\n",
    "syn = synapseclient.Synapse()\n",
    "syn.login()"
   ]
  },
  {
   "cell_type": "markdown",
   "metadata": {},
   "source": [
    "### Get Raw PM-Checkin Data"
   ]
  },
  {
   "cell_type": "code",
   "execution_count": 2,
   "metadata": {},
   "outputs": [
    {
     "name": "stderr",
     "output_type": "stream",
     "text": [
      "Skipping line 18432: expected 18 fields, saw 22\n",
      "\n"
     ]
    }
   ],
   "source": [
    "pmcheckin_raw_id = 'syn7117927'\n",
    "pmcheckin = pd.read_csv(syn.get(pmcheckin_raw_id).path,sep='\\t',error_bad_lines=False)"
   ]
  },
  {
   "cell_type": "markdown",
   "metadata": {},
   "source": [
    "### Replace white space with NaN"
   ]
  },
  {
   "cell_type": "code",
   "execution_count": 3,
   "metadata": {},
   "outputs": [],
   "source": [
    "pmcheckin = pmcheckin.replace(r'^\\s*$', np.nan, regex=True)"
   ]
  },
  {
   "cell_type": "markdown",
   "metadata": {},
   "source": [
    "### Process Raw PM-Checkin data"
   ]
  },
  {
   "cell_type": "code",
   "execution_count": 4,
   "metadata": {},
   "outputs": [],
   "source": [
    "#rename these variables for consistency\n",
    "pmcheckin = pmcheckin.rename(columns = \n",
    "                             { 'PMCH-1':'PMCH1',\n",
    "                              'PMCH-2a':'PMCH2A',\n",
    "                              'PMCH-3':'PMCH3'})"
   ]
  },
  {
   "cell_type": "code",
   "execution_count": 5,
   "metadata": {},
   "outputs": [],
   "source": [
    "#remove brackets\n",
    "def remove_brackets(col):\n",
    "    return( col.astype(str).str.replace(']', '').str.replace('[',''))\n",
    "pmcheckin.NapCount=remove_brackets(pmcheckin.NapCount)\n",
    "pmcheckin.PMCH1=remove_brackets(pmcheckin.PMCH1)\n",
    "pmcheckin.PMCH3=remove_brackets(pmcheckin.PMCH3)\n",
    "\n",
    "#recode variables for PMCH-1 into what they were supposed to be\n",
    "pmcheckin['PMCH1'].replace('Very poor',1,inplace=True)\n",
    "pmcheckin['PMCH1'].replace('Poor',2,inplace=True)\n",
    "pmcheckin['PMCH1'].replace('Fair',3,inplace=True)"
   ]
  },
  {
   "cell_type": "markdown",
   "metadata": {},
   "source": [
    "### Filter based on age"
   ]
  },
  {
   "cell_type": "code",
   "execution_count": 6,
   "metadata": {},
   "outputs": [],
   "source": [
    "underage_participants = pd.read_csv( syn.get('syn21905452').path, sep=\"\\t\")\n",
    "pmcheckin = pmcheckin[~pmcheckin.participantId.isin(underage_participants.participantId)]"
   ]
  },
  {
   "cell_type": "markdown",
   "metadata": {},
   "source": [
    "### Remove test accounts"
   ]
  },
  {
   "cell_type": "code",
   "execution_count": 7,
   "metadata": {},
   "outputs": [],
   "source": [
    "test_accounts = pd.read_excel(syn.get('syn21958537').path)\n",
    "\n",
    "pmcheckin = pmcheckin[~pmcheckin.participantId.isin(test_accounts.participantId)]"
   ]
  },
  {
   "cell_type": "markdown",
   "metadata": {},
   "source": [
    "### Fix Alcohol Related Columns"
   ]
  },
  {
   "cell_type": "code",
   "execution_count": 8,
   "metadata": {},
   "outputs": [
    {
     "data": {
      "text/plain": [
       "0.100     0.0\n",
       "0.500     0.0\n",
       "0.600     0.0\n",
       "0.800     0.0\n",
       "0.850     1.0\n",
       "0.900     2.0\n",
       "0.950     3.0\n",
       "0.970     4.0\n",
       "0.990     7.0\n",
       "0.999    24.0\n",
       "dtype: float64"
      ]
     },
     "execution_count": 8,
     "metadata": {},
     "output_type": "execute_result"
    },
    {
     "data": {
      "text/plain": [
       "count    4.313200e+04\n",
       "mean     2.862307e+05\n",
       "std      5.944498e+07\n",
       "min      0.000000e+00\n",
       "25%      0.000000e+00\n",
       "50%      0.000000e+00\n",
       "75%      0.000000e+00\n",
       "max      1.234568e+10\n",
       "dtype: float64"
      ]
     },
     "execution_count": 8,
     "metadata": {},
     "output_type": "execute_result"
    },
    {
     "data": {
      "text/plain": [
       "0                   35434\n",
       "1                    3001\n",
       "2                    2151\n",
       "3                    1150\n",
       "4                     487\n",
       "LOW DATA QUALITY      394\n",
       "5                     310\n",
       "6                     163\n",
       "7                      42\n",
       "dtype: int64"
      ]
     },
     "execution_count": 8,
     "metadata": {},
     "output_type": "execute_result"
    }
   ],
   "source": [
    "alcohol_related_cols = ['alcohol_only', 'alcohol&medication_alcohol', 'caffeine&alcohol_alcohol', 'caffeine&alcohol&medication_alcohol']\n",
    "alcohol = pmcheckin[alcohol_related_cols]\n",
    "alcohol = alcohol.sum(axis=1, skipna=True).astype(int)\n",
    "alcohol.quantile([.1, .5, .6, .8, .85, .90, .95, .97, 0.99, 0.999])\n",
    "alcohol.describe()\n",
    "\n",
    "## If the #alcohol drinks is > .99 percentile of the sample in this case > 7 , we list that value is as \n",
    "alcohol[ alcohol > 7 ] = 'LOW DATA QUALITY'\n",
    "alcohol.value_counts()\n",
    "\n",
    "pmcheckin['alcohol'] = alcohol"
   ]
  },
  {
   "cell_type": "markdown",
   "metadata": {},
   "source": [
    "### Fix Caffeine Related Columns"
   ]
  },
  {
   "cell_type": "code",
   "execution_count": 9,
   "metadata": {
    "scrolled": false
   },
   "outputs": [
    {
     "data": {
      "text/plain": [
       "0.100    0.000000e+00\n",
       "0.500    2.000000e+00\n",
       "0.600    2.000000e+00\n",
       "0.800    4.000000e+00\n",
       "0.850    6.000000e+00\n",
       "0.900    1.000000e+01\n",
       "0.950    1.600000e+01\n",
       "0.970    2.400000e+01\n",
       "0.990    3.200000e+01\n",
       "0.999    6.400000e+01\n",
       "1.000    3.001827e+10\n",
       "dtype: float64"
      ]
     },
     "execution_count": 9,
     "metadata": {},
     "output_type": "execute_result"
    },
    {
     "data": {
      "text/plain": [
       "count    4.313200e+04\n",
       "mean     6.959668e+05\n",
       "std      1.445393e+08\n",
       "min      0.000000e+00\n",
       "25%      0.000000e+00\n",
       "50%      2.000000e+00\n",
       "75%      4.000000e+00\n",
       "max      3.001827e+10\n",
       "dtype: float64"
      ]
     },
     "execution_count": 9,
     "metadata": {},
     "output_type": "execute_result"
    },
    {
     "data": {
      "text/plain": [
       "0                   12273\n",
       "2                    8203\n",
       "1                    5938\n",
       "3                    5078\n",
       "4                    3452\n",
       "12                   1398\n",
       "6                    1273\n",
       "5                    1162\n",
       "8                    1148\n",
       "24                    676\n",
       "16                    656\n",
       "20                    437\n",
       "LOW DATA QUALITY      424\n",
       "10                    249\n",
       "32                    159\n",
       "7                     143\n",
       "18                    106\n",
       "30                     55\n",
       "28                     54\n",
       "14                     48\n",
       "9                      37\n",
       "25                     36\n",
       "26                     36\n",
       "15                     34\n",
       "22                     23\n",
       "11                     11\n",
       "13                      7\n",
       "21                      6\n",
       "19                      4\n",
       "17                      3\n",
       "27                      2\n",
       "23                      1\n",
       "dtype: int64"
      ]
     },
     "execution_count": 9,
     "metadata": {},
     "output_type": "execute_result"
    }
   ],
   "source": [
    "caffeine_related_cols = ['caffeine_only','caffeine&medication_caffeine','caffeine&alcohol_caffeine','caffeine&alcohol&medication_caffeine' ]\n",
    "caffeine = pmcheckin[caffeine_related_cols]\n",
    "\n",
    "caffeine = caffeine.sum(axis=1, skipna=True).astype(int)\n",
    "caffeine.quantile([.1, .5, .6, .8, .85, .90, .95, .97, 0.99, 0.999, 1])\n",
    "caffeine.describe()\n",
    "\n",
    "## If the #caffeine drinks is > .99 percentile of the sample in this case > 32 , we list that value is as \n",
    "caffeine[ caffeine > 32 ] = 'LOW DATA QUALITY'\n",
    "caffeine.value_counts()\n",
    "\n",
    "pmcheckin['caffeine'] = caffeine"
   ]
  },
  {
   "cell_type": "markdown",
   "metadata": {},
   "source": [
    "### Drop Older Alcohol and Caffeine related cols "
   ]
  },
  {
   "cell_type": "code",
   "execution_count": 10,
   "metadata": {},
   "outputs": [],
   "source": [
    "alcohol_related_cols.extend(caffeine_related_cols)\n",
    "removeCols = list(set(alcohol_related_cols))\n",
    "pmcheckin = pmcheckin.drop(removeCols, axis=1)"
   ]
  },
  {
   "cell_type": "markdown",
   "metadata": {},
   "source": [
    "### Clean PMCH2A (Nap Lengths)"
   ]
  },
  {
   "cell_type": "code",
   "execution_count": 11,
   "metadata": {},
   "outputs": [
    {
     "data": {
      "text/plain": [
       "0.010         1.00\n",
       "0.050         2.00\n",
       "0.500        30.00\n",
       "0.600        45.00\n",
       "0.800        90.00\n",
       "0.850       120.00\n",
       "0.900       120.00\n",
       "0.950       180.00\n",
       "0.970       219.92\n",
       "0.990       300.00\n",
       "0.999       600.00\n",
       "1.000    207888.00\n",
       "Name: PMCH2A, dtype: float64"
      ]
     },
     "execution_count": 11,
     "metadata": {},
     "output_type": "execute_result"
    },
    {
     "data": {
      "text/plain": [
       "count     11569.000000\n",
       "mean         72.733771\n",
       "std        1933.660850\n",
       "min           0.000000\n",
       "25%          15.000000\n",
       "50%          30.000000\n",
       "75%          65.000000\n",
       "max      207888.000000\n",
       "Name: PMCH2A, dtype: float64"
      ]
     },
     "execution_count": 11,
     "metadata": {},
     "output_type": "execute_result"
    }
   ],
   "source": [
    "pmcheckin.PMCH2A.quantile([.01, .05, .5, .6, .8, .85, .90, .95, .97, 0.99, 0.999, 1])\n",
    "pmcheckin.PMCH2A.describe()"
   ]
  },
  {
   "cell_type": "code",
   "execution_count": 12,
   "metadata": {},
   "outputs": [
    {
     "name": "stderr",
     "output_type": "stream",
     "text": [
      "[WARNING] /usr/local/lib/python2.7/site-packages/ipykernel_launcher.py:2: SettingWithCopyWarning: \n",
      "A value is trying to be set on a copy of a slice from a DataFrame\n",
      "\n",
      "See the caveats in the documentation: http://pandas.pydata.org/pandas-docs/stable/indexing.html#indexing-view-versus-copy\n",
      "  \n",
      "\n"
     ]
    },
    {
     "data": {
      "text/plain": [
       "30.0                1206\n",
       "60.0                1195\n",
       "20.0                 960\n",
       "15.0                 855\n",
       "10.0                 834\n",
       "120.0                760\n",
       "5.0                  723\n",
       "45.0                 649\n",
       "90.0                 586\n",
       "1.0                  333\n",
       "2.0                  329\n",
       "180.0                301\n",
       "25.0                 218\n",
       "35.0                 207\n",
       "40.0                 201\n",
       "3.0                  197\n",
       "75.0                 159\n",
       "240.0                154\n",
       "150.0                123\n",
       "50.0                 121\n",
       "0.0                  106\n",
       "LOW DATA QUALITY     101\n",
       "70.0                  72\n",
       "80.0                  66\n",
       "300.0                 60\n",
       "65.0                  59\n",
       "100.0                 57\n",
       "4.0                   57\n",
       "55.0                  37\n",
       "12.0                  37\n",
       "                    ... \n",
       "56.0                   2\n",
       "156.0                  1\n",
       "168.0                  1\n",
       "257.0                  1\n",
       "143.0                  1\n",
       "172.0                  1\n",
       "139.0                  1\n",
       "174.0                  1\n",
       "133.0                  1\n",
       "278.0                  1\n",
       "129.0                  1\n",
       "152.0                  1\n",
       "205.0                  1\n",
       "123.0                  1\n",
       "191.0                  1\n",
       "71.0                   1\n",
       "181.0                  1\n",
       "74.0                   1\n",
       "78.0                   1\n",
       "84.0                   1\n",
       "88.0                   1\n",
       "92.0                   1\n",
       "119.0                  1\n",
       "101.0                  1\n",
       "106.0                  1\n",
       "108.0                  1\n",
       "112.0                  1\n",
       "113.0                  1\n",
       "114.0                  1\n",
       "182.0                  1\n",
       "Name: PMCH2A, Length: 166, dtype: int64"
      ]
     },
     "execution_count": 12,
     "metadata": {},
     "output_type": "execute_result"
    }
   ],
   "source": [
    "## If the nap duration is > .99 percentile of the sample in this case > 300 , we list that value is as \n",
    "pmcheckin.PMCH2A[ pmcheckin.PMCH2A > 300 ] = 'LOW DATA QUALITY'\n",
    "pmcheckin.PMCH2A.value_counts()"
   ]
  },
  {
   "cell_type": "markdown",
   "metadata": {},
   "source": [
    "## Create External Copy of the data"
   ]
  },
  {
   "cell_type": "code",
   "execution_count": 14,
   "metadata": {},
   "outputs": [
    {
     "data": {
      "text/plain": [
       "(27380, 8)"
      ]
     },
     "execution_count": 14,
     "metadata": {},
     "output_type": "execute_result"
    }
   ],
   "source": [
    "#download the data \n",
    "sharing_info = pd.read_excel(syn.get('syn21958546').path)\n",
    "healthCodes_with_broadsharing = sharing_info[sharing_info.sharing == 'all_qualified_researchers']\n",
    "\n",
    "EXTERNAL_PMCHECKIN_DATA = pmcheckin[pmcheckin.participantId.isin(healthCodes_with_broadsharing['participant id'])]\n",
    "\n",
    "#drop columns with free text fields\n",
    "EXTERNAL_PMCHECKIN_DATA = EXTERNAL_PMCHECKIN_DATA.drop(columns=['medication_only','caffeine&medication_medication',\n",
    "                                                                'alcohol&medication_medication',\n",
    "                                                                'caffeine&alcohol&medication_medication'], axis=1)\n",
    "EXTERNAL_PMCHECKIN_DATA.shape"
   ]
  },
  {
   "cell_type": "markdown",
   "metadata": {},
   "source": [
    "### Number of unique participants"
   ]
  },
  {
   "cell_type": "code",
   "execution_count": 15,
   "metadata": {},
   "outputs": [
    {
     "data": {
      "text/plain": [
       "4313"
      ]
     },
     "execution_count": 15,
     "metadata": {},
     "output_type": "execute_result"
    }
   ],
   "source": [
    "len(EXTERNAL_PMCHECKIN_DATA.participantId.unique())"
   ]
  },
  {
   "cell_type": "markdown",
   "metadata": {},
   "source": [
    "### Total number of observations"
   ]
  },
  {
   "cell_type": "code",
   "execution_count": 16,
   "metadata": {},
   "outputs": [
    {
     "data": {
      "text/plain": [
       "27380"
      ]
     },
     "execution_count": 16,
     "metadata": {},
     "output_type": "execute_result"
    }
   ],
   "source": [
    "len(EXTERNAL_PMCHECKIN_DATA)"
   ]
  },
  {
   "cell_type": "markdown",
   "metadata": {},
   "source": [
    "### External - Upload to Synapse"
   ]
  },
  {
   "cell_type": "code",
   "execution_count": null,
   "metadata": {},
   "outputs": [],
   "source": [
    "SH_EXTERNAL_PROJECT = 'syn18492837'\n",
    "table_schema_external = Schema(name='PM Check-in',\n",
    "                               columns=as_table_columns(EXTERNAL_PMCHECKIN_DATA),\n",
    "                               parent=SH_EXTERNAL_PROJECT)\n",
    "pmCheckin_synTable_external = syn.store(Table(table_schema_external,EXTERNAL_PMCHECKIN_DATA))"
   ]
  },
  {
   "cell_type": "markdown",
   "metadata": {},
   "source": [
    "### Internal - Upload to Synapse"
   ]
  },
  {
   "cell_type": "code",
   "execution_count": null,
   "metadata": {},
   "outputs": [],
   "source": [
    "SH_INTERNAL_PROJECT = 'syn7066726'\n",
    "table_schema_internal = Schema(name='PM Check-in Internal',\n",
    "                               columns=as_table_columns(pmcheckin),\n",
    "                               parent=SH_INTERNAL_PROJECT)\n",
    "pmCheckin_synTable_internal = syn.store(Table(table_schema_internal,pmcheckin))"
   ]
  },
  {
   "cell_type": "code",
   "execution_count": null,
   "metadata": {},
   "outputs": [],
   "source": [
    "activity=Activity(name= 'PM Check-in', \n",
    "                  description='Process and convert raw data to table format', \n",
    "                  used=pmcheckin_raw_id, \n",
    "                  executed='https://github.com/apratap/SleepHealth_Data_Release/blob/master/Create_PM_Checkin.ipynb')\n",
    "#Internal \n",
    "syn.setProvenance(pmCheckin_synTable_internal, activity)\n",
    "\n",
    "#External\n",
    "syn.setProvenance(pmCheckin_synTable_external, activity)"
   ]
  }
 ],
 "metadata": {
  "kernelspec": {
   "display_name": "Python 2",
   "language": "python",
   "name": "python2"
  },
  "language_info": {
   "codemirror_mode": {
    "name": "ipython",
    "version": 2
   },
   "file_extension": ".py",
   "mimetype": "text/x-python",
   "name": "python",
   "nbconvert_exporter": "python",
   "pygments_lexer": "ipython2",
   "version": "2.7.17"
  }
 },
 "nbformat": 4,
 "nbformat_minor": 2
}
