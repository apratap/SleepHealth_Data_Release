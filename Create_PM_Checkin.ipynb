{
 "cells": [
  {
   "cell_type": "markdown",
   "metadata": {},
   "source": [
    "## PM Check-in Data Prep"
   ]
  },
  {
   "cell_type": "code",
   "execution_count": 1,
   "metadata": {},
   "outputs": [
    {
     "name": "stderr",
     "output_type": "stream",
     "text": [
      "\n",
      "UPGRADE AVAILABLE\n",
      "\n",
      "A more recent version of the Synapse Client (2.0.0) is available. Your version (1.9.4) can be upgraded by typing:\n",
      "    pip install --upgrade synapseclient\n",
      "\n",
      "Python Synapse Client version 2.0.0 release notes\n",
      "\n",
      "https://python-docs.synapse.org/build/html/news.html\n",
      "\n"
     ]
    },
    {
     "name": "stdout",
     "output_type": "stream",
     "text": [
      "Welcome, Sean Deering!\n",
      "\n"
     ]
    }
   ],
   "source": [
    "import datetime as dt\n",
    "import numpy as np\n",
    "import pandas as pd\n",
    "import matplotlib.pyplot as plt\n",
    "from IPython.core.interactiveshell import InteractiveShell\n",
    "import synapseclient\n",
    "from synapseclient import Activity, Schema, Table, as_table_columns\n",
    "import numpy as np\n",
    "\n",
    "InteractiveShell.ast_node_interactivity = 'all'\n",
    "syn = synapseclient.Synapse()\n",
    "syn.login()"
   ]
  },
  {
   "cell_type": "markdown",
   "metadata": {},
   "source": [
    "### Get Raw PM-Checkin Data"
   ]
  },
  {
   "cell_type": "code",
   "execution_count": 2,
   "metadata": {},
   "outputs": [
    {
     "name": "stderr",
     "output_type": "stream",
     "text": [
      "Skipping line 18432: expected 18 fields, saw 22\n",
      "\n"
     ]
    }
   ],
   "source": [
    "pmcheckin_raw_id = 'syn7117927'\n",
    "pmcheckin = pd.read_csv(syn.get(pmcheckin_raw_id).path,sep='\\t',error_bad_lines=False)"
   ]
  },
  {
   "cell_type": "markdown",
   "metadata": {},
   "source": [
    "### Replace white space with NaN"
   ]
  },
  {
   "cell_type": "code",
   "execution_count": 3,
   "metadata": {},
   "outputs": [],
   "source": [
    "pmcheckin = pmcheckin.replace(r'^\\s*$', np.nan, regex=True)"
   ]
  },
  {
   "cell_type": "markdown",
   "metadata": {},
   "source": [
    "### Process Raw PM-Checkin data"
   ]
  },
  {
   "cell_type": "code",
   "execution_count": 4,
   "metadata": {},
   "outputs": [],
   "source": [
    "#rename these variables for consistency\n",
    "pmcheckin = pmcheckin.rename(columns = \n",
    "                             { 'PMCH-1':'PMCH1',\n",
    "                              'PMCH-2a':'PMCH2A',\n",
    "                              'PMCH-3':'PMCH3'})"
   ]
  },
  {
   "cell_type": "code",
   "execution_count": 5,
   "metadata": {},
   "outputs": [],
   "source": [
    "#remove brackets\n",
    "def remove_brackets(col):\n",
    "    return( col.astype(str).str.replace(']', '').str.replace('[',''))\n",
    "pmcheckin.NapCount=remove_brackets(pmcheckin.NapCount)\n",
    "pmcheckin.PMCH1=remove_brackets(pmcheckin.PMCH1)\n",
    "pmcheckin.PMCH3=remove_brackets(pmcheckin.PMCH3)\n",
    "\n",
    "#recode variables for PMCH-1 into what they were supposed to be\n",
    "pmcheckin['PMCH1'].replace('Very poor',1,inplace=True)\n",
    "pmcheckin['PMCH1'].replace('Poor',2,inplace=True)\n",
    "pmcheckin['PMCH1'].replace('Fair',3,inplace=True)"
   ]
  },
  {
   "cell_type": "markdown",
   "metadata": {},
   "source": [
    "### Filter based on age"
   ]
  },
  {
   "cell_type": "code",
   "execution_count": 6,
   "metadata": {},
   "outputs": [],
   "source": [
    "underage_participants = pd.read_csv( syn.get('syn21905452').path, sep=\"\\t\")\n",
    "pmcheckin = pmcheckin[~pmcheckin.participantId.isin(underage_participants.participantId)]"
   ]
  },
  {
   "cell_type": "markdown",
   "metadata": {},
   "source": [
    "### Remove test accounts"
   ]
  },
  {
   "cell_type": "code",
   "execution_count": 7,
   "metadata": {},
   "outputs": [],
   "source": [
    "test_accounts = pd.read_excel(syn.get('syn21958537').path)\n",
    "\n",
    "pmcheckin = pmcheckin[~pmcheckin.participantId.isin(test_accounts.participantId)]"
   ]
  },
  {
   "cell_type": "markdown",
   "metadata": {},
   "source": [
    "### Clean Alcohol Related Columns (outlier code commented out, all data provided)."
   ]
  },
  {
   "cell_type": "code",
   "execution_count": 8,
   "metadata": {},
   "outputs": [
    {
     "data": {
      "text/plain": [
       "0.100     0.0\n",
       "0.500     0.0\n",
       "0.600     0.0\n",
       "0.800     0.0\n",
       "0.850     1.0\n",
       "0.900     2.0\n",
       "0.950     3.0\n",
       "0.970     4.0\n",
       "0.990     7.0\n",
       "0.999    24.0\n",
       "dtype: float64"
      ]
     },
     "execution_count": 8,
     "metadata": {},
     "output_type": "execute_result"
    },
    {
     "data": {
      "text/plain": [
       "count    4.313200e+04\n",
       "mean     2.862307e+05\n",
       "std      5.944498e+07\n",
       "min      0.000000e+00\n",
       "25%      0.000000e+00\n",
       "50%      0.000000e+00\n",
       "75%      0.000000e+00\n",
       "max      1.234568e+10\n",
       "dtype: float64"
      ]
     },
     "execution_count": 8,
     "metadata": {},
     "output_type": "execute_result"
    }
   ],
   "source": [
    "alcohol_related_cols = ['alcohol_only', 'alcohol&medication_alcohol', 'caffeine&alcohol_alcohol', 'caffeine&alcohol&medication_alcohol']\n",
    "alcohol = pmcheckin[alcohol_related_cols]\n",
    "alcohol = alcohol.sum(axis=1, skipna=True).astype(int)\n",
    "alcohol.quantile([.1, .5, .6, .8, .85, .90, .95, .97, 0.99, 0.999])\n",
    "alcohol.describe()\n",
    "\n",
    "## If the #alcohol drinks is > .99 percentile of the sample in this case > 7 , we list that value is as\n",
    "#more relaxed than normative data\n",
    "#alcohol[ alcohol > 7 ] = 'LOW DATA QUALITY'\n",
    "#alcohol.value_counts()\n",
    "\n",
    "pmcheckin['alcohol'] = alcohol"
   ]
  },
  {
   "cell_type": "markdown",
   "metadata": {},
   "source": [
    "### Clean Caffeine Related Columns (outlier code commented out, all data provided)."
   ]
  },
  {
   "cell_type": "code",
   "execution_count": 9,
   "metadata": {
    "scrolled": false
   },
   "outputs": [
    {
     "data": {
      "text/plain": [
       "0.100    0.000000e+00\n",
       "0.500    2.000000e+00\n",
       "0.600    2.000000e+00\n",
       "0.800    4.000000e+00\n",
       "0.850    6.000000e+00\n",
       "0.900    1.000000e+01\n",
       "0.950    1.600000e+01\n",
       "0.970    2.400000e+01\n",
       "0.990    3.200000e+01\n",
       "0.999    6.400000e+01\n",
       "1.000    3.001827e+10\n",
       "dtype: float64"
      ]
     },
     "execution_count": 9,
     "metadata": {},
     "output_type": "execute_result"
    },
    {
     "data": {
      "text/plain": [
       "count    4.313200e+04\n",
       "mean     6.959668e+05\n",
       "std      1.445393e+08\n",
       "min      0.000000e+00\n",
       "25%      0.000000e+00\n",
       "50%      2.000000e+00\n",
       "75%      4.000000e+00\n",
       "max      3.001827e+10\n",
       "dtype: float64"
      ]
     },
     "execution_count": 9,
     "metadata": {},
     "output_type": "execute_result"
    }
   ],
   "source": [
    "caffeine_related_cols = ['caffeine_only','caffeine&medication_caffeine','caffeine&alcohol_caffeine','caffeine&alcohol&medication_caffeine' ]\n",
    "caffeine = pmcheckin[caffeine_related_cols]\n",
    "\n",
    "caffeine = caffeine.sum(axis=1, skipna=True).astype(int)\n",
    "caffeine.quantile([.1, .5, .6, .8, .85, .90, .95, .97, 0.99, 0.999, 1])\n",
    "caffeine.describe()\n",
    "\n",
    "## If the #caffeine drinks is > .99 percentile of the sample in this case > 32 , we list that value is as \n",
    "#caffeine[ caffeine > 32 ] = 'LOW DATA QUALITY'\n",
    "#caffeine.value_counts()\n",
    "\n",
    "pmcheckin['caffeine'] = caffeine"
   ]
  },
  {
   "cell_type": "markdown",
   "metadata": {},
   "source": [
    "### Drop Older Alcohol and Caffeine related cols "
   ]
  },
  {
   "cell_type": "code",
   "execution_count": 10,
   "metadata": {},
   "outputs": [],
   "source": [
    "alcohol_related_cols.extend(caffeine_related_cols)\n",
    "removeCols = list(set(alcohol_related_cols))\n",
    "pmcheckin = pmcheckin.drop(removeCols, axis=1)"
   ]
  },
  {
   "cell_type": "markdown",
   "metadata": {},
   "source": [
    "### Clean PMCH2A (Nap Lengths) - (outlier code commented out, all data provided)."
   ]
  },
  {
   "cell_type": "code",
   "execution_count": 11,
   "metadata": {},
   "outputs": [
    {
     "data": {
      "text/plain": [
       "0.010         1.00\n",
       "0.050         2.00\n",
       "0.500        30.00\n",
       "0.600        45.00\n",
       "0.800        90.00\n",
       "0.850       120.00\n",
       "0.900       120.00\n",
       "0.950       180.00\n",
       "0.970       219.92\n",
       "0.990       300.00\n",
       "0.999       600.00\n",
       "1.000    207888.00\n",
       "Name: PMCH2A, dtype: float64"
      ]
     },
     "execution_count": 11,
     "metadata": {},
     "output_type": "execute_result"
    },
    {
     "data": {
      "text/plain": [
       "count     11569.000000\n",
       "mean         72.733771\n",
       "std        1933.660850\n",
       "min           0.000000\n",
       "25%          15.000000\n",
       "50%          30.000000\n",
       "75%          65.000000\n",
       "max      207888.000000\n",
       "Name: PMCH2A, dtype: float64"
      ]
     },
     "execution_count": 11,
     "metadata": {},
     "output_type": "execute_result"
    }
   ],
   "source": [
    "pmcheckin.PMCH2A.quantile([.01, .05, .5, .6, .8, .85, .90, .95, .97, 0.99, 0.999, 1])\n",
    "pmcheckin.PMCH2A.describe()"
   ]
  },
  {
   "cell_type": "code",
   "execution_count": 12,
   "metadata": {},
   "outputs": [],
   "source": [
    "## If the nap duration is > .99 percentile of the sample in this case > 300 (5 hours) , we list that value is as \n",
    "#pmcheckin.PMCH2A[ pmcheckin.PMCH2A > 300 ] = 'LOW DATA QUALITY'\n",
    "#pmcheckin.PMCH2A.value_counts()"
   ]
  },
  {
   "cell_type": "markdown",
   "metadata": {},
   "source": [
    "## Create External Copy of the data"
   ]
  },
  {
   "cell_type": "code",
   "execution_count": 13,
   "metadata": {},
   "outputs": [
    {
     "data": {
      "text/plain": [
       "(27380, 8)"
      ]
     },
     "execution_count": 13,
     "metadata": {},
     "output_type": "execute_result"
    }
   ],
   "source": [
    "#download the data \n",
    "sharing_info = pd.read_excel(syn.get('syn21958546').path)\n",
    "healthCodes_with_broadsharing = sharing_info[sharing_info.sharing == 'all_qualified_researchers']\n",
    "\n",
    "EXTERNAL_PMCHECKIN_DATA = pmcheckin[pmcheckin.participantId.isin(healthCodes_with_broadsharing['participant id'])]\n",
    "\n",
    "#drop columns with free text fields\n",
    "EXTERNAL_PMCHECKIN_DATA = EXTERNAL_PMCHECKIN_DATA.drop(columns=['medication_only','caffeine&medication_medication',\n",
    "                                                                'alcohol&medication_medication',\n",
    "                                                                'caffeine&alcohol&medication_medication'], axis=1)\n",
    "EXTERNAL_PMCHECKIN_DATA.shape"
   ]
  },
  {
   "cell_type": "markdown",
   "metadata": {},
   "source": [
    "### Number of unique participants"
   ]
  },
  {
   "cell_type": "code",
   "execution_count": 14,
   "metadata": {},
   "outputs": [
    {
     "data": {
      "text/plain": [
       "4313"
      ]
     },
     "execution_count": 14,
     "metadata": {},
     "output_type": "execute_result"
    }
   ],
   "source": [
    "len(EXTERNAL_PMCHECKIN_DATA.participantId.unique())"
   ]
  },
  {
   "cell_type": "markdown",
   "metadata": {},
   "source": [
    "### Total number of observations"
   ]
  },
  {
   "cell_type": "code",
   "execution_count": 15,
   "metadata": {},
   "outputs": [
    {
     "data": {
      "text/plain": [
       "27380"
      ]
     },
     "execution_count": 15,
     "metadata": {},
     "output_type": "execute_result"
    }
   ],
   "source": [
    "len(EXTERNAL_PMCHECKIN_DATA)"
   ]
  },
  {
   "cell_type": "markdown",
   "metadata": {},
   "source": [
    "### External - Upload to Synapse"
   ]
  },
  {
   "cell_type": "code",
   "execution_count": 16,
   "metadata": {},
   "outputs": [],
   "source": [
    "SH_EXTERNAL_PROJECT = 'syn18492837'\n",
    "table_schema_external = Schema(name='PM Check-in',\n",
    "                               columns=as_table_columns(EXTERNAL_PMCHECKIN_DATA),\n",
    "                               parent=SH_EXTERNAL_PROJECT)\n",
    "pmCheckin_synTable_external = syn.store(Table(table_schema_external,EXTERNAL_PMCHECKIN_DATA))"
   ]
  },
  {
   "cell_type": "markdown",
   "metadata": {},
   "source": [
    "### Internal - Upload to Synapse"
   ]
  },
  {
   "cell_type": "code",
   "execution_count": 17,
   "metadata": {},
   "outputs": [],
   "source": [
    "SH_INTERNAL_PROJECT = 'syn7066726'\n",
    "table_schema_internal = Schema(name='PM Check-in Internal',\n",
    "                               columns=as_table_columns(pmcheckin),\n",
    "                               parent=SH_INTERNAL_PROJECT)\n",
    "pmCheckin_synTable_internal = syn.store(Table(table_schema_internal,pmcheckin))"
   ]
  },
  {
   "cell_type": "code",
   "execution_count": 18,
   "metadata": {},
   "outputs": [
    {
     "data": {
      "text/plain": [
       "{u'createdBy': u'3334346',\n",
       " u'createdOn': u'2020-07-20T18:58:54.786Z',\n",
       " u'description': u'Process and convert raw data to table format',\n",
       " u'etag': u'93b2073e-6f88-4c16-9c4e-ac409c5f5de5',\n",
       " u'id': u'10282150',\n",
       " u'modifiedBy': u'3334346',\n",
       " u'modifiedOn': u'2020-07-20T18:58:54.786Z',\n",
       " u'name': u'PM Check-in',\n",
       " u'used': [{u'concreteType': u'org.sagebionetworks.repo.model.provenance.UsedEntity',\n",
       "   u'reference': {u'targetId': u'syn7117927', u'targetVersionNumber': 784},\n",
       "   u'wasExecuted': False},\n",
       "  {u'concreteType': u'org.sagebionetworks.repo.model.provenance.UsedURL',\n",
       "   u'name': u'https://github.com/apratap/SleepHealth_Data_Release/blob/master/Create_PM_Checkin.ipynb',\n",
       "   u'url': u'https://github.com/apratap/SleepHealth_Data_Release/blob/master/Create_PM_Checkin.ipynb',\n",
       "   u'wasExecuted': True}]}"
      ]
     },
     "execution_count": 18,
     "metadata": {},
     "output_type": "execute_result"
    },
    {
     "data": {
      "text/plain": [
       "{u'createdBy': u'3334346',\n",
       " u'createdOn': u'2020-07-20T18:59:16.843Z',\n",
       " u'description': u'Process and convert raw data to table format',\n",
       " u'etag': u'be4557c8-41a3-4328-a876-18b05a28b8cd',\n",
       " u'id': u'10282151',\n",
       " u'modifiedBy': u'3334346',\n",
       " u'modifiedOn': u'2020-07-20T18:59:16.843Z',\n",
       " u'name': u'PM Check-in',\n",
       " u'used': [{u'concreteType': u'org.sagebionetworks.repo.model.provenance.UsedEntity',\n",
       "   u'reference': {u'targetId': u'syn7117927', u'targetVersionNumber': 784},\n",
       "   u'wasExecuted': False},\n",
       "  {u'concreteType': u'org.sagebionetworks.repo.model.provenance.UsedURL',\n",
       "   u'name': u'https://github.com/apratap/SleepHealth_Data_Release/blob/master/Create_PM_Checkin.ipynb',\n",
       "   u'url': u'https://github.com/apratap/SleepHealth_Data_Release/blob/master/Create_PM_Checkin.ipynb',\n",
       "   u'wasExecuted': True}]}"
      ]
     },
     "execution_count": 18,
     "metadata": {},
     "output_type": "execute_result"
    }
   ],
   "source": [
    "activity=Activity(name= 'PM Check-in', \n",
    "                  description='Process and convert raw data to table format', \n",
    "                  used=pmcheckin_raw_id, \n",
    "                  executed='https://github.com/apratap/SleepHealth_Data_Release/blob/master/Create_PM_Checkin.ipynb')\n",
    "#Internal \n",
    "syn.setProvenance(pmCheckin_synTable_internal, activity)\n",
    "\n",
    "#External\n",
    "syn.setProvenance(pmCheckin_synTable_external, activity)"
   ]
  }
 ],
 "metadata": {
  "kernelspec": {
   "display_name": "Python 2",
   "language": "python",
   "name": "python2"
  },
  "language_info": {
   "codemirror_mode": {
    "name": "ipython",
    "version": 2
   },
   "file_extension": ".py",
   "mimetype": "text/x-python",
   "name": "python",
   "nbconvert_exporter": "python",
   "pygments_lexer": "ipython2",
   "version": "2.7.17"
  }
 },
 "nbformat": 4,
 "nbformat_minor": 2
}
