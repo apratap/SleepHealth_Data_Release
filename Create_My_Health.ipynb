{
 "cells": [
  {
   "cell_type": "markdown",
   "metadata": {},
   "source": [
    "# My Health Data Prep"
   ]
  },
  {
   "cell_type": "code",
   "execution_count": 1,
   "metadata": {
    "ExecuteTime": {
     "end_time": "2018-11-08T20:51:18.756789Z",
     "start_time": "2018-11-08T20:51:16.206741Z"
    }
   },
   "outputs": [
    {
     "name": "stderr",
     "output_type": "stream",
     "text": [
      "\n",
      "UPGRADE AVAILABLE\n",
      "\n",
      "A more recent version of the Synapse Client (2.0.0) is available. Your version (1.9.4) can be upgraded by typing:\n",
      "    pip install --upgrade synapseclient\n",
      "\n",
      "Python Synapse Client version 2.0.0 release notes\n",
      "\n",
      "https://python-docs.synapse.org/build/html/news.html\n",
      "\n"
     ]
    },
    {
     "name": "stdout",
     "output_type": "stream",
     "text": [
      "Welcome, Sean Deering!\n",
      "\n"
     ]
    }
   ],
   "source": [
    "import datetime as dt\n",
    "import numpy as np\n",
    "import pandas as pd\n",
    "import matplotlib.pyplot as plt\n",
    "from IPython.core.interactiveshell import InteractiveShell\n",
    "import synapseclient\n",
    "from synapseclient import Activity, Schema, Table, as_table_columns\n",
    "\n",
    "InteractiveShell.ast_node_interactivity = 'all'\n",
    "syn = synapseclient.Synapse()\n",
    "syn.login()"
   ]
  },
  {
   "cell_type": "markdown",
   "metadata": {},
   "source": [
    "### Get Raw My Health Data"
   ]
  },
  {
   "cell_type": "code",
   "execution_count": 2,
   "metadata": {
    "ExecuteTime": {
     "end_time": "2018-11-08T20:51:03.792459Z",
     "start_time": "2018-11-08T20:50:50.988008Z"
    }
   },
   "outputs": [],
   "source": [
    "myhealth_raw_id = 'syn7117922'\n",
    "\n",
    "myhealth = pd.read_csv(syn.get(myhealth_raw_id).path)"
   ]
  },
  {
   "cell_type": "markdown",
   "metadata": {},
   "source": [
    "### Replace white space with NaN"
   ]
  },
  {
   "cell_type": "code",
   "execution_count": 3,
   "metadata": {},
   "outputs": [],
   "source": [
    "myhealth = myhealth.replace(r'^\\s*$', np.nan, regex=True)"
   ]
  },
  {
   "cell_type": "markdown",
   "metadata": {},
   "source": [
    "### Process My Health Data"
   ]
  },
  {
   "cell_type": "code",
   "execution_count": 4,
   "metadata": {
    "ExecuteTime": {
     "end_time": "2018-11-08T20:51:04.422718Z",
     "start_time": "2018-11-08T20:51:03.852456Z"
    },
    "scrolled": false
   },
   "outputs": [],
   "source": [
    "#remove brackets from categorical columns\n",
    "def remove_brackets(col):\n",
    "    return( col.astype(str).str.replace(']', '').str.replace('[',''))\n",
    "myhealth.current_allergies=remove_brackets(myhealth.current_allergies)\n",
    "myhealth.impactsleep_allergies=remove_brackets(myhealth.impactsleep_allergies)\n",
    "myhealth.sleepimpact_allergies=remove_brackets(myhealth.sleepimpact_allergies)\n",
    "myhealth.allergies=remove_brackets(myhealth.allergies)\n",
    "myhealth.anxiety=remove_brackets(myhealth.anxiety)\n",
    "myhealth.current_anxiety=remove_brackets(myhealth.current_anxiety)\n",
    "myhealth.impactsleep_anxiety=remove_brackets(myhealth.impactsleep_anxiety)\n",
    "myhealth.sleepimpact_anxiety=remove_brackets(myhealth.sleepimpact_anxiety)\n",
    "myhealth.anxious=remove_brackets(myhealth.anxious)\n",
    "myhealth.apnea=remove_brackets(myhealth.apnea)\n",
    "myhealth.current_apnea=remove_brackets(myhealth.current_apnea)\n",
    "myhealth.impactsleep_apnea=remove_brackets(myhealth.impactsleep_apnea)\n",
    "myhealth.sleepimpact_apnea=remove_brackets(myhealth.sleepimpact_apnea)\n",
    "myhealth.asthma=remove_brackets(myhealth.asthma)\n",
    "myhealth.current_asthma=remove_brackets(myhealth.current_asthma)\n",
    "myhealth.impactsleep_asthma=remove_brackets(myhealth.impactsleep_asthma)\n",
    "myhealth.sleepimpact_asthma=remove_brackets(myhealth.sleepimpact_asthma)\n",
    "myhealth.atrial=remove_brackets(myhealth.atrial)\n",
    "myhealth.current_atrial=remove_brackets(myhealth.current_atrial)\n",
    "myhealth.impactsleep_atrial=remove_brackets(myhealth.impactsleep_atrial)\n",
    "myhealth.sleepimpact_atrial=remove_brackets(myhealth.sleepimpact_atrial)\n",
    "myhealth.hi_blood_pressure=remove_brackets(myhealth.hi_blood_pressure)\n",
    "myhealth.current_hbp=remove_brackets(myhealth.current_hbp)\n",
    "myhealth.impactsleep_hbp=remove_brackets(myhealth.impactsleep_hbp)\n",
    "myhealth.sleepimpact_hbp=remove_brackets(myhealth.sleepimpact_hbp)\n",
    "myhealth.cancer=remove_brackets(myhealth.cancer)\n",
    "myhealth.current_cancer=remove_brackets(myhealth.current_cancer)\n",
    "myhealth.impactsleep_cancer=remove_brackets(myhealth.impactsleep_cancer)\n",
    "myhealth.sleepimpact_cancer=remove_brackets(myhealth.sleepimpact_cancer)\n",
    "myhealth.cardiovascular=remove_brackets(myhealth.cardiovascular)\n",
    "myhealth.compare_one_year=remove_brackets(myhealth.compare_one_year)\n",
    "myhealth.day_to_day=remove_brackets(myhealth.day_to_day)\n",
    "myhealth.depressed=remove_brackets(myhealth.depressed)\n",
    "myhealth.depression=remove_brackets(myhealth.depression)\n",
    "myhealth.current_depression=remove_brackets(myhealth.current_depression)\n",
    "myhealth.impactsleep_depression=remove_brackets(myhealth.impactsleep_depression)\n",
    "myhealth.sleepimpact_depression=remove_brackets(myhealth.sleepimpact_depression)\n",
    "myhealth.diabetes=remove_brackets(myhealth.diabetes)\n",
    "myhealth.current_Diabetes=remove_brackets(myhealth.current_Diabetes)\n",
    "myhealth.impactsleep_diabetes=remove_brackets(myhealth.impactsleep_diabetes)\n",
    "myhealth.sleepimpact_diabetes=remove_brackets(myhealth.sleepimpact_diabetes)\n",
    "myhealth.diabetes_type=remove_brackets(myhealth.diabetes_type)\n",
    "myhealth.emotional=remove_brackets(myhealth.emotional)\n",
    "myhealth.erectile=remove_brackets(myhealth.erectile)\n",
    "myhealth.current_ed=remove_brackets(myhealth.current_ed)\n",
    "myhealth.impactsleep_ed=remove_brackets(myhealth.impactsleep_ed)\n",
    "myhealth.sleepimpact_ed=remove_brackets(myhealth.sleepimpact_ed)\n",
    "myhealth.fatigued=remove_brackets(myhealth.fatigued)\n",
    "myhealth.gastroesophageal=remove_brackets(myhealth.gastroesophageal)\n",
    "myhealth.current_gastroesophageal=remove_brackets(myhealth.current_gastroesophageal)\n",
    "myhealth.impactsleep_gastroesophageal=remove_brackets(myhealth.impactsleep_gastroesophageal)\n",
    "myhealth.sleepimpact_gastroesophageal=remove_brackets(myhealth.sleepimpact_gastroesophageal)\n",
    "myhealth.general_health=remove_brackets(myhealth.general_health)\n",
    "myhealth.heart_disease=remove_brackets(myhealth.heart_disease)\n",
    "myhealth.current_heart_disease=remove_brackets(myhealth.current_heart_disease)\n",
    "myhealth.impactsleep_heart_disease=remove_brackets(myhealth.impactsleep_heart_disease)\n",
    "myhealth.sleepimpact_heart_disease=remove_brackets(myhealth.sleepimpact_heart_disease)\n",
    "myhealth.insomnia=remove_brackets(myhealth.insomnia)\n",
    "myhealth.current_insomnia=remove_brackets(myhealth.current_insomnia)\n",
    "myhealth.impactsleep_insomnia=remove_brackets(myhealth.impactsleep_insomnia)\n",
    "myhealth.sleepimpact_insomnia=remove_brackets(myhealth.sleepimpact_insomnia)\n",
    "myhealth.lung=remove_brackets(myhealth.lung)\n",
    "myhealth.current_lung=remove_brackets(myhealth.current_lung)\n",
    "myhealth.impactsleep_lung=remove_brackets(myhealth.impactsleep_lung)\n",
    "myhealth.sleepimpact_lung=remove_brackets(myhealth.sleepimpact_lung)\n",
    "myhealth.mental_health=remove_brackets(myhealth.mental_health)\n",
    "myhealth.narcolepsy=remove_brackets(myhealth.narcolepsy)\n",
    "myhealth.current_Narcolepsy=remove_brackets(myhealth.current_Narcolepsy)\n",
    "myhealth.impactsleep_Narcolepsy=remove_brackets(myhealth.impactsleep_Narcolepsy)\n",
    "myhealth.sleepimpact_Narcolepsy=remove_brackets(myhealth.sleepimpact_Narcolepsy)\n",
    "myhealth.nocturia=remove_brackets(myhealth.nocturia)\n",
    "myhealth.current_Nocturia=remove_brackets(myhealth.current_Nocturia)\n",
    "myhealth.impactsleep_Nocturia=remove_brackets(myhealth.impactsleep_Nocturia)\n",
    "myhealth.sleepimpact_Nocturia=remove_brackets(myhealth.sleepimpact_Nocturia)\n",
    "myhealth.restless_legs_syndrome=remove_brackets(myhealth.restless_legs_syndrome)\n",
    "myhealth.current_rls=remove_brackets(myhealth.current_rls)\n",
    "myhealth.impactsleep_rls=remove_brackets(myhealth.impactsleep_rls)\n",
    "myhealth.sleepimpact_rls=remove_brackets(myhealth.sleepimpact_rls)\n",
    "myhealth.stroke=remove_brackets(myhealth.stroke)\n",
    "myhealth.current_Stroke=remove_brackets(myhealth.current_Stroke)\n",
    "myhealth.impactsleep_stroke=remove_brackets(myhealth.impactsleep_stroke)\n",
    "myhealth.sleepimpact_stroke=remove_brackets(myhealth.sleepimpact_stroke)\n",
    "myhealth.physical_activities=remove_brackets(myhealth.physical_activities)\n",
    "myhealth.physical_health=remove_brackets(myhealth.physical_health)\n",
    "myhealth.risk=remove_brackets(myhealth.risk)\n",
    "myhealth.sleep_trouble=remove_brackets(myhealth.sleep_trouble)\n",
    "myhealth.social_activities=remove_brackets(myhealth.social_activities)\n",
    "myhealth.stressed=remove_brackets(myhealth.stressed)\n",
    "myhealth.uars=remove_brackets(myhealth.uars)\n",
    "myhealth.current_uars=remove_brackets(myhealth.current_uars)\n",
    "myhealth.impactsleep_uars=remove_brackets(myhealth.impactsleep_uars)\n",
    "myhealth.sleepimpact_uars=remove_brackets(myhealth.sleepimpact_uars)\n",
    "\n",
    "#drop free text fields\n",
    "myhealth = myhealth.drop(columns=['cancer_selected'])"
   ]
  },
  {
   "cell_type": "markdown",
   "metadata": {},
   "source": [
    "### Filter based on age"
   ]
  },
  {
   "cell_type": "code",
   "execution_count": 5,
   "metadata": {},
   "outputs": [],
   "source": [
    "underage_participants = pd.read_csv( syn.get('syn21905452').path, sep=\"\\t\")\n",
    "myhealth = myhealth[~myhealth.participantId.isin(underage_participants.participantId)]"
   ]
  },
  {
   "cell_type": "markdown",
   "metadata": {},
   "source": [
    "### Remove test accounts"
   ]
  },
  {
   "cell_type": "code",
   "execution_count": 6,
   "metadata": {},
   "outputs": [],
   "source": [
    "test_accounts = pd.read_excel(syn.get('syn21958537').path)\n",
    "\n",
    "myhealth = myhealth[~myhealth.participantId.isin(test_accounts.participantId)]"
   ]
  },
  {
   "cell_type": "markdown",
   "metadata": {},
   "source": [
    "### Clean My Health Data"
   ]
  },
  {
   "cell_type": "markdown",
   "metadata": {},
   "source": [
    "#### Clean age high blood Pressure Column"
   ]
  },
  {
   "cell_type": "code",
   "execution_count": 7,
   "metadata": {},
   "outputs": [
    {
     "data": {
      "text/plain": [
       "40.0                44\n",
       "30.0                29\n",
       "45.0                24\n",
       "35.0                23\n",
       "25.0                22\n",
       "50.0                21\n",
       "38.0                19\n",
       "55.0                18\n",
       "42.0                13\n",
       "44.0                13\n",
       "18.0                11\n",
       "32.0                10\n",
       "48.0                10\n",
       "28.0                10\n",
       "33.0                 9\n",
       "31.0                 9\n",
       "19.0                 9\n",
       "52.0                 9\n",
       "34.0                 8\n",
       "24.0                 8\n",
       "20.0                 8\n",
       "41.0                 8\n",
       "36.0                 7\n",
       "22.0                 7\n",
       "26.0                 7\n",
       "29.0                 7\n",
       "16.0                 7\n",
       "39.0                 7\n",
       "53.0                 6\n",
       "43.0                 6\n",
       "17.0                 5\n",
       "23.0                 5\n",
       "21.0                 5\n",
       "56.0                 5\n",
       "57.0                 4\n",
       "54.0                 4\n",
       "65.0                 4\n",
       "37.0                 4\n",
       "60.0                 4\n",
       "66.0                 3\n",
       "58.0                 3\n",
       "27.0                 3\n",
       "51.0                 3\n",
       "46.0                 3\n",
       "49.0                 3\n",
       "63.0                 2\n",
       "47.0                 2\n",
       "15.0                 2\n",
       "LOW DATA QUALITY     2\n",
       "13.0                 1\n",
       "2001.0               1\n",
       "2000.0               1\n",
       "59.0                 1\n",
       "62.0                 1\n",
       "64.0                 1\n",
       "71.0                 1\n",
       "77.0                 1\n",
       "2.0                  1\n",
       "Name: age_hbp, dtype: int64"
      ]
     },
     "execution_count": 7,
     "metadata": {},
     "output_type": "execute_result"
    }
   ],
   "source": [
    "#Set ages 120 and 140 years old to LOW DATA QUALITY - I don't feel comfortable making any assumptions about what these participants meant.\n",
    "\n",
    "myhealth.age_hbp[ myhealth.age_hbp == 120] = 'LOW DATA QUALITY'\n",
    "myhealth.age_hbp[ myhealth.age_hbp == 140] = 'LOW DATA QUALITY'\n",
    "myhealth.age_hbp.value_counts()"
   ]
  },
  {
   "cell_type": "markdown",
   "metadata": {},
   "source": [
    "### Create Internal & External Copies of the Data"
   ]
  },
  {
   "cell_type": "code",
   "execution_count": 8,
   "metadata": {},
   "outputs": [
    {
     "data": {
      "text/plain": [
       "(1512, 114)"
      ]
     },
     "execution_count": 8,
     "metadata": {},
     "output_type": "execute_result"
    }
   ],
   "source": [
    "#download the data \n",
    "sharing_info = pd.read_excel(syn.get('syn21557215').path)\n",
    "healthCodes_with_broadsharing = sharing_info[sharing_info.sharing == 'all_qualified_researchers']\n",
    "\n",
    "EXTERNAL_MYHEALTH_DATA = myhealth[myhealth.participantId.isin(healthCodes_with_broadsharing['participant id'])]\n",
    "EXTERNAL_MYHEALTH_DATA.shape"
   ]
  },
  {
   "cell_type": "markdown",
   "metadata": {},
   "source": [
    "### External - Upload to Synapse"
   ]
  },
  {
   "cell_type": "code",
   "execution_count": null,
   "metadata": {},
   "outputs": [
    {
     "data": {
      "text/plain": [
       "1439"
      ]
     },
     "execution_count": 9,
     "metadata": {},
     "output_type": "execute_result"
    }
   ],
   "source": [
    "len(EXTERNAL_MYHEALTH_DATA.participantId.unique())\n",
    "SH_EXTERNAL_PROJECT = 'syn18492837'\n",
    "table_schema_external = Schema(name='My Health',\n",
    "                               columns=as_table_columns(EXTERNAL_MYHEALTH_DATA),\n",
    "                               parent=SH_EXTERNAL_PROJECT)\n",
    "myhealth_synTable_external = syn.store(Table(table_schema_external,EXTERNAL_MYHEALTH_DATA))\n",
    "myhealth_synTable_external"
   ]
  },
  {
   "cell_type": "markdown",
   "metadata": {},
   "source": [
    "### Internal - Upload to Synapse"
   ]
  },
  {
   "cell_type": "code",
   "execution_count": null,
   "metadata": {},
   "outputs": [],
   "source": [
    "SH_INTERNAL_PROJECT = 'syn7066726'\n",
    "table_schema_internal = Schema(name='My Health Internal',\n",
    "                               columns=as_table_columns(myhealth), \n",
    "                               parent=SH_INTERNAL_PROJECT)\n",
    "myhealth_synTable_internal = syn.store(Table(table_schema_internal,myhealth))"
   ]
  },
  {
   "cell_type": "markdown",
   "metadata": {},
   "source": [
    "### Set Provenance"
   ]
  },
  {
   "cell_type": "code",
   "execution_count": null,
   "metadata": {},
   "outputs": [],
   "source": [
    "activity=Activity(name= 'My Health data curation', \n",
    "                  description='Process and convert raw data to table format', \n",
    "                  used=myhealth_raw_id, \n",
    "                  executed='https://github.com/apratap/SleepHealth_Data_Release/blob/master/Create_My_Health.ipynb')\n",
    "#Internal \n",
    "syn.setProvenance(myhealth_synTable_internal, activity)\n",
    "\n",
    "#External\n",
    "syn.setProvenance(myhealth_synTable_external, activity)"
   ]
  }
 ],
 "metadata": {
  "kernelspec": {
   "display_name": "Python 2",
   "language": "python",
   "name": "python2"
  },
  "language_info": {
   "codemirror_mode": {
    "name": "ipython",
    "version": 2
   },
   "file_extension": ".py",
   "mimetype": "text/x-python",
   "name": "python",
   "nbconvert_exporter": "python",
   "pygments_lexer": "ipython2",
   "version": "2.7.17"
  },
  "varInspector": {
   "cols": {
    "lenName": 16,
    "lenType": 16,
    "lenVar": 40
   },
   "kernels_config": {
    "python": {
     "delete_cmd_postfix": "",
     "delete_cmd_prefix": "del ",
     "library": "var_list.py",
     "varRefreshCmd": "print(var_dic_list())"
    },
    "r": {
     "delete_cmd_postfix": ") ",
     "delete_cmd_prefix": "rm(",
     "library": "var_list.r",
     "varRefreshCmd": "cat(var_dic_list()) "
    }
   },
   "types_to_exclude": [
    "module",
    "function",
    "builtin_function_or_method",
    "instance",
    "_Feature"
   ],
   "window_display": false
  }
 },
 "nbformat": 4,
 "nbformat_minor": 2
}
