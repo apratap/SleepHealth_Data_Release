{
 "cells": [
  {
   "cell_type": "markdown",
   "metadata": {},
   "source": [
    "# Sleep Assessment Data Prep"
   ]
  },
  {
   "cell_type": "code",
   "execution_count": 2,
   "metadata": {
    "ExecuteTime": {
     "end_time": "2018-11-08T20:51:18.756789Z",
     "start_time": "2018-11-08T20:51:16.206741Z"
    }
   },
   "outputs": [
    {
     "name": "stderr",
     "output_type": "stream",
     "text": [
      "\n",
      "UPGRADE AVAILABLE\n",
      "\n",
      "A more recent version of the Synapse Client (2.0.0) is available. Your version (1.9.4) can be upgraded by typing:\n",
      "    pip install --upgrade synapseclient\n",
      "\n",
      "Python Synapse Client version 2.0.0 release notes\n",
      "\n",
      "https://python-docs.synapse.org/build/html/news.html\n",
      "\n"
     ]
    },
    {
     "name": "stdout",
     "output_type": "stream",
     "text": [
      "Welcome, Sean Deering!\n",
      "\n"
     ]
    }
   ],
   "source": [
    "import datetime as dt\n",
    "import numpy as np\n",
    "import pandas as pd\n",
    "import matplotlib.pyplot as plt\n",
    "from IPython.core.interactiveshell import InteractiveShell\n",
    "import synapseclient\n",
    "from synapseclient import Activity, Schema, Table, as_table_columns\n",
    "\n",
    "InteractiveShell.ast_node_interactivity = 'all'\n",
    "syn = synapseclient.Synapse()\n",
    "syn.login()"
   ]
  },
  {
   "cell_type": "markdown",
   "metadata": {},
   "source": [
    "### Get Raw Sleep Assessment Data"
   ]
  },
  {
   "cell_type": "code",
   "execution_count": 3,
   "metadata": {
    "ExecuteTime": {
     "end_time": "2018-11-08T20:51:03.792459Z",
     "start_time": "2018-11-08T20:50:50.988008Z"
    }
   },
   "outputs": [],
   "source": [
    "sleepassessment_raw_id = 'syn7117910'\n",
    "\n",
    "sleepassessment = pd.read_csv(syn.get(sleepassessment_raw_id).path)\n"
   ]
  },
  {
   "cell_type": "markdown",
   "metadata": {},
   "source": [
    "### Process Sleep Assessment Data"
   ]
  },
  {
   "cell_type": "code",
   "execution_count": 5,
   "metadata": {
    "ExecuteTime": {
     "end_time": "2018-11-08T20:51:04.422718Z",
     "start_time": "2018-11-08T20:51:03.852456Z"
    },
    "scrolled": false
   },
   "outputs": [],
   "source": [
    "#remove brackets\n",
    "def remove_brackets(col):\n",
    "    return( col.astype(str).str.replace(']', '').str.replace('[',''))\n",
    "sleepassessment.alcohol = remove_brackets(sleepassessment.alcohol)\n",
    "sleepassessment.concentrating_problem_one = remove_brackets(sleepassessment.concentrating_problem_one)\n",
    "sleepassessment.concentrating_problem_two = remove_brackets(sleepassessment.concentrating_problem_two)\n",
    "sleepassessment.discomfort_in_sleep = remove_brackets(sleepassessment.discomfort_in_sleep)\n",
    "sleepassessment.exercise = remove_brackets(sleepassessment.exercise)\n",
    "sleepassessment.fatigue_limit = remove_brackets(sleepassessment.fatigue_limit)\n",
    "sleepassessment.feel_tired_frequency = remove_brackets(sleepassessment.feel_tired_frequency)\n",
    "sleepassessment.felt_alert = remove_brackets(sleepassessment.felt_alert)\n",
    "sleepassessment.discomfort_in_sleep = remove_brackets(sleepassessment.discomfort_in_sleep)\n",
    "sleepassessment.had_problem = remove_brackets(sleepassessment.had_problem)\n",
    "sleepassessment.hard_times = remove_brackets(sleepassessment.hard_times)\n",
    "sleepassessment.medication_by_doctor = remove_brackets(sleepassessment.medication_by_doctor)\n",
    "sleepassessment.poor_sleep_problems = remove_brackets(sleepassessment.poor_sleep_problems)\n",
    "sleepassessment.sleep_aids = remove_brackets(sleepassessment.sleep_aids)\n",
    "sleepassessment.sleep_problem = remove_brackets(sleepassessment.sleep_problem)\n",
    "sleepassessment.think_clearly = remove_brackets(sleepassessment.think_clearly)\n",
    "sleepassessment.tired_easily = remove_brackets(sleepassessment.tired_easily)\n",
    "sleepassessment.told_by_doctor = remove_brackets(sleepassessment.told_by_doctor)\n",
    "sleepassessment.told_by_doctor_specify = remove_brackets(sleepassessment.told_by_doctor_specify)\n",
    "sleepassessment.told_to_doctor = remove_brackets(sleepassessment.told_to_doctor)\n",
    "sleepassessment.trouble_staying_awake = remove_brackets(sleepassessment.trouble_staying_awake)"
   ]
  },
  {
   "cell_type": "markdown",
   "metadata": {},
   "source": [
    "### Filter based on age"
   ]
  },
  {
   "cell_type": "code",
   "execution_count": 6,
   "metadata": {},
   "outputs": [],
   "source": [
    "underage_participants = pd.read_csv( syn.get('syn21905452').path, sep=\"\\t\")\n",
    "sleepassessment = sleepassessment[~sleepassessment.participantId.isin(underage_participants.participantId)]"
   ]
  },
  {
   "cell_type": "markdown",
   "metadata": {},
   "source": [
    "### Create Internal & External Copies of the Data"
   ]
  },
  {
   "cell_type": "code",
   "execution_count": 8,
   "metadata": {},
   "outputs": [
    {
     "data": {
      "text/plain": [
       "(2318, 22)"
      ]
     },
     "execution_count": 8,
     "metadata": {},
     "output_type": "execute_result"
    }
   ],
   "source": [
    "#download the data \n",
    "sharing_info = pd.read_excel(syn.get('syn21557215').path)\n",
    "healthCodes_with_broadsharing = sharing_info[sharing_info.sharing == 'all_qualified_researchers']\n",
    "\n",
    "EXTERNAL_SLEEPASSESSMENT_DATA = sleepassessment[sleepassessment.participantId.isin(healthCodes_with_broadsharing['participant id'])]\n",
    "EXTERNAL_SLEEPASSESSMENT_DATA.shape"
   ]
  },
  {
   "cell_type": "markdown",
   "metadata": {},
   "source": [
    "### External - Upload to Synapse"
   ]
  },
  {
   "cell_type": "code",
   "execution_count": 9,
   "metadata": {},
   "outputs": [
    {
     "data": {
      "text/plain": [
       "2221"
      ]
     },
     "execution_count": 9,
     "metadata": {},
     "output_type": "execute_result"
    },
    {
     "data": {
      "text/plain": [
       "<synapseclient.table.CsvFileTable at 0x10a719610>"
      ]
     },
     "execution_count": 9,
     "metadata": {},
     "output_type": "execute_result"
    }
   ],
   "source": [
    "len(EXTERNAL_SLEEPASSESSMENT_DATA.participantId.unique())\n",
    "SH_EXTERNAL_PROJECT = 'syn18492837'\n",
    "table_schema_external = Schema(name='Sleep Assessment',\n",
    "                               columns=as_table_columns(EXTERNAL_SLEEPASSESSMENT_DATA),\n",
    "                               parent=SH_EXTERNAL_PROJECT)\n",
    "sleepassessment_synTable_external = syn.store(Table(table_schema_external,EXTERNAL_SLEEPASSESSMENT_DATA))\n",
    "sleepassessment_synTable_external"
   ]
  },
  {
   "cell_type": "markdown",
   "metadata": {},
   "source": [
    "### Internal - Upload to Synapse"
   ]
  },
  {
   "cell_type": "code",
   "execution_count": 10,
   "metadata": {},
   "outputs": [],
   "source": [
    "SH_INTERNAL_PROJECT = 'syn7066726'\n",
    "table_schema_internal = Schema(name='Sleep Assessment Internal',\n",
    "                               columns=as_table_columns(sleepassessment), \n",
    "                               parent=SH_INTERNAL_PROJECT)\n",
    "sleepassessment_synTable_internal = syn.store(Table(table_schema_internal,sleepassessment))"
   ]
  },
  {
   "cell_type": "markdown",
   "metadata": {},
   "source": [
    "### Set Provenance"
   ]
  },
  {
   "cell_type": "code",
   "execution_count": 11,
   "metadata": {},
   "outputs": [
    {
     "data": {
      "text/plain": [
       "{u'createdBy': u'3334346',\n",
       " u'createdOn': u'2020-02-27T00:45:15.562Z',\n",
       " u'description': u'Process and convert raw data to table format',\n",
       " u'etag': u'63b5a440-bdf7-4153-aed3-02a83fccacbd',\n",
       " u'id': u'10191763',\n",
       " u'modifiedBy': u'3334346',\n",
       " u'modifiedOn': u'2020-02-27T00:45:15.562Z',\n",
       " u'name': u'Sleep Assessment data curation',\n",
       " u'used': [{u'concreteType': u'org.sagebionetworks.repo.model.provenance.UsedEntity',\n",
       "   u'reference': {u'targetId': u'syn7117910', u'targetVersionNumber': 770},\n",
       "   u'wasExecuted': False},\n",
       "  {u'concreteType': u'org.sagebionetworks.repo.model.provenance.UsedURL',\n",
       "   u'name': u'https://github.com/deerings/SLEEPHEALTHv2-Data-Release/Create_Sleep_Assessment.ipynb',\n",
       "   u'url': u'https://github.com/deerings/SLEEPHEALTHv2-Data-Release/Create_Sleep_Assessment.ipynb',\n",
       "   u'wasExecuted': True}]}"
      ]
     },
     "execution_count": 11,
     "metadata": {},
     "output_type": "execute_result"
    },
    {
     "data": {
      "text/plain": [
       "{u'createdBy': u'3334346',\n",
       " u'createdOn': u'2020-02-27T00:45:18.055Z',\n",
       " u'description': u'Process and convert raw data to table format',\n",
       " u'etag': u'fd6b49fc-ebde-4024-9f16-d715da3f5502',\n",
       " u'id': u'10191764',\n",
       " u'modifiedBy': u'3334346',\n",
       " u'modifiedOn': u'2020-02-27T00:45:18.055Z',\n",
       " u'name': u'Sleep Assessment data curation',\n",
       " u'used': [{u'concreteType': u'org.sagebionetworks.repo.model.provenance.UsedEntity',\n",
       "   u'reference': {u'targetId': u'syn7117910', u'targetVersionNumber': 770},\n",
       "   u'wasExecuted': False},\n",
       "  {u'concreteType': u'org.sagebionetworks.repo.model.provenance.UsedURL',\n",
       "   u'name': u'https://github.com/deerings/SLEEPHEALTHv2-Data-Release/Create_Sleep_Assessment.ipynb',\n",
       "   u'url': u'https://github.com/deerings/SLEEPHEALTHv2-Data-Release/Create_Sleep_Assessment.ipynb',\n",
       "   u'wasExecuted': True}]}"
      ]
     },
     "execution_count": 11,
     "metadata": {},
     "output_type": "execute_result"
    }
   ],
   "source": [
    "activity=Activity(name= 'Sleep Assessment data curation', \n",
    "                  description='Process and convert raw data to table format', \n",
    "                  used=sleepassessment_raw_id, \n",
    "                  executed='https://github.com/apratap/SleepHealth_Data_Release/blob/master/Create_Sleep_Assessment.ipynb')\n",
    "#Internal \n",
    "syn.setProvenance(sleepassessment_synTable_internal, activity)\n",
    "\n",
    "#External\n",
    "syn.setProvenance(sleepassessment_synTable_external, activity)"
   ]
  }
 ],
 "metadata": {
  "kernelspec": {
   "display_name": "Python 2",
   "language": "python",
   "name": "python2"
  },
  "language_info": {
   "codemirror_mode": {
    "name": "ipython",
    "version": 2
   },
   "file_extension": ".py",
   "mimetype": "text/x-python",
   "name": "python",
   "nbconvert_exporter": "python",
   "pygments_lexer": "ipython2",
   "version": "2.7.17"
  },
  "varInspector": {
   "cols": {
    "lenName": 16,
    "lenType": 16,
    "lenVar": 40
   },
   "kernels_config": {
    "python": {
     "delete_cmd_postfix": "",
     "delete_cmd_prefix": "del ",
     "library": "var_list.py",
     "varRefreshCmd": "print(var_dic_list())"
    },
    "r": {
     "delete_cmd_postfix": ") ",
     "delete_cmd_prefix": "rm(",
     "library": "var_list.r",
     "varRefreshCmd": "cat(var_dic_list()) "
    }
   },
   "types_to_exclude": [
    "module",
    "function",
    "builtin_function_or_method",
    "instance",
    "_Feature"
   ],
   "window_display": false
  }
 },
 "nbformat": 4,
 "nbformat_minor": 2
}
