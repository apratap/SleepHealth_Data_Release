{
 "cells": [
  {
   "cell_type": "markdown",
   "metadata": {},
   "source": [
    "#  AM Check-in Data Prep"
   ]
  },
  {
   "cell_type": "code",
   "execution_count": 38,
   "metadata": {
    "ExecuteTime": {
     "end_time": "2018-11-08T20:51:18.756789Z",
     "start_time": "2018-11-08T20:51:16.206741Z"
    }
   },
   "outputs": [
    {
     "name": "stderr",
     "output_type": "stream",
     "text": [
      "\n",
      "UPGRADE AVAILABLE\n",
      "\n",
      "A more recent version of the Synapse Client (2.0.0) is available. Your version (1.9.4) can be upgraded by typing:\n",
      "    pip install --upgrade synapseclient\n",
      "\n",
      "Python Synapse Client version 2.0.0 release notes\n",
      "\n",
      "https://python-docs.synapse.org/build/html/news.html\n",
      "\n"
     ]
    },
    {
     "name": "stdout",
     "output_type": "stream",
     "text": [
      "Welcome, Sean Deering!\n",
      "\n"
     ]
    }
   ],
   "source": [
    "import datetime as dt\n",
    "import numpy as np\n",
    "import pandas as pd\n",
    "import matplotlib.pyplot as plt\n",
    "from IPython.core.interactiveshell import InteractiveShell\n",
    "import synapseclient\n",
    "from synapseclient import Activity, Schema, Table, as_table_columns\n",
    "\n",
    "InteractiveShell.ast_node_interactivity = 'all'\n",
    "syn = synapseclient.Synapse()\n",
    "syn.login()"
   ]
  },
  {
   "cell_type": "markdown",
   "metadata": {},
   "source": [
    "### Get Raw AM Check-in Data"
   ]
  },
  {
   "cell_type": "code",
   "execution_count": 39,
   "metadata": {
    "ExecuteTime": {
     "end_time": "2018-11-08T20:51:03.792459Z",
     "start_time": "2018-11-08T20:50:50.988008Z"
    }
   },
   "outputs": [
    {
     "data": {
      "text/html": [
       "<div>\n",
       "<style scoped>\n",
       "    .dataframe tbody tr th:only-of-type {\n",
       "        vertical-align: middle;\n",
       "    }\n",
       "\n",
       "    .dataframe tbody tr th {\n",
       "        vertical-align: top;\n",
       "    }\n",
       "\n",
       "    .dataframe thead th {\n",
       "        text-align: right;\n",
       "    }\n",
       "</style>\n",
       "<table border=\"1\" class=\"dataframe\">\n",
       "  <thead>\n",
       "    <tr style=\"text-align: right;\">\n",
       "      <th></th>\n",
       "      <th>participantId</th>\n",
       "      <th>AMCH-1</th>\n",
       "      <th>AMCH-2</th>\n",
       "      <th>AMCH-2a</th>\n",
       "      <th>AMCH-3</th>\n",
       "      <th>AMCH-3a</th>\n",
       "      <th>AMCH-4</th>\n",
       "      <th>AMCH-5</th>\n",
       "      <th>timestamp</th>\n",
       "    </tr>\n",
       "  </thead>\n",
       "  <tbody>\n",
       "    <tr>\n",
       "      <th>0</th>\n",
       "      <td>2ff2a147-32ab-433d-aeb6-c672a8e792d9</td>\n",
       "      <td>NaN</td>\n",
       "      <td>NaN</td>\n",
       "      <td>NaN</td>\n",
       "      <td>NaN</td>\n",
       "      <td>NaN</td>\n",
       "      <td>NaN</td>\n",
       "      <td>NaN</td>\n",
       "      <td>2016-03-04T21:59:40+05:30</td>\n",
       "    </tr>\n",
       "    <tr>\n",
       "      <th>1</th>\n",
       "      <td>2ff2a147-32ab-433d-aeb6-c672a8e792d9</td>\n",
       "      <td>NaN</td>\n",
       "      <td>False</td>\n",
       "      <td>NaN</td>\n",
       "      <td>NaN</td>\n",
       "      <td>10860.0</td>\n",
       "      <td>2016-03-08T22:45:06+05:30</td>\n",
       "      <td>7260.0</td>\n",
       "      <td>2016-03-08T22:45:14+05:30</td>\n",
       "    </tr>\n",
       "    <tr>\n",
       "      <th>2</th>\n",
       "      <td>2ff2a147-32ab-433d-aeb6-c672a8e792d9</td>\n",
       "      <td>NaN</td>\n",
       "      <td>NaN</td>\n",
       "      <td>NaN</td>\n",
       "      <td>NaN</td>\n",
       "      <td>NaN</td>\n",
       "      <td>NaN</td>\n",
       "      <td>NaN</td>\n",
       "      <td>2016-03-12T22:47:54+05:30</td>\n",
       "    </tr>\n",
       "    <tr>\n",
       "      <th>3</th>\n",
       "      <td>482657e9-1bd3-4e8c-b29a-c0b8d8d7282a</td>\n",
       "      <td>2016-09-26T07:15:42-04:00</td>\n",
       "      <td>True</td>\n",
       "      <td>3600.0</td>\n",
       "      <td>3.0</td>\n",
       "      <td>14400.0</td>\n",
       "      <td>2016-09-26T07:15:13-04:00</td>\n",
       "      <td>14400.0</td>\n",
       "      <td>2016-09-26T08:42:33-04:00</td>\n",
       "    </tr>\n",
       "    <tr>\n",
       "      <th>4</th>\n",
       "      <td>10313862-8ee9-4155-8ffd-c93b3d902de5</td>\n",
       "      <td>2016-03-02T21:00:39-06:00</td>\n",
       "      <td>False</td>\n",
       "      <td>NaN</td>\n",
       "      <td>NaN</td>\n",
       "      <td>120.0</td>\n",
       "      <td>2016-03-02T05:09:07-06:00</td>\n",
       "      <td>NaN</td>\n",
       "      <td>2016-03-02T11:19:22-06:00</td>\n",
       "    </tr>\n",
       "  </tbody>\n",
       "</table>\n",
       "</div>"
      ],
      "text/plain": [
       "                          participantId                     AMCH-1 AMCH-2  \\\n",
       "0  2ff2a147-32ab-433d-aeb6-c672a8e792d9                        NaN    NaN   \n",
       "1  2ff2a147-32ab-433d-aeb6-c672a8e792d9                        NaN  False   \n",
       "2  2ff2a147-32ab-433d-aeb6-c672a8e792d9                        NaN    NaN   \n",
       "3  482657e9-1bd3-4e8c-b29a-c0b8d8d7282a  2016-09-26T07:15:42-04:00   True   \n",
       "4  10313862-8ee9-4155-8ffd-c93b3d902de5  2016-03-02T21:00:39-06:00  False   \n",
       "\n",
       "   AMCH-2a  AMCH-3  AMCH-3a                     AMCH-4   AMCH-5  \\\n",
       "0      NaN     NaN      NaN                        NaN      NaN   \n",
       "1      NaN     NaN  10860.0  2016-03-08T22:45:06+05:30   7260.0   \n",
       "2      NaN     NaN      NaN                        NaN      NaN   \n",
       "3   3600.0     3.0  14400.0  2016-09-26T07:15:13-04:00  14400.0   \n",
       "4      NaN     NaN    120.0  2016-03-02T05:09:07-06:00      NaN   \n",
       "\n",
       "                   timestamp  \n",
       "0  2016-03-04T21:59:40+05:30  \n",
       "1  2016-03-08T22:45:14+05:30  \n",
       "2  2016-03-12T22:47:54+05:30  \n",
       "3  2016-09-26T08:42:33-04:00  \n",
       "4  2016-03-02T11:19:22-06:00  "
      ]
     },
     "execution_count": 39,
     "metadata": {},
     "output_type": "execute_result"
    }
   ],
   "source": [
    "amcheckin_raw_id = 'syn7115672'\n",
    "amcheckin = pd.read_csv(syn.get(amcheckin_raw_id).path)"
   ]
  },
  {
   "cell_type": "markdown",
   "metadata": {},
   "source": [
    "### Process AM Check-in Data"
   ]
  },
  {
   "cell_type": "code",
   "execution_count": 40,
   "metadata": {
    "ExecuteTime": {
     "end_time": "2018-11-08T20:51:04.422718Z",
     "start_time": "2018-11-08T20:51:03.852456Z"
    },
    "scrolled": false
   },
   "outputs": [],
   "source": [
    "#convert seconds to minutes    \n",
    "amcheckin['AMCH-2a'] = amcheckin['AMCH-2a']/60\n",
    "amcheckin['AMCH-3a'] = amcheckin['AMCH-3a']/60\n",
    "amcheckin['AMCH-5'] = amcheckin['AMCH-5']/60\n",
    "\n",
    "#renaming these so they are consistent with PM Check-in\n",
    "amcheckin = amcheckin.rename(columns = \n",
    "                             { 'AMCH-1':'AMCH1',\n",
    "                              'AMCH-2':'AMCH2',\n",
    "                              'AMCH-2a':'AMCH2A',\n",
    "                              'AMCH-3':'AMCH3',\n",
    "                              'AMCH-3a':'AMCH3A',\n",
    "                              'AMCH-4':'AMCH4',\n",
    "                              'AMCH-5':'AMCH5'})"
   ]
  },
  {
   "cell_type": "markdown",
   "metadata": {},
   "source": [
    "### Filter based on age"
   ]
  },
  {
   "cell_type": "code",
   "execution_count": null,
   "metadata": {},
   "outputs": [],
   "source": [
    "underage_participants = pd.read_csv( syn.get('syn21905452').path, sep=\"\\t\")\n",
    "amcheckin = amcheckin[~amcheckin.participantId.isin(underage_participants.participantId)]"
   ]
  },
  {
   "cell_type": "markdown",
   "metadata": {},
   "source": [
    "### Replace white space with NaN"
   ]
  },
  {
   "cell_type": "code",
   "execution_count": 42,
   "metadata": {},
   "outputs": [],
   "source": [
    "amcheckin = amcheckin.replace(r'^\\s*$', np.nan, regex=True)"
   ]
  },
  {
   "cell_type": "markdown",
   "metadata": {},
   "source": [
    "### Clean  AM-Checkin Data"
   ]
  },
  {
   "cell_type": "markdown",
   "metadata": {},
   "source": [
    "### AMCH2A Cleaning (Sleep Onset Latency)"
   ]
  },
  {
   "cell_type": "code",
   "execution_count": 45,
   "metadata": {},
   "outputs": [
    {
     "data": {
      "text/plain": [
       "count    14778.000000\n",
       "mean        67.606374\n",
       "std         87.412342\n",
       "min          1.000000\n",
       "25%         25.000000\n",
       "50%         45.000000\n",
       "75%         68.000000\n",
       "max       1439.000000\n",
       "Name: AMCH2A, dtype: float64"
      ]
     },
     "execution_count": 45,
     "metadata": {},
     "output_type": "execute_result"
    }
   ],
   "source": [
    "amcheckin.AMCH2A.describe()"
   ]
  },
  {
   "cell_type": "code",
   "execution_count": 44,
   "metadata": {},
   "outputs": [
    {
     "data": {
      "text/plain": [
       "0.100      15.00\n",
       "0.500      45.00\n",
       "0.600      60.00\n",
       "0.800      90.00\n",
       "0.850     120.00\n",
       "0.900     121.00\n",
       "0.950     200.15\n",
       "0.970     245.00\n",
       "0.990     420.00\n",
       "0.999    1332.15\n",
       "Name: AMCH2A, dtype: float64"
      ]
     },
     "execution_count": 44,
     "metadata": {},
     "output_type": "execute_result"
    }
   ],
   "source": [
    "amcheckin.AMCH2A.quantile([.01, .05, .5, .6, .8, .85, .90, .95, .97, 0.99, 0.999, 1])"
   ]
  },
  {
   "cell_type": "code",
   "execution_count": 46,
   "metadata": {},
   "outputs": [
    {
     "name": "stderr",
     "output_type": "stream",
     "text": [
      "[WARNING] /usr/local/lib/python2.7/site-packages/ipykernel_launcher.py:2: SettingWithCopyWarning: \n",
      "A value is trying to be set on a copy of a slice from a DataFrame\n",
      "\n",
      "See the caveats in the documentation: http://pandas.pydata.org/pandas-docs/stable/indexing.html#indexing-view-versus-copy\n",
      "  \n",
      "\n"
     ]
    }
   ],
   "source": [
    "#exclude data above 99th percentile, which in this case is 420 minutes\n",
    "amcheckin.AMCH2A[ amcheckin.AMCH2A > 420 ] = 'DATA QUALITY ISSUE'\n"
   ]
  },
  {
   "cell_type": "code",
   "execution_count": 47,
   "metadata": {},
   "outputs": [
    {
     "data": {
      "text/plain": [
       "30.0                  2136\n",
       "60.0                  1923\n",
       "20.0                  1171\n",
       "61.0                   990\n",
       "15.0                   883\n",
       "45.0                   752\n",
       "120.0                  744\n",
       "10.0                   507\n",
       "90.0                   503\n",
       "121.0                  471\n",
       "40.0                   361\n",
       "1.0                    353\n",
       "25.0                   345\n",
       "180.0                  264\n",
       "181.0                  196\n",
       "35.0                   172\n",
       "240.0                  140\n",
       "DATA QUALITY ISSUE     125\n",
       "75.0                   122\n",
       "150.0                  120\n",
       "5.0                    111\n",
       "50.0                    95\n",
       "241.0                   76\n",
       "80.0                    69\n",
       "300.0                   67\n",
       "210.0                   66\n",
       "105.0                   60\n",
       "16.0                    58\n",
       "70.0                    52\n",
       "17.0                    51\n",
       "                      ... \n",
       "97.0                     1\n",
       "99.0                     1\n",
       "102.0                    1\n",
       "109.0                    1\n",
       "113.0                    1\n",
       "117.0                    1\n",
       "118.0                    1\n",
       "128.0                    1\n",
       "129.0                    1\n",
       "133.0                    1\n",
       "136.0                    1\n",
       "138.0                    1\n",
       "139.0                    1\n",
       "142.0                    1\n",
       "144.0                    1\n",
       "147.0                    1\n",
       "149.0                    1\n",
       "152.0                    1\n",
       "154.0                    1\n",
       "155.0                    1\n",
       "159.0                    1\n",
       "368.0                    1\n",
       "161.0                    1\n",
       "164.0                    1\n",
       "166.0                    1\n",
       "178.0                    1\n",
       "353.0                    1\n",
       "320.0                    1\n",
       "184.0                    1\n",
       "101.0                    1\n",
       "Name: AMCH2A, Length: 220, dtype: int64"
      ]
     },
     "execution_count": 47,
     "metadata": {},
     "output_type": "execute_result"
    }
   ],
   "source": [
    "amcheckin.AMCH2A.value_counts()"
   ]
  },
  {
   "cell_type": "markdown",
   "metadata": {},
   "source": [
    "### AMCH 3 Cleaning (# of wakes during the night)"
   ]
  },
  {
   "cell_type": "code",
   "execution_count": 51,
   "metadata": {},
   "outputs": [
    {
     "data": {
      "text/plain": [
       "count      73452.000000\n",
       "mean          17.000463\n",
       "std         3708.164615\n",
       "min            0.000000\n",
       "25%            0.000000\n",
       "50%            1.000000\n",
       "75%            3.000000\n",
       "max      1000000.000000\n",
       "Name: AMCH3, dtype: float64"
      ]
     },
     "execution_count": 51,
     "metadata": {},
     "output_type": "execute_result"
    }
   ],
   "source": [
    "amcheckin.AMCH3.describe()"
   ]
  },
  {
   "cell_type": "code",
   "execution_count": 50,
   "metadata": {},
   "outputs": [
    {
     "data": {
      "text/plain": [
       "0.100     0.0\n",
       "0.500     1.0\n",
       "0.600     2.0\n",
       "0.800     3.0\n",
       "0.850     3.0\n",
       "0.900     4.0\n",
       "0.950     5.0\n",
       "0.970     7.0\n",
       "0.990    10.0\n",
       "0.999    25.0\n",
       "Name: AMCH3, dtype: float64"
      ]
     },
     "execution_count": 50,
     "metadata": {},
     "output_type": "execute_result"
    }
   ],
   "source": [
    "amcheckin.AMCH3.quantile([.01, .05, .5, .6, .8, .85, .90, .95, .97, 0.99, 0.999, 1])"
   ]
  },
  {
   "cell_type": "code",
   "execution_count": 52,
   "metadata": {},
   "outputs": [
    {
     "name": "stderr",
     "output_type": "stream",
     "text": [
      "[WARNING] /usr/local/lib/python2.7/site-packages/ipykernel_launcher.py:2: SettingWithCopyWarning: \n",
      "A value is trying to be set on a copy of a slice from a DataFrame\n",
      "\n",
      "See the caveats in the documentation: http://pandas.pydata.org/pandas-docs/stable/indexing.html#indexing-view-versus-copy\n",
      "  \n",
      "\n"
     ]
    }
   ],
   "source": [
    "#exclude anything above 99th percentile, which in this case is 10 wakes\n",
    "amcheckin.AMCH3[ amcheckin.AMCH3 > 10 ] = 'DATA QUALITY ISSUE'"
   ]
  },
  {
   "cell_type": "code",
   "execution_count": 53,
   "metadata": {},
   "outputs": [
    {
     "data": {
      "text/plain": [
       "1.0                   19445\n",
       "0.0                   19068\n",
       "2.0                   15147\n",
       "3.0                    9407\n",
       "4.0                    4108\n",
       "5.0                    2766\n",
       "6.0                    1153\n",
       "DATA QUALITY ISSUE      653\n",
       "8.0                     574\n",
       "7.0                     482\n",
       "10.0                    446\n",
       "9.0                     203\n",
       "Name: AMCH3, dtype: int64"
      ]
     },
     "execution_count": 53,
     "metadata": {},
     "output_type": "execute_result"
    }
   ],
   "source": [
    "amcheckin.AMCH3.value_counts()"
   ]
  },
  {
   "cell_type": "markdown",
   "metadata": {},
   "source": [
    "### AMCH3A Data Cleaning (Total Time Awake Overnight)"
   ]
  },
  {
   "cell_type": "code",
   "execution_count": 57,
   "metadata": {},
   "outputs": [
    {
     "data": {
      "text/plain": [
       "count    54551.000000\n",
       "mean        43.507103\n",
       "std         98.828155\n",
       "min          1.000000\n",
       "25%          5.000000\n",
       "50%         15.000000\n",
       "75%         45.000000\n",
       "max       1439.000000\n",
       "Name: AMCH3A, dtype: float64"
      ]
     },
     "execution_count": 57,
     "metadata": {},
     "output_type": "execute_result"
    }
   ],
   "source": [
    "amcheckin.AMCH3A.describe()"
   ]
  },
  {
   "cell_type": "code",
   "execution_count": 56,
   "metadata": {},
   "outputs": [
    {
     "data": {
      "text/plain": [
       "0.100       2.0\n",
       "0.500      15.0\n",
       "0.600      20.0\n",
       "0.800      60.0\n",
       "0.850      61.0\n",
       "0.900      90.0\n",
       "0.950     180.0\n",
       "0.970     241.0\n",
       "0.990     450.0\n",
       "0.999    1201.0\n",
       "Name: AMCH3A, dtype: float64"
      ]
     },
     "execution_count": 56,
     "metadata": {},
     "output_type": "execute_result"
    }
   ],
   "source": [
    "amcheckin.AMCH3A.quantile([.01, .05, .5, .6, .8, .85, .90, .95, .97, 0.99, 0.999, 1])"
   ]
  },
  {
   "cell_type": "code",
   "execution_count": 58,
   "metadata": {},
   "outputs": [
    {
     "name": "stderr",
     "output_type": "stream",
     "text": [
      "[WARNING] /usr/local/lib/python2.7/site-packages/ipykernel_launcher.py:2: SettingWithCopyWarning: \n",
      "A value is trying to be set on a copy of a slice from a DataFrame\n",
      "\n",
      "See the caveats in the documentation: http://pandas.pydata.org/pandas-docs/stable/indexing.html#indexing-view-versus-copy\n",
      "  \n",
      "\n"
     ]
    }
   ],
   "source": [
    "#exclude anything above 99th percentile, which in this case is 450 minutes\n",
    "amcheckin.AMCH3A[ amcheckin.AMCH3A > 450 ] = 'DATA QUALITY ISSUE'"
   ]
  },
  {
   "cell_type": "code",
   "execution_count": 59,
   "metadata": {},
   "outputs": [
    {
     "data": {
      "text/plain": [
       "5.0                   6322\n",
       "10.0                  5502\n",
       "1.0                   4419\n",
       "15.0                  4036\n",
       "30.0                  3712\n",
       "20.0                  2608\n",
       "60.0                  2504\n",
       "2.0                   2123\n",
       "3.0                   2042\n",
       "61.0                  1403\n",
       "4.0                   1374\n",
       "6.0                   1153\n",
       "45.0                  1127\n",
       "120.0                  988\n",
       "90.0                   826\n",
       "8.0                    676\n",
       "121.0                  643\n",
       "25.0                   640\n",
       "7.0                    617\n",
       "40.0                   536\n",
       "DATA QUALITY ISSUE     529\n",
       "12.0                   438\n",
       "180.0                  405\n",
       "9.0                    348\n",
       "35.0                   344\n",
       "181.0                  300\n",
       "75.0                   295\n",
       "11.0                   282\n",
       "150.0                  267\n",
       "14.0                   238\n",
       "                      ... \n",
       "272.0                    1\n",
       "265.0                    1\n",
       "359.0                    1\n",
       "263.0                    1\n",
       "256.0                    1\n",
       "224.0                    1\n",
       "227.0                    1\n",
       "231.0                    1\n",
       "248.0                    1\n",
       "233.0                    1\n",
       "208.0                    1\n",
       "207.0                    1\n",
       "308.0                    1\n",
       "204.0                    1\n",
       "349.0                    1\n",
       "347.0                    1\n",
       "344.0                    1\n",
       "340.0                    1\n",
       "338.0                    1\n",
       "336.0                    1\n",
       "199.0                    1\n",
       "332.0                    1\n",
       "329.0                    1\n",
       "324.0                    1\n",
       "319.0                    1\n",
       "203.0                    1\n",
       "424.0                    1\n",
       "312.0                    1\n",
       "310.0                    1\n",
       "348.0                    1\n",
       "Name: AMCH3A, Length: 341, dtype: int64"
      ]
     },
     "execution_count": 59,
     "metadata": {},
     "output_type": "execute_result"
    }
   ],
   "source": [
    "amcheckin.AMCH3A.value_counts()"
   ]
  },
  {
   "cell_type": "markdown",
   "metadata": {},
   "source": [
    "### AMCH5 Data Cleaning (Total Hours Slept)"
   ]
  },
  {
   "cell_type": "code",
   "execution_count": 63,
   "metadata": {},
   "outputs": [
    {
     "data": {
      "text/plain": [
       "count    54693.000000\n",
       "mean       395.127530\n",
       "std        126.614827\n",
       "min          1.000000\n",
       "25%        360.000000\n",
       "50%        420.000000\n",
       "75%        480.000000\n",
       "max       1439.000000\n",
       "Name: AMCH5, dtype: float64"
      ]
     },
     "execution_count": 63,
     "metadata": {},
     "output_type": "execute_result"
    }
   ],
   "source": [
    "amcheckin.AMCH5.describe()"
   ]
  },
  {
   "cell_type": "code",
   "execution_count": 62,
   "metadata": {},
   "outputs": [
    {
     "data": {
      "text/plain": [
       "0.100    262.00\n",
       "0.500    420.00\n",
       "0.600    430.00\n",
       "0.800    481.00\n",
       "0.850    495.00\n",
       "0.900    523.00\n",
       "0.950    546.00\n",
       "0.970    584.00\n",
       "0.990    635.00\n",
       "0.999    791.54\n",
       "Name: AMCH5, dtype: float64"
      ]
     },
     "execution_count": 62,
     "metadata": {},
     "output_type": "execute_result"
    }
   ],
   "source": [
    "amcheckin.AMCH5.quantile([.01, .05, .5, .6, .8, .85, .90, .95, .97, 0.99, 0.999, 1])"
   ]
  },
  {
   "cell_type": "code",
   "execution_count": 64,
   "metadata": {},
   "outputs": [
    {
     "name": "stderr",
     "output_type": "stream",
     "text": [
      "[WARNING] /usr/local/lib/python2.7/site-packages/ipykernel_launcher.py:2: SettingWithCopyWarning: \n",
      "A value is trying to be set on a copy of a slice from a DataFrame\n",
      "\n",
      "See the caveats in the documentation: http://pandas.pydata.org/pandas-docs/stable/indexing.html#indexing-view-versus-copy\n",
      "  \n",
      "\n"
     ]
    }
   ],
   "source": [
    "#exclude anything above 99th percentile, which in this case is 635 minutes\n",
    "amcheckin.AMCH5[ amcheckin.AMCH5 > 635 ] = 'DATA QUALITY ISSUE'"
   ]
  },
  {
   "cell_type": "code",
   "execution_count": 65,
   "metadata": {},
   "outputs": [
    {
     "data": {
      "text/plain": [
       "420.0                 3555\n",
       "480.0                 3230\n",
       "360.0                 2689\n",
       "421.0                 2594\n",
       "1.0                   2254\n",
       "450.0                 2238\n",
       "361.0                 1993\n",
       "390.0                 1990\n",
       "481.0                 1840\n",
       "300.0                 1501\n",
       "540.0                 1240\n",
       "510.0                 1138\n",
       "330.0                 1114\n",
       "301.0                 1072\n",
       "435.0                  677\n",
       "541.0                  661\n",
       "405.0                  636\n",
       "465.0                  587\n",
       "240.0                  572\n",
       "375.0                  553\n",
       "DATA QUALITY ISSUE     544\n",
       "270.0                  534\n",
       "241.0                  486\n",
       "495.0                  418\n",
       "440.0                  410\n",
       "600.0                  391\n",
       "430.0                  357\n",
       "380.0                  339\n",
       "345.0                  336\n",
       "570.0                  328\n",
       "                      ... \n",
       "52.0                     1\n",
       "124.0                    1\n",
       "129.0                    1\n",
       "132.0                    1\n",
       "119.0                    1\n",
       "133.0                    1\n",
       "136.0                    1\n",
       "634.0                    1\n",
       "106.0                    1\n",
       "104.0                    1\n",
       "102.0                    1\n",
       "143.0                    1\n",
       "98.0                     1\n",
       "91.0                     1\n",
       "144.0                    1\n",
       "87.0                     1\n",
       "621.0                    1\n",
       "77.0                     1\n",
       "76.0                     1\n",
       "71.0                     1\n",
       "70.0                     1\n",
       "69.0                     1\n",
       "67.0                     1\n",
       "147.0                    1\n",
       "153.0                    1\n",
       "154.0                    1\n",
       "633.0                    1\n",
       "216.0                    1\n",
       "57.0                     1\n",
       "117.0                    1\n",
       "Name: AMCH5, Length: 559, dtype: int64"
      ]
     },
     "execution_count": 65,
     "metadata": {},
     "output_type": "execute_result"
    }
   ],
   "source": [
    "amcheckin.AMCH5.value_counts()"
   ]
  },
  {
   "cell_type": "markdown",
   "metadata": {},
   "source": [
    "### Create Internal & External Copies of the Data"
   ]
  },
  {
   "cell_type": "code",
   "execution_count": 67,
   "metadata": {},
   "outputs": [
    {
     "data": {
      "text/plain": [
       "(49270, 9)"
      ]
     },
     "execution_count": 67,
     "metadata": {},
     "output_type": "execute_result"
    }
   ],
   "source": [
    "#download the data \n",
    "sharing_info = pd.read_excel(syn.get('syn21557215').path)\n",
    "healthCodes_with_broadsharing = sharing_info[sharing_info.sharing == 'all_qualified_researchers']\n",
    "\n",
    "EXTERNAL_AMCHECKIN_DATA = amcheckin[amcheckin.participantId.isin(healthCodes_with_broadsharing['participant id'])]\n",
    "EXTERNAL_AMCHECKIN_DATA.shape"
   ]
  },
  {
   "cell_type": "markdown",
   "metadata": {},
   "source": [
    "### External - Upload to Synapse"
   ]
  },
  {
   "cell_type": "code",
   "execution_count": 68,
   "metadata": {},
   "outputs": [
    {
     "data": {
      "text/plain": [
       "5253"
      ]
     },
     "execution_count": 68,
     "metadata": {},
     "output_type": "execute_result"
    },
    {
     "data": {
      "text/plain": [
       "<synapseclient.table.CsvFileTable at 0x110802110>"
      ]
     },
     "execution_count": 68,
     "metadata": {},
     "output_type": "execute_result"
    }
   ],
   "source": [
    "SH_EXTERNAL_PROJECT = 'syn18492837'\n",
    "table_schema_external = Schema(name='AM Check-in',\n",
    "                               columns=as_table_columns(EXTERNAL_AMCHECKIN_DATA),\n",
    "                               parent=SH_EXTERNAL_PROJECT)\n",
    "amcheckin_synTable_external = syn.store(Table(table_schema_external,EXTERNAL_AMCHECKIN_DATA))\n",
    "amcheckin_synTable_external"
   ]
  },
  {
   "cell_type": "markdown",
   "metadata": {},
   "source": [
    "### Internal - Upload to Synapse"
   ]
  },
  {
   "cell_type": "code",
   "execution_count": 69,
   "metadata": {},
   "outputs": [],
   "source": [
    "SH_INTERNAL_PROJECT = 'syn7066726'\n",
    "table_schema_internal = Schema(name='AM Check-in Internal',\n",
    "                               columns=as_table_columns(amcheckin), \n",
    "                               parent=SH_INTERNAL_PROJECT)\n",
    "amcheckin_synTable_internal = syn.store(Table(table_schema_internal,amcheckin))"
   ]
  },
  {
   "cell_type": "markdown",
   "metadata": {},
   "source": [
    "### Set Provenance"
   ]
  },
  {
   "cell_type": "code",
   "execution_count": 71,
   "metadata": {},
   "outputs": [
    {
     "data": {
      "text/plain": [
       "{u'createdBy': u'3334346',\n",
       " u'createdOn': u'2020-04-08T18:22:14.799Z',\n",
       " u'description': u'Process and convert raw data to table format',\n",
       " u'etag': u'e571ae60-087b-48ae-99ac-0552f1489952',\n",
       " u'id': u'10232190',\n",
       " u'modifiedBy': u'3334346',\n",
       " u'modifiedOn': u'2020-04-08T18:22:14.799Z',\n",
       " u'name': u'AM Check-in data curation',\n",
       " u'used': [{u'concreteType': u'org.sagebionetworks.repo.model.provenance.UsedURL',\n",
       "   u'name': u'https://github.com/deerings/SLEEPHEALTHv2-Data-Release/Create_AM_Checkin.ipynb',\n",
       "   u'url': u'https://github.com/deerings/SLEEPHEALTHv2-Data-Release/Create_AM_Checkin.ipynb',\n",
       "   u'wasExecuted': True},\n",
       "  {u'concreteType': u'org.sagebionetworks.repo.model.provenance.UsedEntity',\n",
       "   u'reference': {u'targetId': u'syn7115672', u'targetVersionNumber': 928},\n",
       "   u'wasExecuted': False}]}"
      ]
     },
     "execution_count": 71,
     "metadata": {},
     "output_type": "execute_result"
    },
    {
     "data": {
      "text/plain": [
       "{u'createdBy': u'3334346',\n",
       " u'createdOn': u'2020-04-08T18:23:01.922Z',\n",
       " u'description': u'Process and convert raw data to table format',\n",
       " u'etag': u'9792ba4f-936c-4d34-8ac1-dd0c863ea345',\n",
       " u'id': u'10232191',\n",
       " u'modifiedBy': u'3334346',\n",
       " u'modifiedOn': u'2020-04-08T18:23:01.922Z',\n",
       " u'name': u'AM Check-in data curation',\n",
       " u'used': [{u'concreteType': u'org.sagebionetworks.repo.model.provenance.UsedURL',\n",
       "   u'name': u'https://github.com/deerings/SLEEPHEALTHv2-Data-Release/Create_AM_Checkin.ipynb',\n",
       "   u'url': u'https://github.com/deerings/SLEEPHEALTHv2-Data-Release/Create_AM_Checkin.ipynb',\n",
       "   u'wasExecuted': True},\n",
       "  {u'concreteType': u'org.sagebionetworks.repo.model.provenance.UsedEntity',\n",
       "   u'reference': {u'targetId': u'syn7115672', u'targetVersionNumber': 928},\n",
       "   u'wasExecuted': False}]}"
      ]
     },
     "execution_count": 71,
     "metadata": {},
     "output_type": "execute_result"
    }
   ],
   "source": [
    "activity=Activity(name= 'AM Check-in data curation', \n",
    "                  description='Process and convert raw data to table format', \n",
    "                  used=amcheckin_raw_id, \n",
    "                  executed='https://github.com/apratap/SleepHealth_Data_Release/blob/master/Create_AM_Checkin.ipynb')\n",
    "#Internal \n",
    "syn.setProvenance(amcheckin_synTable_internal, activity)\n",
    "\n",
    "#External\n",
    "syn.setProvenance(amcheckin_synTable_external, activity)"
   ]
  }
 ],
 "metadata": {
  "kernelspec": {
   "display_name": "Python 2",
   "language": "python",
   "name": "python2"
  },
  "language_info": {
   "codemirror_mode": {
    "name": "ipython",
    "version": 2
   },
   "file_extension": ".py",
   "mimetype": "text/x-python",
   "name": "python",
   "nbconvert_exporter": "python",
   "pygments_lexer": "ipython2",
   "version": "2.7.17"
  },
  "varInspector": {
   "cols": {
    "lenName": 16,
    "lenType": 16,
    "lenVar": 40
   },
   "kernels_config": {
    "python": {
     "delete_cmd_postfix": "",
     "delete_cmd_prefix": "del ",
     "library": "var_list.py",
     "varRefreshCmd": "print(var_dic_list())"
    },
    "r": {
     "delete_cmd_postfix": ") ",
     "delete_cmd_prefix": "rm(",
     "library": "var_list.r",
     "varRefreshCmd": "cat(var_dic_list()) "
    }
   },
   "types_to_exclude": [
    "module",
    "function",
    "builtin_function_or_method",
    "instance",
    "_Feature"
   ],
   "window_display": false
  }
 },
 "nbformat": 4,
 "nbformat_minor": 2
}
