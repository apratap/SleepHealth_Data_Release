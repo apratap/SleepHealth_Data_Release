{
 "cells": [
  {
   "cell_type": "markdown",
   "metadata": {},
   "source": [
    "#  AM Check-in Data Prep"
   ]
  },
  {
   "cell_type": "code",
   "execution_count": 8,
   "metadata": {
    "ExecuteTime": {
     "end_time": "2018-11-08T20:51:18.756789Z",
     "start_time": "2018-11-08T20:51:16.206741Z"
    }
   },
   "outputs": [
    {
     "name": "stderr",
     "output_type": "stream",
     "text": [
      "\n",
      "UPGRADE AVAILABLE\n",
      "\n",
      "A more recent version of the Synapse Client (2.0.0) is available. Your version (1.9.4) can be upgraded by typing:\n",
      "    pip install --upgrade synapseclient\n",
      "\n",
      "Python Synapse Client version 2.0.0 release notes\n",
      "\n",
      "https://python-docs.synapse.org/build/html/news.html\n",
      "\n"
     ]
    },
    {
     "name": "stdout",
     "output_type": "stream",
     "text": [
      "Welcome, Sean Deering!\n",
      "\n"
     ]
    }
   ],
   "source": [
    "import datetime as dt\n",
    "import numpy as np\n",
    "import pandas as pd\n",
    "import matplotlib.pyplot as plt\n",
    "from IPython.core.interactiveshell import InteractiveShell\n",
    "import synapseclient\n",
    "from synapseclient import Activity, Schema, Table, as_table_columns\n",
    "\n",
    "InteractiveShell.ast_node_interactivity = 'all'\n",
    "syn = synapseclient.Synapse()\n",
    "syn.login()"
   ]
  },
  {
   "cell_type": "markdown",
   "metadata": {},
   "source": [
    "### Get Raw AM Check-in Data"
   ]
  },
  {
   "cell_type": "code",
   "execution_count": 9,
   "metadata": {
    "ExecuteTime": {
     "end_time": "2018-11-08T20:51:03.792459Z",
     "start_time": "2018-11-08T20:50:50.988008Z"
    }
   },
   "outputs": [],
   "source": [
    "amcheckin_raw_id = 'syn7115672'\n",
    "amcheckin = pd.read_csv(syn.get(amcheckin_raw_id).path)"
   ]
  },
  {
   "cell_type": "markdown",
   "metadata": {},
   "source": [
    "### Process AM Check-in Data"
   ]
  },
  {
   "cell_type": "code",
   "execution_count": 10,
   "metadata": {
    "ExecuteTime": {
     "end_time": "2018-11-08T20:51:04.422718Z",
     "start_time": "2018-11-08T20:51:03.852456Z"
    },
    "scrolled": false
   },
   "outputs": [],
   "source": [
    "#convert seconds to minutes    \n",
    "amcheckin['AMCH-2a'] = amcheckin['AMCH-2a']/60\n",
    "amcheckin['AMCH-3a'] = amcheckin['AMCH-3a']/60\n",
    "amcheckin['AMCH-5'] = amcheckin['AMCH-5']/60\n",
    "\n",
    "#renaming these so they are consistent with PM Check-in\n",
    "amcheckin = amcheckin.rename(columns = \n",
    "                             { 'AMCH-1':'AMCH1',\n",
    "                              'AMCH-2':'AMCH2',\n",
    "                              'AMCH-2a':'AMCH2A',\n",
    "                              'AMCH-3':'AMCH3',\n",
    "                              'AMCH-3a':'AMCH3A',\n",
    "                              'AMCH-4':'AMCH4',\n",
    "                              'AMCH-5':'AMCH5'})"
   ]
  },
  {
   "cell_type": "markdown",
   "metadata": {},
   "source": [
    "### Filter based on age"
   ]
  },
  {
   "cell_type": "code",
   "execution_count": 11,
   "metadata": {},
   "outputs": [],
   "source": [
    "underage_participants = pd.read_csv( syn.get('syn21905452').path, sep=\"\\t\")\n",
    "amcheckin = amcheckin[~amcheckin.participantId.isin(underage_participants.participantId)]"
   ]
  },
  {
   "cell_type": "markdown",
   "metadata": {},
   "source": [
    "### Remove test accounts"
   ]
  },
  {
   "cell_type": "code",
   "execution_count": 12,
   "metadata": {},
   "outputs": [],
   "source": [
    "test_accounts = pd.read_excel(syn.get('syn21958537').path)\n",
    "\n",
    "amcheckin = amcheckin[~amcheckin.participantId.isin(test_accounts.participantId)]"
   ]
  },
  {
   "cell_type": "markdown",
   "metadata": {},
   "source": [
    "### Replace white space with NaN"
   ]
  },
  {
   "cell_type": "code",
   "execution_count": 13,
   "metadata": {},
   "outputs": [],
   "source": [
    "amcheckin = amcheckin.replace(r'^\\s*$', np.nan, regex=True)"
   ]
  },
  {
   "cell_type": "markdown",
   "metadata": {},
   "source": [
    "### Clean  AM-Checkin Data (Thresholds for outliers commented out, all data provided)."
   ]
  },
  {
   "cell_type": "markdown",
   "metadata": {},
   "source": [
    "### AMCH2A Cleaning (Sleep Onset Latency)"
   ]
  },
  {
   "cell_type": "code",
   "execution_count": 14,
   "metadata": {},
   "outputs": [
    {
     "data": {
      "text/plain": [
       "count    14544.000000\n",
       "mean        67.704277\n",
       "std         87.526330\n",
       "min          1.000000\n",
       "25%         25.000000\n",
       "50%         45.000000\n",
       "75%         70.000000\n",
       "max       1439.000000\n",
       "Name: AMCH2A, dtype: float64"
      ]
     },
     "execution_count": 14,
     "metadata": {},
     "output_type": "execute_result"
    }
   ],
   "source": [
    "amcheckin.AMCH2A.describe()"
   ]
  },
  {
   "cell_type": "code",
   "execution_count": 15,
   "metadata": {},
   "outputs": [
    {
     "data": {
      "text/plain": [
       "0.010       1.00\n",
       "0.050      10.00\n",
       "0.500      45.00\n",
       "0.600      60.00\n",
       "0.800      90.00\n",
       "0.850     120.00\n",
       "0.900     121.00\n",
       "0.950     200.00\n",
       "0.970     244.42\n",
       "0.990     409.13\n",
       "0.999    1343.85\n",
       "1.000    1439.00\n",
       "Name: AMCH2A, dtype: float64"
      ]
     },
     "execution_count": 15,
     "metadata": {},
     "output_type": "execute_result"
    }
   ],
   "source": [
    "amcheckin.AMCH2A.quantile([.01, .05, .5, .6, .8, .85, .90, .95, .97, 0.99, 0.999, 1])"
   ]
  },
  {
   "cell_type": "code",
   "execution_count": 16,
   "metadata": {},
   "outputs": [],
   "source": [
    "#exclude data above 99th percentile, which in this case is 409.13 minutes\n",
    "#amcheckin.AMCH2A[ amcheckin.AMCH2A > 409.13 ] = 'LOW DATA QUALITY'\n"
   ]
  },
  {
   "cell_type": "code",
   "execution_count": 17,
   "metadata": {},
   "outputs": [
    {
     "data": {
      "text/plain": [
       "30.0     2107\n",
       "60.0     1898\n",
       "20.0     1147\n",
       "61.0      981\n",
       "15.0      868\n",
       "45.0      741\n",
       "120.0     735\n",
       "90.0      502\n",
       "10.0      497\n",
       "121.0     466\n",
       "40.0      358\n",
       "1.0       345\n",
       "25.0      334\n",
       "180.0     259\n",
       "181.0     192\n",
       "35.0      167\n",
       "240.0     137\n",
       "150.0     120\n",
       "75.0      120\n",
       "5.0       110\n",
       "50.0       92\n",
       "241.0      76\n",
       "80.0       69\n",
       "300.0      65\n",
       "210.0      64\n",
       "105.0      60\n",
       "16.0       58\n",
       "17.0       50\n",
       "12.0       49\n",
       "70.0       48\n",
       "         ... \n",
       "164.0       1\n",
       "184.0       1\n",
       "161.0       1\n",
       "154.0       1\n",
       "147.0       1\n",
       "469.0       1\n",
       "299.0       1\n",
       "97.0        1\n",
       "413.0       1\n",
       "221.0       1\n",
       "179.0       1\n",
       "269.0       1\n",
       "965.0       1\n",
       "117.0       1\n",
       "101.0       1\n",
       "472.0       1\n",
       "256.0       1\n",
       "720.0       1\n",
       "144.0       1\n",
       "138.0       1\n",
       "476.0       1\n",
       "178.0       1\n",
       "298.0       1\n",
       "201.0       1\n",
       "129.0       1\n",
       "900.0       1\n",
       "275.0       1\n",
       "118.0       1\n",
       "503.0       1\n",
       "149.0       1\n",
       "Name: AMCH2A, Length: 259, dtype: int64"
      ]
     },
     "execution_count": 17,
     "metadata": {},
     "output_type": "execute_result"
    }
   ],
   "source": [
    "amcheckin.AMCH2A.value_counts()"
   ]
  },
  {
   "cell_type": "markdown",
   "metadata": {},
   "source": [
    "### AMCH 3 Cleaning (# of wakes during the night)"
   ]
  },
  {
   "cell_type": "code",
   "execution_count": 18,
   "metadata": {},
   "outputs": [
    {
     "data": {
      "text/plain": [
       "count      72609.000000\n",
       "mean          17.182250\n",
       "std         3729.628531\n",
       "min            0.000000\n",
       "25%            0.000000\n",
       "50%            1.000000\n",
       "75%            3.000000\n",
       "max      1000000.000000\n",
       "Name: AMCH3, dtype: float64"
      ]
     },
     "execution_count": 18,
     "metadata": {},
     "output_type": "execute_result"
    }
   ],
   "source": [
    "amcheckin.AMCH3.describe()"
   ]
  },
  {
   "cell_type": "code",
   "execution_count": 19,
   "metadata": {},
   "outputs": [
    {
     "data": {
      "text/plain": [
       "0.010          0.0\n",
       "0.050          0.0\n",
       "0.500          1.0\n",
       "0.600          2.0\n",
       "0.800          3.0\n",
       "0.850          3.0\n",
       "0.900          4.0\n",
       "0.950          5.0\n",
       "0.970          7.0\n",
       "0.990         10.0\n",
       "0.999         25.0\n",
       "1.000    1000000.0\n",
       "Name: AMCH3, dtype: float64"
      ]
     },
     "execution_count": 19,
     "metadata": {},
     "output_type": "execute_result"
    }
   ],
   "source": [
    "amcheckin.AMCH3.quantile([.01, .05, .5, .6, .8, .85, .90, .95, .97, 0.99, 0.999, 1])"
   ]
  },
  {
   "cell_type": "code",
   "execution_count": 20,
   "metadata": {},
   "outputs": [],
   "source": [
    "#exclude anything above 1400 wakes\n",
    "#amcheckin.AMCH3[ amcheckin.AMCH3 > 1400 ] = 'LOW DATA QUALITY'"
   ]
  },
  {
   "cell_type": "code",
   "execution_count": 21,
   "metadata": {},
   "outputs": [
    {
     "data": {
      "text/plain": [
       "1.0          19230\n",
       "0.0          18713\n",
       "2.0          15007\n",
       "3.0           9328\n",
       "4.0           4088\n",
       "5.0           2749\n",
       "6.0           1149\n",
       "8.0            572\n",
       "7.0            481\n",
       "10.0           443\n",
       "9.0            202\n",
       "12.0           124\n",
       "15.0           104\n",
       "11.0            94\n",
       "13.0            53\n",
       "20.0            51\n",
       "14.0            49\n",
       "16.0            31\n",
       "17.0            19\n",
       "18.0            15\n",
       "19.0            14\n",
       "25.0            14\n",
       "30.0            11\n",
       "22.0             9\n",
       "21.0             8\n",
       "28.0             6\n",
       "100.0            3\n",
       "26.0             3\n",
       "50.0             2\n",
       "34.0             2\n",
       "31.0             2\n",
       "615.0            2\n",
       "35.0             2\n",
       "400.0            2\n",
       "43.0             2\n",
       "555.0            2\n",
       "32.0             1\n",
       "99.0             1\n",
       "52.0             1\n",
       "82.0             1\n",
       "55.0             1\n",
       "100000.0         1\n",
       "800.0            1\n",
       "39.0             1\n",
       "68.0             1\n",
       "24.0             1\n",
       "1122.0           1\n",
       "87.0             1\n",
       "885.0            1\n",
       "96.0             1\n",
       "90.0             1\n",
       "36.0             1\n",
       "1000000.0        1\n",
       "45.0             1\n",
       "38.0             1\n",
       "78.0             1\n",
       "88.0             1\n",
       "1010.0           1\n",
       "1400.0           1\n",
       "Name: AMCH3, dtype: int64"
      ]
     },
     "execution_count": 21,
     "metadata": {},
     "output_type": "execute_result"
    }
   ],
   "source": [
    "amcheckin.AMCH3.value_counts()"
   ]
  },
  {
   "cell_type": "markdown",
   "metadata": {},
   "source": [
    "### AMCH3A Data Cleaning (Total Time Awake Overnight)"
   ]
  },
  {
   "cell_type": "code",
   "execution_count": 22,
   "metadata": {},
   "outputs": [
    {
     "data": {
      "text/plain": [
       "count    54065.000000\n",
       "mean        43.547785\n",
       "std         98.876173\n",
       "min          1.000000\n",
       "25%          5.000000\n",
       "50%         15.000000\n",
       "75%         45.000000\n",
       "max       1439.000000\n",
       "Name: AMCH3A, dtype: float64"
      ]
     },
     "execution_count": 22,
     "metadata": {},
     "output_type": "execute_result"
    }
   ],
   "source": [
    "amcheckin.AMCH3A.describe()"
   ]
  },
  {
   "cell_type": "code",
   "execution_count": 23,
   "metadata": {},
   "outputs": [
    {
     "data": {
      "text/plain": [
       "0.010       1.0\n",
       "0.050       1.0\n",
       "0.500      15.0\n",
       "0.600      20.0\n",
       "0.800      60.0\n",
       "0.850      61.0\n",
       "0.900      91.6\n",
       "0.950     180.0\n",
       "0.970     241.0\n",
       "0.990     450.0\n",
       "0.999    1201.0\n",
       "1.000    1439.0\n",
       "Name: AMCH3A, dtype: float64"
      ]
     },
     "execution_count": 23,
     "metadata": {},
     "output_type": "execute_result"
    }
   ],
   "source": [
    "amcheckin.AMCH3A.quantile([.01, .05, .5, .6, .8, .85, .90, .95, .97, 0.99, 0.999, 1])"
   ]
  },
  {
   "cell_type": "code",
   "execution_count": 24,
   "metadata": {},
   "outputs": [],
   "source": [
    "#exclude anything above 99th percentile, which in this case is 450 minutes\n",
    "#amcheckin.AMCH3A[ amcheckin.AMCH3A > 450 ] = 'LOW DATA QUALITY'"
   ]
  },
  {
   "cell_type": "code",
   "execution_count": 25,
   "metadata": {},
   "outputs": [
    {
     "data": {
      "text/plain": [
       "5.0       6259\n",
       "10.0      5431\n",
       "1.0       4373\n",
       "15.0      4011\n",
       "30.0      3686\n",
       "20.0      2576\n",
       "60.0      2491\n",
       "2.0       2105\n",
       "3.0       2024\n",
       "61.0      1393\n",
       "4.0       1364\n",
       "6.0       1149\n",
       "45.0      1116\n",
       "120.0      988\n",
       "90.0       822\n",
       "8.0        666\n",
       "121.0      642\n",
       "25.0       627\n",
       "7.0        609\n",
       "40.0       530\n",
       "12.0       436\n",
       "180.0      400\n",
       "9.0        344\n",
       "35.0       340\n",
       "181.0      296\n",
       "75.0       287\n",
       "11.0       280\n",
       "150.0      267\n",
       "14.0       235\n",
       "13.0       227\n",
       "          ... \n",
       "336.0        1\n",
       "472.0        1\n",
       "248.0        1\n",
       "494.0        1\n",
       "359.0        1\n",
       "310.0        1\n",
       "338.0        1\n",
       "1380.0       1\n",
       "366.0        1\n",
       "437.0        1\n",
       "468.0        1\n",
       "790.0        1\n",
       "231.0        1\n",
       "382.0        1\n",
       "233.0        1\n",
       "690.0        1\n",
       "208.0        1\n",
       "411.0        1\n",
       "182.0        1\n",
       "652.0        1\n",
       "224.0        1\n",
       "990.0        1\n",
       "413.0        1\n",
       "203.0        1\n",
       "433.0        1\n",
       "407.0        1\n",
       "378.0        1\n",
       "555.0        1\n",
       "324.0        1\n",
       "263.0        1\n",
       "Name: AMCH3A, Length: 428, dtype: int64"
      ]
     },
     "execution_count": 25,
     "metadata": {},
     "output_type": "execute_result"
    }
   ],
   "source": [
    "amcheckin.AMCH3A.value_counts()"
   ]
  },
  {
   "cell_type": "markdown",
   "metadata": {},
   "source": [
    "### AMCH5 Data Cleaning (Total Hours Slept)"
   ]
  },
  {
   "cell_type": "code",
   "execution_count": 26,
   "metadata": {},
   "outputs": [
    {
     "data": {
      "text/plain": [
       "count    54106.000000\n",
       "mean       395.307230\n",
       "std        126.233963\n",
       "min          1.000000\n",
       "25%        360.000000\n",
       "50%        420.000000\n",
       "75%        480.000000\n",
       "max       1439.000000\n",
       "Name: AMCH5, dtype: float64"
      ]
     },
     "execution_count": 26,
     "metadata": {},
     "output_type": "execute_result"
    }
   ],
   "source": [
    "amcheckin.AMCH5.describe()"
   ]
  },
  {
   "cell_type": "code",
   "execution_count": 27,
   "metadata": {},
   "outputs": [
    {
     "data": {
      "text/plain": [
       "0.010       1.0\n",
       "0.050     120.0\n",
       "0.500     420.0\n",
       "0.600     430.0\n",
       "0.800     481.0\n",
       "0.850     495.0\n",
       "0.900     522.0\n",
       "0.950     545.0\n",
       "0.970     580.0\n",
       "0.990     630.0\n",
       "0.999     781.0\n",
       "1.000    1439.0\n",
       "Name: AMCH5, dtype: float64"
      ]
     },
     "execution_count": 27,
     "metadata": {},
     "output_type": "execute_result"
    }
   ],
   "source": [
    "amcheckin.AMCH5.quantile([.01, .05, .5, .6, .8, .85, .90, .95, .97, 0.99, 0.999, 1])"
   ]
  },
  {
   "cell_type": "code",
   "execution_count": 28,
   "metadata": {},
   "outputs": [],
   "source": [
    "#exclude anything above 99th percentile 630 min (10.5 hrs, slightly more relaxed than normative data, 10h)\n",
    "#amcheckin.AMCH5[ amcheckin.AMCH5 > 630 ] = 'LOW DATA QUALITY'"
   ]
  },
  {
   "cell_type": "code",
   "execution_count": 29,
   "metadata": {},
   "outputs": [
    {
     "data": {
      "text/plain": [
       "420.0     3531\n",
       "480.0     3205\n",
       "360.0     2658\n",
       "421.0     2575\n",
       "1.0       2227\n",
       "450.0     2224\n",
       "390.0     1980\n",
       "361.0     1980\n",
       "481.0     1816\n",
       "300.0     1482\n",
       "540.0     1224\n",
       "510.0     1130\n",
       "330.0     1105\n",
       "301.0     1067\n",
       "435.0      675\n",
       "541.0      654\n",
       "405.0      630\n",
       "465.0      583\n",
       "240.0      565\n",
       "375.0      547\n",
       "270.0      525\n",
       "241.0      481\n",
       "495.0      412\n",
       "440.0      406\n",
       "600.0      380\n",
       "430.0      353\n",
       "380.0      334\n",
       "345.0      333\n",
       "570.0      325\n",
       "410.0      315\n",
       "          ... \n",
       "21.0         1\n",
       "641.0        1\n",
       "669.0        1\n",
       "23.0         1\n",
       "795.0        1\n",
       "132.0        1\n",
       "860.0        1\n",
       "136.0        1\n",
       "825.0        1\n",
       "790.0        1\n",
       "129.0        1\n",
       "76.0         1\n",
       "924.0        1\n",
       "16.0         1\n",
       "673.0        1\n",
       "153.0        1\n",
       "701.0        1\n",
       "70.0         1\n",
       "69.0         1\n",
       "1050.0       1\n",
       "760.0        1\n",
       "1387.0       1\n",
       "42.0         1\n",
       "189.0        1\n",
       "1381.0       1\n",
       "49.0         1\n",
       "689.0        1\n",
       "657.0        1\n",
       "162.0        1\n",
       "717.0        1\n",
       "Name: AMCH5, Length: 660, dtype: int64"
      ]
     },
     "execution_count": 29,
     "metadata": {},
     "output_type": "execute_result"
    }
   ],
   "source": [
    "amcheckin.AMCH5.value_counts()"
   ]
  },
  {
   "cell_type": "markdown",
   "metadata": {},
   "source": [
    "### Create Internal & External Copies of the Data"
   ]
  },
  {
   "cell_type": "code",
   "execution_count": 30,
   "metadata": {},
   "outputs": [
    {
     "data": {
      "text/plain": [
       "(49480, 9)"
      ]
     },
     "execution_count": 30,
     "metadata": {},
     "output_type": "execute_result"
    }
   ],
   "source": [
    "#download the data \n",
    "sharing_info = pd.read_excel(syn.get('syn21958546').path)\n",
    "healthCodes_with_broadsharing = sharing_info[sharing_info.sharing == 'all_qualified_researchers']\n",
    "\n",
    "EXTERNAL_AMCHECKIN_DATA = amcheckin[amcheckin.participantId.isin(healthCodes_with_broadsharing['participant id'])]\n",
    "EXTERNAL_AMCHECKIN_DATA.shape"
   ]
  },
  {
   "cell_type": "markdown",
   "metadata": {},
   "source": [
    "### Number of unique participants"
   ]
  },
  {
   "cell_type": "code",
   "execution_count": 31,
   "metadata": {},
   "outputs": [
    {
     "data": {
      "text/plain": [
       "5266"
      ]
     },
     "execution_count": 31,
     "metadata": {},
     "output_type": "execute_result"
    }
   ],
   "source": [
    "len(EXTERNAL_AMCHECKIN_DATA.participantId.unique())"
   ]
  },
  {
   "cell_type": "markdown",
   "metadata": {},
   "source": [
    "### Total number of observations"
   ]
  },
  {
   "cell_type": "code",
   "execution_count": 32,
   "metadata": {},
   "outputs": [
    {
     "data": {
      "text/plain": [
       "49480"
      ]
     },
     "execution_count": 32,
     "metadata": {},
     "output_type": "execute_result"
    }
   ],
   "source": [
    "len(EXTERNAL_AMCHECKIN_DATA)"
   ]
  },
  {
   "cell_type": "markdown",
   "metadata": {},
   "source": [
    "### External - Upload to Synapse"
   ]
  },
  {
   "cell_type": "code",
   "execution_count": 33,
   "metadata": {},
   "outputs": [
    {
     "data": {
      "text/plain": [
       "<synapseclient.table.CsvFileTable at 0x110570c90>"
      ]
     },
     "execution_count": 33,
     "metadata": {},
     "output_type": "execute_result"
    }
   ],
   "source": [
    "SH_EXTERNAL_PROJECT = 'syn18492837'\n",
    "table_schema_external = Schema(name='AM Check-in',\n",
    "                               columns=as_table_columns(EXTERNAL_AMCHECKIN_DATA),\n",
    "                               parent=SH_EXTERNAL_PROJECT)\n",
    "amcheckin_synTable_external = syn.store(Table(table_schema_external,EXTERNAL_AMCHECKIN_DATA))\n",
    "amcheckin_synTable_external"
   ]
  },
  {
   "cell_type": "markdown",
   "metadata": {},
   "source": [
    "### Internal - Upload to Synapse"
   ]
  },
  {
   "cell_type": "code",
   "execution_count": 34,
   "metadata": {},
   "outputs": [],
   "source": [
    "SH_INTERNAL_PROJECT = 'syn7066726'\n",
    "table_schema_internal = Schema(name='AM Check-in Internal',\n",
    "                               columns=as_table_columns(amcheckin), \n",
    "                               parent=SH_INTERNAL_PROJECT)\n",
    "amcheckin_synTable_internal = syn.store(Table(table_schema_internal,amcheckin))"
   ]
  },
  {
   "cell_type": "markdown",
   "metadata": {},
   "source": [
    "### Set Provenance"
   ]
  },
  {
   "cell_type": "code",
   "execution_count": 35,
   "metadata": {},
   "outputs": [
    {
     "data": {
      "text/plain": [
       "{u'createdBy': u'3334346',\n",
       " u'createdOn': u'2020-07-20T18:51:30.791Z',\n",
       " u'description': u'Process and convert raw data to table format',\n",
       " u'etag': u'56a653b5-33b7-4689-b58d-62c51f1e9bde',\n",
       " u'id': u'10282148',\n",
       " u'modifiedBy': u'3334346',\n",
       " u'modifiedOn': u'2020-07-20T18:51:30.791Z',\n",
       " u'name': u'AM Check-in data curation',\n",
       " u'used': [{u'concreteType': u'org.sagebionetworks.repo.model.provenance.UsedEntity',\n",
       "   u'reference': {u'targetId': u'syn7115672', u'targetVersionNumber': 928},\n",
       "   u'wasExecuted': False},\n",
       "  {u'concreteType': u'org.sagebionetworks.repo.model.provenance.UsedURL',\n",
       "   u'name': u'https://github.com/apratap/SleepHealth_Data_Release/blob/master/Create_AM_Checkin.ipynb',\n",
       "   u'url': u'https://github.com/apratap/SleepHealth_Data_Release/blob/master/Create_AM_Checkin.ipynb',\n",
       "   u'wasExecuted': True}]}"
      ]
     },
     "execution_count": 35,
     "metadata": {},
     "output_type": "execute_result"
    },
    {
     "data": {
      "text/plain": [
       "{u'createdBy': u'3334346',\n",
       " u'createdOn': u'2020-07-20T18:52:17.712Z',\n",
       " u'description': u'Process and convert raw data to table format',\n",
       " u'etag': u'4602334c-94ce-4352-865c-8494d1dd4bcc',\n",
       " u'id': u'10282149',\n",
       " u'modifiedBy': u'3334346',\n",
       " u'modifiedOn': u'2020-07-20T18:52:17.712Z',\n",
       " u'name': u'AM Check-in data curation',\n",
       " u'used': [{u'concreteType': u'org.sagebionetworks.repo.model.provenance.UsedEntity',\n",
       "   u'reference': {u'targetId': u'syn7115672', u'targetVersionNumber': 928},\n",
       "   u'wasExecuted': False},\n",
       "  {u'concreteType': u'org.sagebionetworks.repo.model.provenance.UsedURL',\n",
       "   u'name': u'https://github.com/apratap/SleepHealth_Data_Release/blob/master/Create_AM_Checkin.ipynb',\n",
       "   u'url': u'https://github.com/apratap/SleepHealth_Data_Release/blob/master/Create_AM_Checkin.ipynb',\n",
       "   u'wasExecuted': True}]}"
      ]
     },
     "execution_count": 35,
     "metadata": {},
     "output_type": "execute_result"
    }
   ],
   "source": [
    "activity=Activity(name= 'AM Check-in data curation', \n",
    "                  description='Process and convert raw data to table format', \n",
    "                  used=amcheckin_raw_id, \n",
    "                  executed='https://github.com/apratap/SleepHealth_Data_Release/blob/master/Create_AM_Checkin.ipynb')\n",
    "#Internal \n",
    "syn.setProvenance(amcheckin_synTable_internal, activity)\n",
    "\n",
    "#External\n",
    "syn.setProvenance(amcheckin_synTable_external, activity)"
   ]
  }
 ],
 "metadata": {
  "kernelspec": {
   "display_name": "Python 2",
   "language": "python",
   "name": "python2"
  },
  "language_info": {
   "codemirror_mode": {
    "name": "ipython",
    "version": 2
   },
   "file_extension": ".py",
   "mimetype": "text/x-python",
   "name": "python",
   "nbconvert_exporter": "python",
   "pygments_lexer": "ipython2",
   "version": "2.7.17"
  },
  "varInspector": {
   "cols": {
    "lenName": 16,
    "lenType": 16,
    "lenVar": 40
   },
   "kernels_config": {
    "python": {
     "delete_cmd_postfix": "",
     "delete_cmd_prefix": "del ",
     "library": "var_list.py",
     "varRefreshCmd": "print(var_dic_list())"
    },
    "r": {
     "delete_cmd_postfix": ") ",
     "delete_cmd_prefix": "rm(",
     "library": "var_list.r",
     "varRefreshCmd": "cat(var_dic_list()) "
    }
   },
   "types_to_exclude": [
    "module",
    "function",
    "builtin_function_or_method",
    "instance",
    "_Feature"
   ],
   "window_display": false
  }
 },
 "nbformat": 4,
 "nbformat_minor": 2
}
